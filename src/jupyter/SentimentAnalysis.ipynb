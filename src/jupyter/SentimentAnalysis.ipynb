{
 "cells": [
  {
   "cell_type": "code",
   "execution_count": 1,
   "metadata": {},
   "outputs": [],
   "source": [
    "using Pkg, CSV, DataFrames, Word2Vec, Languages, MLDataUtils, WordTokenizers, Random, LIBSVM, Statistics, JLD"
   ]
  },
  {
   "cell_type": "code",
   "execution_count": 2,
   "metadata": {},
   "outputs": [
    {
     "data": {
      "text/html": [
       "<table class=\"data-frame\"><thead><tr><th></th><th>_0</th><th>_1467810369</th><th>Mon_Apr_06_22_19_45_PDT_2009</th><th>NO_QUERY</th><th>_TheSpecialOne_</th><th>_switchfoot_http_twitpic_com_2y1zl_Awww_that_s_a_bummer_You_shoulda_got_David_Carr_of_Third_Day_to_do_it_D</th></tr><tr><th></th><th>Int64</th><th>Int64</th><th>String</th><th>String</th><th>String</th><th>String</th></tr></thead><tbody><p>6 rows × 6 columns</p><tr><th>1</th><td>0</td><td>1467810672</td><td>Mon Apr 06 22:19:49 PDT 2009</td><td>NO_QUERY</td><td>scotthamilton</td><td>is upset that he can't update his Facebook by texting it... and might cry as a result  School today also. Blah!</td></tr><tr><th>2</th><td>0</td><td>1467810917</td><td>Mon Apr 06 22:19:53 PDT 2009</td><td>NO_QUERY</td><td>mattycus</td><td>@Kenichan I dived many times for the ball. Managed to save 50%  The rest go out of bounds</td></tr><tr><th>3</th><td>0</td><td>1467811184</td><td>Mon Apr 06 22:19:57 PDT 2009</td><td>NO_QUERY</td><td>ElleCTF</td><td>my whole body feels itchy and like its on fire </td></tr><tr><th>4</th><td>0</td><td>1467811193</td><td>Mon Apr 06 22:19:57 PDT 2009</td><td>NO_QUERY</td><td>Karoli</td><td>@nationwideclass no, it's not behaving at all. i'm mad. why am i here? because I can't see you all over there. </td></tr><tr><th>5</th><td>0</td><td>1467811372</td><td>Mon Apr 06 22:20:00 PDT 2009</td><td>NO_QUERY</td><td>joy_wolf</td><td>@Kwesidei not the whole crew </td></tr><tr><th>6</th><td>0</td><td>1467811592</td><td>Mon Apr 06 22:20:03 PDT 2009</td><td>NO_QUERY</td><td>mybirch</td><td>Need a hug </td></tr></tbody></table>"
      ],
      "text/latex": [
       "\\begin{tabular}{r|cccccc}\n",
       "\t& \\_0 & \\_1467810369 & Mon\\_Apr\\_06\\_22\\_19\\_45\\_PDT\\_2009 & NO\\_QUERY & \\_TheSpecialOne\\_ & \\_switchfoot\\_http\\_twitpic\\_com\\_2y1zl\\_Awww\\_that\\_s\\_a\\_bummer\\_You\\_shoulda\\_got\\_David\\_Carr\\_of\\_Third\\_Day\\_to\\_do\\_it\\_D\\\\\n",
       "\t\\hline\n",
       "\t& Int64 & Int64 & String & String & String & String\\\\\n",
       "\t\\hline\n",
       "\t1 & 0 & 1467810672 & Mon Apr 06 22:19:49 PDT 2009 & NO\\_QUERY & scotthamilton & is upset that he can't update his Facebook by texting it... and might cry as a result  School today also. Blah! \\\\\n",
       "\t2 & 0 & 1467810917 & Mon Apr 06 22:19:53 PDT 2009 & NO\\_QUERY & mattycus & @Kenichan I dived many times for the ball. Managed to save 50\\%  The rest go out of bounds \\\\\n",
       "\t3 & 0 & 1467811184 & Mon Apr 06 22:19:57 PDT 2009 & NO\\_QUERY & ElleCTF & my whole body feels itchy and like its on fire  \\\\\n",
       "\t4 & 0 & 1467811193 & Mon Apr 06 22:19:57 PDT 2009 & NO\\_QUERY & Karoli & @nationwideclass no, it's not behaving at all. i'm mad. why am i here? because I can't see you all over there.  \\\\\n",
       "\t5 & 0 & 1467811372 & Mon Apr 06 22:20:00 PDT 2009 & NO\\_QUERY & joy\\_wolf & @Kwesidei not the whole crew  \\\\\n",
       "\t6 & 0 & 1467811592 & Mon Apr 06 22:20:03 PDT 2009 & NO\\_QUERY & mybirch & Need a hug  \\\\\n",
       "\\end{tabular}\n"
      ],
      "text/plain": [
       "6×6 DataFrame. Omitted printing of 2 columns\n",
       "│ Row │ _0    │ _1467810369 │ Mon_Apr_06_22_19_45_PDT_2009 │ NO_QUERY │\n",
       "│     │ \u001b[90mInt64\u001b[39m │ \u001b[90mInt64\u001b[39m       │ \u001b[90mString\u001b[39m                       │ \u001b[90mString\u001b[39m   │\n",
       "├─────┼───────┼─────────────┼──────────────────────────────┼──────────┤\n",
       "│ 1   │ 0     │ 1467810672  │ Mon Apr 06 22:19:49 PDT 2009 │ NO_QUERY │\n",
       "│ 2   │ 0     │ 1467810917  │ Mon Apr 06 22:19:53 PDT 2009 │ NO_QUERY │\n",
       "│ 3   │ 0     │ 1467811184  │ Mon Apr 06 22:19:57 PDT 2009 │ NO_QUERY │\n",
       "│ 4   │ 0     │ 1467811193  │ Mon Apr 06 22:19:57 PDT 2009 │ NO_QUERY │\n",
       "│ 5   │ 0     │ 1467811372  │ Mon Apr 06 22:20:00 PDT 2009 │ NO_QUERY │\n",
       "│ 6   │ 0     │ 1467811592  │ Mon Apr 06 22:20:03 PDT 2009 │ NO_QUERY │"
      ]
     },
     "execution_count": 2,
     "metadata": {},
     "output_type": "execute_result"
    }
   ],
   "source": [
    "path = \"../../data/train.csv\"\n",
    "df = DataFrame(CSV.read(path, normalizenames = true))\n",
    "head(df)"
   ]
  },
  {
   "cell_type": "markdown",
   "metadata": {},
   "source": [
    "### Preproccess data"
   ]
  },
  {
   "cell_type": "code",
   "execution_count": 3,
   "metadata": {},
   "outputs": [
    {
     "data": {
      "text/html": [
       "<table class=\"data-frame\"><thead><tr><th></th><th>class_label</th><th>id</th><th>date</th><th>flag</th><th>userid</th></tr><tr><th></th><th>Int64</th><th>Int64</th><th>String</th><th>String</th><th>String</th></tr></thead><tbody><p>1,599,999 rows × 6 columns (omitted printing of 1 columns)</p><tr><th>1</th><td>0</td><td>1467810672</td><td>Mon Apr 06 22:19:49 PDT 2009</td><td>NO_QUERY</td><td>scotthamilton</td></tr><tr><th>2</th><td>0</td><td>1467810917</td><td>Mon Apr 06 22:19:53 PDT 2009</td><td>NO_QUERY</td><td>mattycus</td></tr><tr><th>3</th><td>0</td><td>1467811184</td><td>Mon Apr 06 22:19:57 PDT 2009</td><td>NO_QUERY</td><td>ElleCTF</td></tr><tr><th>4</th><td>0</td><td>1467811193</td><td>Mon Apr 06 22:19:57 PDT 2009</td><td>NO_QUERY</td><td>Karoli</td></tr><tr><th>5</th><td>0</td><td>1467811372</td><td>Mon Apr 06 22:20:00 PDT 2009</td><td>NO_QUERY</td><td>joy_wolf</td></tr><tr><th>6</th><td>0</td><td>1467811592</td><td>Mon Apr 06 22:20:03 PDT 2009</td><td>NO_QUERY</td><td>mybirch</td></tr><tr><th>7</th><td>0</td><td>1467811594</td><td>Mon Apr 06 22:20:03 PDT 2009</td><td>NO_QUERY</td><td>coZZ</td></tr><tr><th>8</th><td>0</td><td>1467811795</td><td>Mon Apr 06 22:20:05 PDT 2009</td><td>NO_QUERY</td><td>2Hood4Hollywood</td></tr><tr><th>9</th><td>0</td><td>1467812025</td><td>Mon Apr 06 22:20:09 PDT 2009</td><td>NO_QUERY</td><td>mimismo</td></tr><tr><th>10</th><td>0</td><td>1467812416</td><td>Mon Apr 06 22:20:16 PDT 2009</td><td>NO_QUERY</td><td>erinx3leannexo</td></tr><tr><th>11</th><td>0</td><td>1467812579</td><td>Mon Apr 06 22:20:17 PDT 2009</td><td>NO_QUERY</td><td>pardonlauren</td></tr><tr><th>12</th><td>0</td><td>1467812723</td><td>Mon Apr 06 22:20:19 PDT 2009</td><td>NO_QUERY</td><td>TLeC</td></tr><tr><th>13</th><td>0</td><td>1467812771</td><td>Mon Apr 06 22:20:19 PDT 2009</td><td>NO_QUERY</td><td>robrobbierobert</td></tr><tr><th>14</th><td>0</td><td>1467812784</td><td>Mon Apr 06 22:20:20 PDT 2009</td><td>NO_QUERY</td><td>bayofwolves</td></tr><tr><th>15</th><td>0</td><td>1467812799</td><td>Mon Apr 06 22:20:20 PDT 2009</td><td>NO_QUERY</td><td>HairByJess</td></tr><tr><th>16</th><td>0</td><td>1467812964</td><td>Mon Apr 06 22:20:22 PDT 2009</td><td>NO_QUERY</td><td>lovesongwriter</td></tr><tr><th>17</th><td>0</td><td>1467813137</td><td>Mon Apr 06 22:20:25 PDT 2009</td><td>NO_QUERY</td><td>armotley</td></tr><tr><th>18</th><td>0</td><td>1467813579</td><td>Mon Apr 06 22:20:31 PDT 2009</td><td>NO_QUERY</td><td>starkissed</td></tr><tr><th>19</th><td>0</td><td>1467813782</td><td>Mon Apr 06 22:20:34 PDT 2009</td><td>NO_QUERY</td><td>gi_gi_bee</td></tr><tr><th>20</th><td>0</td><td>1467813985</td><td>Mon Apr 06 22:20:37 PDT 2009</td><td>NO_QUERY</td><td>quanvu</td></tr><tr><th>21</th><td>0</td><td>1467813992</td><td>Mon Apr 06 22:20:38 PDT 2009</td><td>NO_QUERY</td><td>swinspeedx</td></tr><tr><th>22</th><td>0</td><td>1467814119</td><td>Mon Apr 06 22:20:40 PDT 2009</td><td>NO_QUERY</td><td>cooliodoc</td></tr><tr><th>23</th><td>0</td><td>1467814180</td><td>Mon Apr 06 22:20:40 PDT 2009</td><td>NO_QUERY</td><td>viJILLante</td></tr><tr><th>24</th><td>0</td><td>1467814192</td><td>Mon Apr 06 22:20:41 PDT 2009</td><td>NO_QUERY</td><td>Ljelli3166</td></tr><tr><th>25</th><td>0</td><td>1467814438</td><td>Mon Apr 06 22:20:44 PDT 2009</td><td>NO_QUERY</td><td>ChicagoCubbie</td></tr><tr><th>26</th><td>0</td><td>1467814783</td><td>Mon Apr 06 22:20:50 PDT 2009</td><td>NO_QUERY</td><td>KatieAngell</td></tr><tr><th>27</th><td>0</td><td>1467814883</td><td>Mon Apr 06 22:20:52 PDT 2009</td><td>NO_QUERY</td><td>gagoo</td></tr><tr><th>28</th><td>0</td><td>1467815199</td><td>Mon Apr 06 22:20:56 PDT 2009</td><td>NO_QUERY</td><td>abel209</td></tr><tr><th>29</th><td>0</td><td>1467815753</td><td>Mon Apr 06 22:21:04 PDT 2009</td><td>NO_QUERY</td><td>BaptisteTheFool</td></tr><tr><th>30</th><td>0</td><td>1467815923</td><td>Mon Apr 06 22:21:07 PDT 2009</td><td>NO_QUERY</td><td>fatkat309</td></tr><tr><th>&vellip;</th><td>&vellip;</td><td>&vellip;</td><td>&vellip;</td><td>&vellip;</td><td>&vellip;</td></tr></tbody></table>"
      ],
      "text/latex": [
       "\\begin{tabular}{r|cccccc}\n",
       "\t& class\\_label & id & date & flag & userid & \\\\\n",
       "\t\\hline\n",
       "\t& Int64 & Int64 & String & String & String & \\\\\n",
       "\t\\hline\n",
       "\t1 & 0 & 1467810672 & Mon Apr 06 22:19:49 PDT 2009 & NO\\_QUERY & scotthamilton & $\\dots$ \\\\\n",
       "\t2 & 0 & 1467810917 & Mon Apr 06 22:19:53 PDT 2009 & NO\\_QUERY & mattycus & $\\dots$ \\\\\n",
       "\t3 & 0 & 1467811184 & Mon Apr 06 22:19:57 PDT 2009 & NO\\_QUERY & ElleCTF & $\\dots$ \\\\\n",
       "\t4 & 0 & 1467811193 & Mon Apr 06 22:19:57 PDT 2009 & NO\\_QUERY & Karoli & $\\dots$ \\\\\n",
       "\t5 & 0 & 1467811372 & Mon Apr 06 22:20:00 PDT 2009 & NO\\_QUERY & joy\\_wolf & $\\dots$ \\\\\n",
       "\t6 & 0 & 1467811592 & Mon Apr 06 22:20:03 PDT 2009 & NO\\_QUERY & mybirch & $\\dots$ \\\\\n",
       "\t7 & 0 & 1467811594 & Mon Apr 06 22:20:03 PDT 2009 & NO\\_QUERY & coZZ & $\\dots$ \\\\\n",
       "\t8 & 0 & 1467811795 & Mon Apr 06 22:20:05 PDT 2009 & NO\\_QUERY & 2Hood4Hollywood & $\\dots$ \\\\\n",
       "\t9 & 0 & 1467812025 & Mon Apr 06 22:20:09 PDT 2009 & NO\\_QUERY & mimismo & $\\dots$ \\\\\n",
       "\t10 & 0 & 1467812416 & Mon Apr 06 22:20:16 PDT 2009 & NO\\_QUERY & erinx3leannexo & $\\dots$ \\\\\n",
       "\t11 & 0 & 1467812579 & Mon Apr 06 22:20:17 PDT 2009 & NO\\_QUERY & pardonlauren & $\\dots$ \\\\\n",
       "\t12 & 0 & 1467812723 & Mon Apr 06 22:20:19 PDT 2009 & NO\\_QUERY & TLeC & $\\dots$ \\\\\n",
       "\t13 & 0 & 1467812771 & Mon Apr 06 22:20:19 PDT 2009 & NO\\_QUERY & robrobbierobert & $\\dots$ \\\\\n",
       "\t14 & 0 & 1467812784 & Mon Apr 06 22:20:20 PDT 2009 & NO\\_QUERY & bayofwolves & $\\dots$ \\\\\n",
       "\t15 & 0 & 1467812799 & Mon Apr 06 22:20:20 PDT 2009 & NO\\_QUERY & HairByJess & $\\dots$ \\\\\n",
       "\t16 & 0 & 1467812964 & Mon Apr 06 22:20:22 PDT 2009 & NO\\_QUERY & lovesongwriter & $\\dots$ \\\\\n",
       "\t17 & 0 & 1467813137 & Mon Apr 06 22:20:25 PDT 2009 & NO\\_QUERY & armotley & $\\dots$ \\\\\n",
       "\t18 & 0 & 1467813579 & Mon Apr 06 22:20:31 PDT 2009 & NO\\_QUERY & starkissed & $\\dots$ \\\\\n",
       "\t19 & 0 & 1467813782 & Mon Apr 06 22:20:34 PDT 2009 & NO\\_QUERY & gi\\_gi\\_bee & $\\dots$ \\\\\n",
       "\t20 & 0 & 1467813985 & Mon Apr 06 22:20:37 PDT 2009 & NO\\_QUERY & quanvu & $\\dots$ \\\\\n",
       "\t21 & 0 & 1467813992 & Mon Apr 06 22:20:38 PDT 2009 & NO\\_QUERY & swinspeedx & $\\dots$ \\\\\n",
       "\t22 & 0 & 1467814119 & Mon Apr 06 22:20:40 PDT 2009 & NO\\_QUERY & cooliodoc & $\\dots$ \\\\\n",
       "\t23 & 0 & 1467814180 & Mon Apr 06 22:20:40 PDT 2009 & NO\\_QUERY & viJILLante & $\\dots$ \\\\\n",
       "\t24 & 0 & 1467814192 & Mon Apr 06 22:20:41 PDT 2009 & NO\\_QUERY & Ljelli3166 & $\\dots$ \\\\\n",
       "\t25 & 0 & 1467814438 & Mon Apr 06 22:20:44 PDT 2009 & NO\\_QUERY & ChicagoCubbie & $\\dots$ \\\\\n",
       "\t26 & 0 & 1467814783 & Mon Apr 06 22:20:50 PDT 2009 & NO\\_QUERY & KatieAngell & $\\dots$ \\\\\n",
       "\t27 & 0 & 1467814883 & Mon Apr 06 22:20:52 PDT 2009 & NO\\_QUERY & gagoo & $\\dots$ \\\\\n",
       "\t28 & 0 & 1467815199 & Mon Apr 06 22:20:56 PDT 2009 & NO\\_QUERY & abel209 & $\\dots$ \\\\\n",
       "\t29 & 0 & 1467815753 & Mon Apr 06 22:21:04 PDT 2009 & NO\\_QUERY & BaptisteTheFool & $\\dots$ \\\\\n",
       "\t30 & 0 & 1467815923 & Mon Apr 06 22:21:07 PDT 2009 & NO\\_QUERY & fatkat309 & $\\dots$ \\\\\n",
       "\t$\\dots$ & $\\dots$ & $\\dots$ & $\\dots$ & $\\dots$ & $\\dots$ &  \\\\\n",
       "\\end{tabular}\n"
      ],
      "text/plain": [
       "1599999×6 DataFrame. Omitted printing of 2 columns\n",
       "│ Row     │ class_label │ id         │ date                         │ flag     │\n",
       "│         │ \u001b[90mInt64\u001b[39m       │ \u001b[90mInt64\u001b[39m      │ \u001b[90mString\u001b[39m                       │ \u001b[90mString\u001b[39m   │\n",
       "├─────────┼─────────────┼────────────┼──────────────────────────────┼──────────┤\n",
       "│ 1       │ 0           │ 1467810672 │ Mon Apr 06 22:19:49 PDT 2009 │ NO_QUERY │\n",
       "│ 2       │ 0           │ 1467810917 │ Mon Apr 06 22:19:53 PDT 2009 │ NO_QUERY │\n",
       "│ 3       │ 0           │ 1467811184 │ Mon Apr 06 22:19:57 PDT 2009 │ NO_QUERY │\n",
       "│ 4       │ 0           │ 1467811193 │ Mon Apr 06 22:19:57 PDT 2009 │ NO_QUERY │\n",
       "│ 5       │ 0           │ 1467811372 │ Mon Apr 06 22:20:00 PDT 2009 │ NO_QUERY │\n",
       "│ 6       │ 0           │ 1467811592 │ Mon Apr 06 22:20:03 PDT 2009 │ NO_QUERY │\n",
       "│ 7       │ 0           │ 1467811594 │ Mon Apr 06 22:20:03 PDT 2009 │ NO_QUERY │\n",
       "│ 8       │ 0           │ 1467811795 │ Mon Apr 06 22:20:05 PDT 2009 │ NO_QUERY │\n",
       "│ 9       │ 0           │ 1467812025 │ Mon Apr 06 22:20:09 PDT 2009 │ NO_QUERY │\n",
       "│ 10      │ 0           │ 1467812416 │ Mon Apr 06 22:20:16 PDT 2009 │ NO_QUERY │\n",
       "⋮\n",
       "│ 1599989 │ 4           │ 2193579211 │ Tue Jun 16 08:38:59 PDT 2009 │ NO_QUERY │\n",
       "│ 1599990 │ 4           │ 2193579249 │ Tue Jun 16 08:38:59 PDT 2009 │ NO_QUERY │\n",
       "│ 1599991 │ 4           │ 2193579284 │ Tue Jun 16 08:38:59 PDT 2009 │ NO_QUERY │\n",
       "│ 1599992 │ 4           │ 2193579434 │ Tue Jun 16 08:39:00 PDT 2009 │ NO_QUERY │\n",
       "│ 1599993 │ 4           │ 2193579477 │ Tue Jun 16 08:39:00 PDT 2009 │ NO_QUERY │\n",
       "│ 1599994 │ 4           │ 2193579489 │ Tue Jun 16 08:39:00 PDT 2009 │ NO_QUERY │\n",
       "│ 1599995 │ 4           │ 2193601966 │ Tue Jun 16 08:40:49 PDT 2009 │ NO_QUERY │\n",
       "│ 1599996 │ 4           │ 2193601969 │ Tue Jun 16 08:40:49 PDT 2009 │ NO_QUERY │\n",
       "│ 1599997 │ 4           │ 2193601991 │ Tue Jun 16 08:40:49 PDT 2009 │ NO_QUERY │\n",
       "│ 1599998 │ 4           │ 2193602064 │ Tue Jun 16 08:40:49 PDT 2009 │ NO_QUERY │\n",
       "│ 1599999 │ 4           │ 2193602129 │ Tue Jun 16 08:40:50 PDT 2009 │ NO_QUERY │"
      ]
     },
     "execution_count": 3,
     "metadata": {},
     "output_type": "execute_result"
    }
   ],
   "source": [
    "rename!(df,:_0 => :\"class_label\")\n",
    "rename!(df,:_1467810369 => :\"id\")\n",
    "rename!(df,:Mon_Apr_06_22_19_45_PDT_2009 => :\"date\")\n",
    "rename!(df,:NO_QUERY => :\"flag\")\n",
    "rename!(df,:_TheSpecialOne_ => :\"userid\")\n",
    "rename!(df,:_switchfoot_http_twitpic_com_2y1zl_Awww_that_s_a_bummer_You_shoulda_got_David_Carr_of_Third_Day_to_do_it_D => :\"tweet\")"
   ]
  },
  {
   "cell_type": "code",
   "execution_count": 4,
   "metadata": {},
   "outputs": [
    {
     "data": {
      "text/plain": [
       "1599999-element Array{Int64,1}:\n",
       " -1\n",
       " -1\n",
       " -1\n",
       " -1\n",
       " -1\n",
       " -1\n",
       " -1\n",
       " -1\n",
       " -1\n",
       " -1\n",
       " -1\n",
       " -1\n",
       " -1\n",
       "  ⋮\n",
       "  1\n",
       "  1\n",
       "  1\n",
       "  1\n",
       "  1\n",
       "  1\n",
       "  1\n",
       "  1\n",
       "  1\n",
       "  1\n",
       "  1\n",
       "  1"
      ]
     },
     "execution_count": 4,
     "metadata": {},
     "output_type": "execute_result"
    }
   ],
   "source": [
    "df.class_label = replace!(df.class_label, 0 => -1)\n",
    "df.class_label = replace!(df.class_label, 4 => 1)"
   ]
  },
  {
   "cell_type": "code",
   "execution_count": 5,
   "metadata": {},
   "outputs": [
    {
     "data": {
      "text/html": [
       "<table class=\"data-frame\"><thead><tr><th></th><th>class_label</th><th>id</th><th>date</th><th>flag</th><th>userid</th></tr><tr><th></th><th>Int64</th><th>Int64</th><th>String</th><th>String</th><th>String</th></tr></thead><tbody><p>1,599,999 rows × 6 columns (omitted printing of 1 columns)</p><tr><th>1</th><td>-1</td><td>1467810672</td><td>Mon Apr 06 22:19:49 PDT 2009</td><td>NO_QUERY</td><td>scotthamilton</td></tr><tr><th>2</th><td>-1</td><td>1467810917</td><td>Mon Apr 06 22:19:53 PDT 2009</td><td>NO_QUERY</td><td>mattycus</td></tr><tr><th>3</th><td>-1</td><td>1467811184</td><td>Mon Apr 06 22:19:57 PDT 2009</td><td>NO_QUERY</td><td>ElleCTF</td></tr><tr><th>4</th><td>-1</td><td>1467811193</td><td>Mon Apr 06 22:19:57 PDT 2009</td><td>NO_QUERY</td><td>Karoli</td></tr><tr><th>5</th><td>-1</td><td>1467811372</td><td>Mon Apr 06 22:20:00 PDT 2009</td><td>NO_QUERY</td><td>joy_wolf</td></tr><tr><th>6</th><td>-1</td><td>1467811592</td><td>Mon Apr 06 22:20:03 PDT 2009</td><td>NO_QUERY</td><td>mybirch</td></tr><tr><th>7</th><td>-1</td><td>1467811594</td><td>Mon Apr 06 22:20:03 PDT 2009</td><td>NO_QUERY</td><td>coZZ</td></tr><tr><th>8</th><td>-1</td><td>1467811795</td><td>Mon Apr 06 22:20:05 PDT 2009</td><td>NO_QUERY</td><td>2Hood4Hollywood</td></tr><tr><th>9</th><td>-1</td><td>1467812025</td><td>Mon Apr 06 22:20:09 PDT 2009</td><td>NO_QUERY</td><td>mimismo</td></tr><tr><th>10</th><td>-1</td><td>1467812416</td><td>Mon Apr 06 22:20:16 PDT 2009</td><td>NO_QUERY</td><td>erinx3leannexo</td></tr><tr><th>11</th><td>-1</td><td>1467812579</td><td>Mon Apr 06 22:20:17 PDT 2009</td><td>NO_QUERY</td><td>pardonlauren</td></tr><tr><th>12</th><td>-1</td><td>1467812723</td><td>Mon Apr 06 22:20:19 PDT 2009</td><td>NO_QUERY</td><td>TLeC</td></tr><tr><th>13</th><td>-1</td><td>1467812771</td><td>Mon Apr 06 22:20:19 PDT 2009</td><td>NO_QUERY</td><td>robrobbierobert</td></tr><tr><th>14</th><td>-1</td><td>1467812784</td><td>Mon Apr 06 22:20:20 PDT 2009</td><td>NO_QUERY</td><td>bayofwolves</td></tr><tr><th>15</th><td>-1</td><td>1467812799</td><td>Mon Apr 06 22:20:20 PDT 2009</td><td>NO_QUERY</td><td>HairByJess</td></tr><tr><th>16</th><td>-1</td><td>1467812964</td><td>Mon Apr 06 22:20:22 PDT 2009</td><td>NO_QUERY</td><td>lovesongwriter</td></tr><tr><th>17</th><td>-1</td><td>1467813137</td><td>Mon Apr 06 22:20:25 PDT 2009</td><td>NO_QUERY</td><td>armotley</td></tr><tr><th>18</th><td>-1</td><td>1467813579</td><td>Mon Apr 06 22:20:31 PDT 2009</td><td>NO_QUERY</td><td>starkissed</td></tr><tr><th>19</th><td>-1</td><td>1467813782</td><td>Mon Apr 06 22:20:34 PDT 2009</td><td>NO_QUERY</td><td>gi_gi_bee</td></tr><tr><th>20</th><td>-1</td><td>1467813985</td><td>Mon Apr 06 22:20:37 PDT 2009</td><td>NO_QUERY</td><td>quanvu</td></tr><tr><th>21</th><td>-1</td><td>1467813992</td><td>Mon Apr 06 22:20:38 PDT 2009</td><td>NO_QUERY</td><td>swinspeedx</td></tr><tr><th>22</th><td>-1</td><td>1467814119</td><td>Mon Apr 06 22:20:40 PDT 2009</td><td>NO_QUERY</td><td>cooliodoc</td></tr><tr><th>23</th><td>-1</td><td>1467814180</td><td>Mon Apr 06 22:20:40 PDT 2009</td><td>NO_QUERY</td><td>viJILLante</td></tr><tr><th>24</th><td>-1</td><td>1467814192</td><td>Mon Apr 06 22:20:41 PDT 2009</td><td>NO_QUERY</td><td>Ljelli3166</td></tr><tr><th>25</th><td>-1</td><td>1467814438</td><td>Mon Apr 06 22:20:44 PDT 2009</td><td>NO_QUERY</td><td>ChicagoCubbie</td></tr><tr><th>26</th><td>-1</td><td>1467814783</td><td>Mon Apr 06 22:20:50 PDT 2009</td><td>NO_QUERY</td><td>KatieAngell</td></tr><tr><th>27</th><td>-1</td><td>1467814883</td><td>Mon Apr 06 22:20:52 PDT 2009</td><td>NO_QUERY</td><td>gagoo</td></tr><tr><th>28</th><td>-1</td><td>1467815199</td><td>Mon Apr 06 22:20:56 PDT 2009</td><td>NO_QUERY</td><td>abel209</td></tr><tr><th>29</th><td>-1</td><td>1467815753</td><td>Mon Apr 06 22:21:04 PDT 2009</td><td>NO_QUERY</td><td>BaptisteTheFool</td></tr><tr><th>30</th><td>-1</td><td>1467815923</td><td>Mon Apr 06 22:21:07 PDT 2009</td><td>NO_QUERY</td><td>fatkat309</td></tr><tr><th>&vellip;</th><td>&vellip;</td><td>&vellip;</td><td>&vellip;</td><td>&vellip;</td><td>&vellip;</td></tr></tbody></table>"
      ],
      "text/latex": [
       "\\begin{tabular}{r|cccccc}\n",
       "\t& class\\_label & id & date & flag & userid & \\\\\n",
       "\t\\hline\n",
       "\t& Int64 & Int64 & String & String & String & \\\\\n",
       "\t\\hline\n",
       "\t1 & -1 & 1467810672 & Mon Apr 06 22:19:49 PDT 2009 & NO\\_QUERY & scotthamilton & $\\dots$ \\\\\n",
       "\t2 & -1 & 1467810917 & Mon Apr 06 22:19:53 PDT 2009 & NO\\_QUERY & mattycus & $\\dots$ \\\\\n",
       "\t3 & -1 & 1467811184 & Mon Apr 06 22:19:57 PDT 2009 & NO\\_QUERY & ElleCTF & $\\dots$ \\\\\n",
       "\t4 & -1 & 1467811193 & Mon Apr 06 22:19:57 PDT 2009 & NO\\_QUERY & Karoli & $\\dots$ \\\\\n",
       "\t5 & -1 & 1467811372 & Mon Apr 06 22:20:00 PDT 2009 & NO\\_QUERY & joy\\_wolf & $\\dots$ \\\\\n",
       "\t6 & -1 & 1467811592 & Mon Apr 06 22:20:03 PDT 2009 & NO\\_QUERY & mybirch & $\\dots$ \\\\\n",
       "\t7 & -1 & 1467811594 & Mon Apr 06 22:20:03 PDT 2009 & NO\\_QUERY & coZZ & $\\dots$ \\\\\n",
       "\t8 & -1 & 1467811795 & Mon Apr 06 22:20:05 PDT 2009 & NO\\_QUERY & 2Hood4Hollywood & $\\dots$ \\\\\n",
       "\t9 & -1 & 1467812025 & Mon Apr 06 22:20:09 PDT 2009 & NO\\_QUERY & mimismo & $\\dots$ \\\\\n",
       "\t10 & -1 & 1467812416 & Mon Apr 06 22:20:16 PDT 2009 & NO\\_QUERY & erinx3leannexo & $\\dots$ \\\\\n",
       "\t11 & -1 & 1467812579 & Mon Apr 06 22:20:17 PDT 2009 & NO\\_QUERY & pardonlauren & $\\dots$ \\\\\n",
       "\t12 & -1 & 1467812723 & Mon Apr 06 22:20:19 PDT 2009 & NO\\_QUERY & TLeC & $\\dots$ \\\\\n",
       "\t13 & -1 & 1467812771 & Mon Apr 06 22:20:19 PDT 2009 & NO\\_QUERY & robrobbierobert & $\\dots$ \\\\\n",
       "\t14 & -1 & 1467812784 & Mon Apr 06 22:20:20 PDT 2009 & NO\\_QUERY & bayofwolves & $\\dots$ \\\\\n",
       "\t15 & -1 & 1467812799 & Mon Apr 06 22:20:20 PDT 2009 & NO\\_QUERY & HairByJess & $\\dots$ \\\\\n",
       "\t16 & -1 & 1467812964 & Mon Apr 06 22:20:22 PDT 2009 & NO\\_QUERY & lovesongwriter & $\\dots$ \\\\\n",
       "\t17 & -1 & 1467813137 & Mon Apr 06 22:20:25 PDT 2009 & NO\\_QUERY & armotley & $\\dots$ \\\\\n",
       "\t18 & -1 & 1467813579 & Mon Apr 06 22:20:31 PDT 2009 & NO\\_QUERY & starkissed & $\\dots$ \\\\\n",
       "\t19 & -1 & 1467813782 & Mon Apr 06 22:20:34 PDT 2009 & NO\\_QUERY & gi\\_gi\\_bee & $\\dots$ \\\\\n",
       "\t20 & -1 & 1467813985 & Mon Apr 06 22:20:37 PDT 2009 & NO\\_QUERY & quanvu & $\\dots$ \\\\\n",
       "\t21 & -1 & 1467813992 & Mon Apr 06 22:20:38 PDT 2009 & NO\\_QUERY & swinspeedx & $\\dots$ \\\\\n",
       "\t22 & -1 & 1467814119 & Mon Apr 06 22:20:40 PDT 2009 & NO\\_QUERY & cooliodoc & $\\dots$ \\\\\n",
       "\t23 & -1 & 1467814180 & Mon Apr 06 22:20:40 PDT 2009 & NO\\_QUERY & viJILLante & $\\dots$ \\\\\n",
       "\t24 & -1 & 1467814192 & Mon Apr 06 22:20:41 PDT 2009 & NO\\_QUERY & Ljelli3166 & $\\dots$ \\\\\n",
       "\t25 & -1 & 1467814438 & Mon Apr 06 22:20:44 PDT 2009 & NO\\_QUERY & ChicagoCubbie & $\\dots$ \\\\\n",
       "\t26 & -1 & 1467814783 & Mon Apr 06 22:20:50 PDT 2009 & NO\\_QUERY & KatieAngell & $\\dots$ \\\\\n",
       "\t27 & -1 & 1467814883 & Mon Apr 06 22:20:52 PDT 2009 & NO\\_QUERY & gagoo & $\\dots$ \\\\\n",
       "\t28 & -1 & 1467815199 & Mon Apr 06 22:20:56 PDT 2009 & NO\\_QUERY & abel209 & $\\dots$ \\\\\n",
       "\t29 & -1 & 1467815753 & Mon Apr 06 22:21:04 PDT 2009 & NO\\_QUERY & BaptisteTheFool & $\\dots$ \\\\\n",
       "\t30 & -1 & 1467815923 & Mon Apr 06 22:21:07 PDT 2009 & NO\\_QUERY & fatkat309 & $\\dots$ \\\\\n",
       "\t$\\dots$ & $\\dots$ & $\\dots$ & $\\dots$ & $\\dots$ & $\\dots$ &  \\\\\n",
       "\\end{tabular}\n"
      ],
      "text/plain": [
       "1599999×6 DataFrame. Omitted printing of 2 columns\n",
       "│ Row     │ class_label │ id         │ date                         │ flag     │\n",
       "│         │ \u001b[90mInt64\u001b[39m       │ \u001b[90mInt64\u001b[39m      │ \u001b[90mString\u001b[39m                       │ \u001b[90mString\u001b[39m   │\n",
       "├─────────┼─────────────┼────────────┼──────────────────────────────┼──────────┤\n",
       "│ 1       │ -1          │ 1467810672 │ Mon Apr 06 22:19:49 PDT 2009 │ NO_QUERY │\n",
       "│ 2       │ -1          │ 1467810917 │ Mon Apr 06 22:19:53 PDT 2009 │ NO_QUERY │\n",
       "│ 3       │ -1          │ 1467811184 │ Mon Apr 06 22:19:57 PDT 2009 │ NO_QUERY │\n",
       "│ 4       │ -1          │ 1467811193 │ Mon Apr 06 22:19:57 PDT 2009 │ NO_QUERY │\n",
       "│ 5       │ -1          │ 1467811372 │ Mon Apr 06 22:20:00 PDT 2009 │ NO_QUERY │\n",
       "│ 6       │ -1          │ 1467811592 │ Mon Apr 06 22:20:03 PDT 2009 │ NO_QUERY │\n",
       "│ 7       │ -1          │ 1467811594 │ Mon Apr 06 22:20:03 PDT 2009 │ NO_QUERY │\n",
       "│ 8       │ -1          │ 1467811795 │ Mon Apr 06 22:20:05 PDT 2009 │ NO_QUERY │\n",
       "│ 9       │ -1          │ 1467812025 │ Mon Apr 06 22:20:09 PDT 2009 │ NO_QUERY │\n",
       "│ 10      │ -1          │ 1467812416 │ Mon Apr 06 22:20:16 PDT 2009 │ NO_QUERY │\n",
       "⋮\n",
       "│ 1599989 │ 1           │ 2193579211 │ Tue Jun 16 08:38:59 PDT 2009 │ NO_QUERY │\n",
       "│ 1599990 │ 1           │ 2193579249 │ Tue Jun 16 08:38:59 PDT 2009 │ NO_QUERY │\n",
       "│ 1599991 │ 1           │ 2193579284 │ Tue Jun 16 08:38:59 PDT 2009 │ NO_QUERY │\n",
       "│ 1599992 │ 1           │ 2193579434 │ Tue Jun 16 08:39:00 PDT 2009 │ NO_QUERY │\n",
       "│ 1599993 │ 1           │ 2193579477 │ Tue Jun 16 08:39:00 PDT 2009 │ NO_QUERY │\n",
       "│ 1599994 │ 1           │ 2193579489 │ Tue Jun 16 08:39:00 PDT 2009 │ NO_QUERY │\n",
       "│ 1599995 │ 1           │ 2193601966 │ Tue Jun 16 08:40:49 PDT 2009 │ NO_QUERY │\n",
       "│ 1599996 │ 1           │ 2193601969 │ Tue Jun 16 08:40:49 PDT 2009 │ NO_QUERY │\n",
       "│ 1599997 │ 1           │ 2193601991 │ Tue Jun 16 08:40:49 PDT 2009 │ NO_QUERY │\n",
       "│ 1599998 │ 1           │ 2193602064 │ Tue Jun 16 08:40:49 PDT 2009 │ NO_QUERY │\n",
       "│ 1599999 │ 1           │ 2193602129 │ Tue Jun 16 08:40:50 PDT 2009 │ NO_QUERY │"
      ]
     },
     "execution_count": 5,
     "metadata": {},
     "output_type": "execute_result"
    }
   ],
   "source": [
    "df"
   ]
  },
  {
   "cell_type": "code",
   "execution_count": 6,
   "metadata": {},
   "outputs": [
    {
     "data": {
      "text/plain": [
       "1599999-element Array{String,1}:\n",
       " \"is upset that he can't update his Facebook by texting it... and might cry as a result  School today also. Blah!\"\n",
       " \"@Kenichan I dived many times for the ball. Managed to save 50%  The rest go out of bounds\"\n",
       " \"my whole body feels itchy and like its on fire \"\n",
       " \"@nationwideclass no, it's not behaving at all. i'm mad. why am i here? because I can't see you all over there. \"\n",
       " \"@Kwesidei not the whole crew \"\n",
       " \"Need a hug \"\n",
       " \"@LOLTrish hey  long time no see! Yes.. Rains a bit ,only a bit  LOL , I'm fine thanks , how's you ?\"\n",
       " \"@Tatiana_K nope they didn't have it \"\n",
       " \"@twittera que me muera ? \"\n",
       " \"spring break in plain city... it's snowing \"\n",
       " \"I just re-pierced my ears \"\n",
       " \"@caregiving I couldn't bear to watch it.  And I thought the UA loss was embarrassing . . . . .\"\n",
       " \"@octolinz16 It it counts, idk why I did either. you never talk to me anymore \"\n",
       " ⋮\n",
       " \"@Roy_Everitt ha- good job. that's right - we gotta throw that #bigrun tag EVERYWHERE! I wanna get it trending before I start \"\n",
       " \"@Ms_Hip_Hop im glad ur doing well \"\n",
       " \"WOOOOO! Xbox is back \"\n",
       " \"@rmedina @LaTati Mmmm  That sounds absolutely perfect... but my schedule is full. I won't have time to lay in bed until Sunday. Ugh!!\"\n",
       " \"ReCoVeRiNg FrOm ThE lOnG wEeKeNd \"\n",
       " \"@SCOOBY_GRITBOYS \"\n",
       " \"@Cliff_Forster Yeah, that does work better than just waiting for it  In the end I just wonder if I have time to keep up a good blog.\"\n",
       " \"Just woke up. Having no school is the best feeling ever \"\n",
       " \"TheWDB.com - Very cool to hear old Walt interviews!  ♫ http://blip.fm/~8bmta\"\n",
       " \"Are you ready for your MoJo Makeover? Ask me for details \"\n",
       " \"Happy 38th Birthday to my boo of alll time!!! Tupac Amaru Shakur \"\n",
       " \"happy #charitytuesday @theNSPCC @SparksCharity @SpeakingUpH4H \""
      ]
     },
     "execution_count": 6,
     "metadata": {},
     "output_type": "execute_result"
    }
   ],
   "source": [
    "df.tweet"
   ]
  },
  {
   "cell_type": "code",
   "execution_count": 7,
   "metadata": {},
   "outputs": [
    {
     "data": {
      "text/plain": [
       "6-element Array{String,1}:\n",
       " \"class_label\"\n",
       " \"id\"\n",
       " \"date\"\n",
       " \"flag\"\n",
       " \"userid\"\n",
       " \"tweet\""
      ]
     },
     "execution_count": 7,
     "metadata": {},
     "output_type": "execute_result"
    }
   ],
   "source": [
    "names(df)"
   ]
  },
  {
   "cell_type": "code",
   "execution_count": null,
   "metadata": {},
   "outputs": [],
   "source": []
  },
  {
   "cell_type": "code",
   "execution_count": 8,
   "metadata": {},
   "outputs": [
    {
     "data": {
      "text/html": [
       "<table class=\"data-frame\"><thead><tr><th></th><th>class_label</th><th>tweet</th></tr><tr><th></th><th>Int64</th><th>String</th></tr></thead><tbody><p>1,599,999 rows × 2 columns</p><tr><th>1</th><td>-1</td><td>is upset that he can't update his Facebook by texting it... and might cry as a result  School today also. Blah!</td></tr><tr><th>2</th><td>-1</td><td>@Kenichan I dived many times for the ball. Managed to save 50%  The rest go out of bounds</td></tr><tr><th>3</th><td>-1</td><td>my whole body feels itchy and like its on fire </td></tr><tr><th>4</th><td>-1</td><td>@nationwideclass no, it's not behaving at all. i'm mad. why am i here? because I can't see you all over there. </td></tr><tr><th>5</th><td>-1</td><td>@Kwesidei not the whole crew </td></tr><tr><th>6</th><td>-1</td><td>Need a hug </td></tr><tr><th>7</th><td>-1</td><td>@LOLTrish hey  long time no see! Yes.. Rains a bit ,only a bit  LOL , I'm fine thanks , how's you ?</td></tr><tr><th>8</th><td>-1</td><td>@Tatiana_K nope they didn't have it </td></tr><tr><th>9</th><td>-1</td><td>@twittera que me muera ? </td></tr><tr><th>10</th><td>-1</td><td>spring break in plain city... it's snowing </td></tr><tr><th>11</th><td>-1</td><td>I just re-pierced my ears </td></tr><tr><th>12</th><td>-1</td><td>@caregiving I couldn't bear to watch it.  And I thought the UA loss was embarrassing . . . . .</td></tr><tr><th>13</th><td>-1</td><td>@octolinz16 It it counts, idk why I did either. you never talk to me anymore </td></tr><tr><th>14</th><td>-1</td><td>@smarrison i would've been the first, but i didn't have a gun.    not really though, zac snyder's just a doucheclown.</td></tr><tr><th>15</th><td>-1</td><td>@iamjazzyfizzle I wish I got to watch it with you!! I miss you and @iamlilnicki  how was the premiere?!</td></tr><tr><th>16</th><td>-1</td><td>Hollis' death scene will hurt me severely to watch on film  wry is directors cut not out now?</td></tr><tr><th>17</th><td>-1</td><td>about to file taxes </td></tr><tr><th>18</th><td>-1</td><td>@LettyA ahh ive always wanted to see rent  love the soundtrack!!</td></tr><tr><th>19</th><td>-1</td><td>@FakerPattyPattz Oh dear. Were you drinking out of the forgotten table drinks? </td></tr><tr><th>20</th><td>-1</td><td>@alydesigns i was out most of the day so didn't get much done </td></tr><tr><th>21</th><td>-1</td><td>one of my friend called me, and asked to meet with her at Mid Valley today...but i've no time *sigh* </td></tr><tr><th>22</th><td>-1</td><td>@angry_barista I baked you a cake but I ated it </td></tr><tr><th>23</th><td>-1</td><td>this week is not going as i had hoped </td></tr><tr><th>24</th><td>-1</td><td>blagh class at 8 tomorrow </td></tr><tr><th>25</th><td>-1</td><td>I hate when I have to call and wake people up </td></tr><tr><th>26</th><td>-1</td><td>Just going to cry myself to sleep after watching Marley and Me.  </td></tr><tr><th>27</th><td>-1</td><td>im sad now  Miss.Lilly</td></tr><tr><th>28</th><td>-1</td><td>ooooh.... LOL  that leslie.... and ok I won't do it again so leslie won't  get mad again </td></tr><tr><th>29</th><td>-1</td><td>Meh... Almost Lover is the exception... this track gets me depressed every time. </td></tr><tr><th>30</th><td>-1</td><td>some1 hacked my account on aim  now i have to make a new one</td></tr><tr><th>&vellip;</th><td>&vellip;</td><td>&vellip;</td></tr></tbody></table>"
      ],
      "text/latex": [
       "\\begin{tabular}{r|cc}\n",
       "\t& class\\_label & tweet\\\\\n",
       "\t\\hline\n",
       "\t& Int64 & String\\\\\n",
       "\t\\hline\n",
       "\t1 & -1 & is upset that he can't update his Facebook by texting it... and might cry as a result  School today also. Blah! \\\\\n",
       "\t2 & -1 & @Kenichan I dived many times for the ball. Managed to save 50\\%  The rest go out of bounds \\\\\n",
       "\t3 & -1 & my whole body feels itchy and like its on fire  \\\\\n",
       "\t4 & -1 & @nationwideclass no, it's not behaving at all. i'm mad. why am i here? because I can't see you all over there.  \\\\\n",
       "\t5 & -1 & @Kwesidei not the whole crew  \\\\\n",
       "\t6 & -1 & Need a hug  \\\\\n",
       "\t7 & -1 & @LOLTrish hey  long time no see! Yes.. Rains a bit ,only a bit  LOL , I'm fine thanks , how's you ? \\\\\n",
       "\t8 & -1 & @Tatiana\\_K nope they didn't have it  \\\\\n",
       "\t9 & -1 & @twittera que me muera ?  \\\\\n",
       "\t10 & -1 & spring break in plain city... it's snowing  \\\\\n",
       "\t11 & -1 & I just re-pierced my ears  \\\\\n",
       "\t12 & -1 & @caregiving I couldn't bear to watch it.  And I thought the UA loss was embarrassing . . . . . \\\\\n",
       "\t13 & -1 & @octolinz16 It it counts, idk why I did either. you never talk to me anymore  \\\\\n",
       "\t14 & -1 & @smarrison i would've been the first, but i didn't have a gun.    not really though, zac snyder's just a doucheclown. \\\\\n",
       "\t15 & -1 & @iamjazzyfizzle I wish I got to watch it with you!! I miss you and @iamlilnicki  how was the premiere?! \\\\\n",
       "\t16 & -1 & Hollis' death scene will hurt me severely to watch on film  wry is directors cut not out now? \\\\\n",
       "\t17 & -1 & about to file taxes  \\\\\n",
       "\t18 & -1 & @LettyA ahh ive always wanted to see rent  love the soundtrack!! \\\\\n",
       "\t19 & -1 & @FakerPattyPattz Oh dear. Were you drinking out of the forgotten table drinks?  \\\\\n",
       "\t20 & -1 & @alydesigns i was out most of the day so didn't get much done  \\\\\n",
       "\t21 & -1 & one of my friend called me, and asked to meet with her at Mid Valley today...but i've no time *sigh*  \\\\\n",
       "\t22 & -1 & @angry\\_barista I baked you a cake but I ated it  \\\\\n",
       "\t23 & -1 & this week is not going as i had hoped  \\\\\n",
       "\t24 & -1 & blagh class at 8 tomorrow  \\\\\n",
       "\t25 & -1 & I hate when I have to call and wake people up  \\\\\n",
       "\t26 & -1 & Just going to cry myself to sleep after watching Marley and Me.   \\\\\n",
       "\t27 & -1 & im sad now  Miss.Lilly \\\\\n",
       "\t28 & -1 & ooooh.... LOL  that leslie.... and ok I won't do it again so leslie won't  get mad again  \\\\\n",
       "\t29 & -1 & Meh... Almost Lover is the exception... this track gets me depressed every time.  \\\\\n",
       "\t30 & -1 & some1 hacked my account on aim  now i have to make a new one \\\\\n",
       "\t$\\dots$ & $\\dots$ & $\\dots$ \\\\\n",
       "\\end{tabular}\n"
      ],
      "text/plain": [
       "1599999×2 DataFrame. Omitted printing of 1 columns\n",
       "│ Row     │ class_label │\n",
       "│         │ \u001b[90mInt64\u001b[39m       │\n",
       "├─────────┼─────────────┤\n",
       "│ 1       │ -1          │\n",
       "│ 2       │ -1          │\n",
       "│ 3       │ -1          │\n",
       "│ 4       │ -1          │\n",
       "│ 5       │ -1          │\n",
       "│ 6       │ -1          │\n",
       "│ 7       │ -1          │\n",
       "│ 8       │ -1          │\n",
       "│ 9       │ -1          │\n",
       "│ 10      │ -1          │\n",
       "⋮\n",
       "│ 1599989 │ 1           │\n",
       "│ 1599990 │ 1           │\n",
       "│ 1599991 │ 1           │\n",
       "│ 1599992 │ 1           │\n",
       "│ 1599993 │ 1           │\n",
       "│ 1599994 │ 1           │\n",
       "│ 1599995 │ 1           │\n",
       "│ 1599996 │ 1           │\n",
       "│ 1599997 │ 1           │\n",
       "│ 1599998 │ 1           │\n",
       "│ 1599999 │ 1           │"
      ]
     },
     "execution_count": 8,
     "metadata": {},
     "output_type": "execute_result"
    }
   ],
   "source": [
    "deletecols!(df, [:id, :date, :flag, :userid])"
   ]
  },
  {
   "cell_type": "code",
   "execution_count": 9,
   "metadata": {},
   "outputs": [
    {
     "data": {
      "text/plain": [
       "2-element Array{Int64,1}:\n",
       " 0\n",
       " 0"
      ]
     },
     "execution_count": 9,
     "metadata": {},
     "output_type": "execute_result"
    }
   ],
   "source": [
    "colwise(x -> sum(ismissing.(x)), df)"
   ]
  },
  {
   "cell_type": "code",
   "execution_count": 10,
   "metadata": {},
   "outputs": [
    {
     "data": {
      "text/plain": [
       "decode_sentiment (generic function with 1 method)"
      ]
     },
     "execution_count": 10,
     "metadata": {},
     "output_type": "execute_result"
    }
   ],
   "source": [
    "decode_map = [0=>\"Negative\", 2=> \"Neutral\", 4=> \"Positive\"]\n",
    "function decode_sentiment(label)\n",
    "    return decode_map[int(label)]\n",
    "end"
   ]
  },
  {
   "cell_type": "code",
   "execution_count": 11,
   "metadata": {},
   "outputs": [
    {
     "data": {
      "text/plain": [
       "1599999"
      ]
     },
     "execution_count": 11,
     "metadata": {},
     "output_type": "execute_result"
    }
   ],
   "source": [
    "count_2 = 0\n",
    "count_0 = 0\n",
    "count_4 = 0\n",
    "combine(groupby(df, :class_label), nrow => :count)\n",
    "count_0 = combine(groupby(df, :class_label), nrow => :count)[:\"count\"][:1]\n",
    "count_4 = combine(groupby(df, :class_label), nrow => :count)[:\"count\"][:2]\n",
    "totalNum = size(df)[:1]"
   ]
  },
  {
   "cell_type": "markdown",
   "metadata": {},
   "source": [
    "### TWEET FORMATTING ###"
   ]
  },
  {
   "cell_type": "code",
   "execution_count": 15,
   "metadata": {},
   "outputs": [
    {
     "data": {
      "text/plain": [
       "488-element Array{String,1}:\n",
       " \"a\"\n",
       " \"about\"\n",
       " \"above\"\n",
       " \"across\"\n",
       " \"after\"\n",
       " \"again\"\n",
       " \"against\"\n",
       " \"all\"\n",
       " \"almost\"\n",
       " \"alone\"\n",
       " \"along\"\n",
       " \"already\"\n",
       " \"also\"\n",
       " ⋮\n",
       " \"youd\"\n",
       " \"youll\"\n",
       " \"young\"\n",
       " \"younger\"\n",
       " \"youngest\"\n",
       " \"your\"\n",
       " \"youre\"\n",
       " \"yours\"\n",
       " \"yourself\"\n",
       " \"yourselves\"\n",
       " \"youve\"\n",
       " \"z\""
      ]
     },
     "execution_count": 15,
     "metadata": {},
     "output_type": "execute_result"
    }
   ],
   "source": [
    "# Variables\n",
    "usernames = r\"@\\w+\" # regex for usernames such as '@twitter_user123'\n",
    "links = r\"((https?:\\/\\/)|(www\\.))\\S+\" # regex for links starting with 'http' or 'www.'\n",
    "htmltags = r\"&#?\\w+;\" # regex for html character entities such as '&lt;' or '&quot;'\n",
    "repeatedletters = r\"(.)\\1{3,}\" # regex for letters repeated three or more times, such as \"hiii\"\n",
    "apostrophes = \"'\" # separate so contractions don't get spaced out e.g. 'can't' becomes 'cant' not 'can t'\n",
    "special = [usernames, links, htmltags, apostrophes, repeatedletters]\n",
    "stopword_list = replace.(stopwords(Languages.English), \"'\" => \"\")"
   ]
  },
  {
   "cell_type": "code",
   "execution_count": 16,
   "metadata": {},
   "outputs": [
    {
     "data": {
      "text/plain": [
       "removestopwords (generic function with 1 method)"
      ]
     },
     "execution_count": 16,
     "metadata": {},
     "output_type": "execute_result"
    }
   ],
   "source": [
    "remove(str, pat) = replace(str, pat => \"\")\n",
    "replacewithspace(str, pat) = replace(str, pat => \" \")\n",
    "removespecial(str) = reduce(remove, special, init=str)\n",
    "format(str) = lowercase(join(split(replace(str, r\"[^A-Za-z ]\" => \" \")), \" \"))*\" \"\n",
    "removenoise(tweet) = (format ∘ removespecial)(tweet)\n",
    "removestopwords(str) = reduce(replacewithspace, stopword_list, init=str)"
   ]
  },
  {
   "cell_type": "code",
   "execution_count": 17,
   "metadata": {},
   "outputs": [
    {
     "data": {
      "text/plain": [
       "488-element Array{String,1}:\n",
       " \"a\"\n",
       " \"about\"\n",
       " \"above\"\n",
       " \"across\"\n",
       " \"after\"\n",
       " \"again\"\n",
       " \"against\"\n",
       " \"all\"\n",
       " \"almost\"\n",
       " \"alone\"\n",
       " \"along\"\n",
       " \"already\"\n",
       " \"also\"\n",
       " ⋮\n",
       " \"youd\"\n",
       " \"youll\"\n",
       " \"young\"\n",
       " \"younger\"\n",
       " \"youngest\"\n",
       " \"your\"\n",
       " \"youre\"\n",
       " \"yours\"\n",
       " \"yourself\"\n",
       " \"yourselves\"\n",
       " \"youve\"\n",
       " \"z\""
      ]
     },
     "execution_count": 17,
     "metadata": {},
     "output_type": "execute_result"
    }
   ],
   "source": [
    "stopword_list = replace.(stopwords(Languages.English), \"'\" => \"\")"
   ]
  },
  {
   "cell_type": "code",
   "execution_count": 18,
   "metadata": {},
   "outputs": [
    {
     "data": {
      "text/plain": [
       "removestopwords (generic function with 1 method)"
      ]
     },
     "execution_count": 18,
     "metadata": {},
     "output_type": "execute_result"
    }
   ],
   "source": [
    "# Functions\n",
    "remove(str, pat) = replace(str, pat => \"\")\n",
    "removefromlist(list, pat) = filter(x->x!=pat, list)\n",
    "removespecial(str) = reduce(remove, special, init=str)\n",
    "format(str) = lowercase(join(split(replace(str, r\"[^A-Za-z ]\" => \" \")), \" \"))*\" \"\n",
    "removenoise(tweet) = (format ∘ removespecial)(tweet)\n",
    "removestopwords(str) = join(reduce(removefromlist, stopword_list, init=split(str)), \" \")\n"
   ]
  },
  {
   "cell_type": "markdown",
   "metadata": {},
   "source": [
    "### Word2Vec Creation"
   ]
  },
  {
   "cell_type": "code",
   "execution_count": 20,
   "metadata": {},
   "outputs": [
    {
     "data": {
      "text/plain": [
       "createword2vec (generic function with 1 method)"
      ]
     },
     "execution_count": 20,
     "metadata": {},
     "output_type": "execute_result"
    }
   ],
   "source": [
    "# Functions\n",
    "createcorpus(tweets) = removestopwords(join(removenoise.(tweets)))\n",
    "function writecorpusfile()\n",
    "    tweets = df.tweets\n",
    "    corpus = createcorpus(tweets)\n",
    "    open(\"tweets\", \"w\") do io\n",
    "        write(io, corpus)\n",
    "    end\n",
    "end\n",
    "createword2vec() = word2vec(\"tweets\", \"tweets-vec.txt\", verbose = true)"
   ]
  },
  {
   "cell_type": "code",
   "execution_count": 21,
   "metadata": {},
   "outputs": [
    {
     "ename": "LoadError",
     "evalue": "ArgumentError: column name :tweets not found in the data frame; existing most similar names are: :tweet",
     "output_type": "error",
     "traceback": [
      "ArgumentError: column name :tweets not found in the data frame; existing most similar names are: :tweet",
      "",
      "Stacktrace:",
      " [1] lookupname at C:\\Users\\joshc\\.julia\\packages\\DataFrames\\GtZ1l\\src\\other\\index.jl:289 [inlined]",
      " [2] getindex at C:\\Users\\joshc\\.julia\\packages\\DataFrames\\GtZ1l\\src\\other\\index.jl:295 [inlined]",
      " [3] getindex(::DataFrame, ::typeof(!), ::Symbol) at C:\\Users\\joshc\\.julia\\packages\\DataFrames\\GtZ1l\\src\\dataframe\\dataframe.jl:435",
      " [4] getproperty(::DataFrame, ::Symbol) at C:\\Users\\joshc\\.julia\\packages\\DataFrames\\GtZ1l\\src\\abstractdataframe\\abstractdataframe.jl:346",
      " [5] writecorpusfile() at .\\In[20]:4",
      " [6] top-level scope at In[21]:2",
      " [7] include_string(::Function, ::Module, ::String, ::String) at .\\loading.jl:1091",
      " [8] execute_code(::String, ::String) at C:\\Users\\joshc\\.julia\\packages\\IJulia\\rWZ9e\\src\\execute_request.jl:27",
      " [9] execute_request(::ZMQ.Socket, ::IJulia.Msg) at C:\\Users\\joshc\\.julia\\packages\\IJulia\\rWZ9e\\src\\execute_request.jl:86",
      " [10] #invokelatest#1 at .\\essentials.jl:710 [inlined]",
      " [11] invokelatest at .\\essentials.jl:709 [inlined]",
      " [12] eventloop(::ZMQ.Socket) at C:\\Users\\joshc\\.julia\\packages\\IJulia\\rWZ9e\\src\\eventloop.jl:8",
      " [13] (::IJulia.var\"#15#18\")() at .\\task.jl:356"
     ]
    }
   ],
   "source": [
    "writecorpusfile()\n",
    "createword2vec()"
   ]
  },
  {
   "cell_type": "code",
   "execution_count": 22,
   "metadata": {},
   "outputs": [
    {
     "data": {
      "text/plain": [
       "Any[]"
      ]
     },
     "execution_count": 22,
     "metadata": {},
     "output_type": "execute_result"
    }
   ],
   "source": [
    "x = []"
   ]
  },
  {
   "cell_type": "code",
   "execution_count": 23,
   "metadata": {},
   "outputs": [
    {
     "data": {
      "text/html": [
       "<table class=\"data-frame\"><thead><tr><th></th><th>class_label</th><th>tweet</th></tr><tr><th></th><th>Int64</th><th>String</th></tr></thead><tbody><p>6 rows × 2 columns</p><tr><th>1</th><td>-1</td><td>is upset that he can't update his Facebook by texting it... and might cry as a result  School today also. Blah!</td></tr><tr><th>2</th><td>-1</td><td>@Kenichan I dived many times for the ball. Managed to save 50%  The rest go out of bounds</td></tr><tr><th>3</th><td>-1</td><td>my whole body feels itchy and like its on fire </td></tr><tr><th>4</th><td>-1</td><td>@nationwideclass no, it's not behaving at all. i'm mad. why am i here? because I can't see you all over there. </td></tr><tr><th>5</th><td>-1</td><td>@Kwesidei not the whole crew </td></tr><tr><th>6</th><td>-1</td><td>Need a hug </td></tr></tbody></table>"
      ],
      "text/latex": [
       "\\begin{tabular}{r|cc}\n",
       "\t& class\\_label & tweet\\\\\n",
       "\t\\hline\n",
       "\t& Int64 & String\\\\\n",
       "\t\\hline\n",
       "\t1 & -1 & is upset that he can't update his Facebook by texting it... and might cry as a result  School today also. Blah! \\\\\n",
       "\t2 & -1 & @Kenichan I dived many times for the ball. Managed to save 50\\%  The rest go out of bounds \\\\\n",
       "\t3 & -1 & my whole body feels itchy and like its on fire  \\\\\n",
       "\t4 & -1 & @nationwideclass no, it's not behaving at all. i'm mad. why am i here? because I can't see you all over there.  \\\\\n",
       "\t5 & -1 & @Kwesidei not the whole crew  \\\\\n",
       "\t6 & -1 & Need a hug  \\\\\n",
       "\\end{tabular}\n"
      ],
      "text/plain": [
       "6×2 DataFrame. Omitted printing of 1 columns\n",
       "│ Row │ class_label │\n",
       "│     │ \u001b[90mInt64\u001b[39m       │\n",
       "├─────┼─────────────┤\n",
       "│ 1   │ -1          │\n",
       "│ 2   │ -1          │\n",
       "│ 3   │ -1          │\n",
       "│ 4   │ -1          │\n",
       "│ 5   │ -1          │\n",
       "│ 6   │ -1          │"
      ]
     },
     "execution_count": 23,
     "metadata": {},
     "output_type": "execute_result"
    }
   ],
   "source": [
    "head(df)"
   ]
  },
  {
   "cell_type": "code",
   "execution_count": 24,
   "metadata": {},
   "outputs": [
    {
     "data": {
      "text/plain": [
       "1599999-element Array{String,1}:\n",
       " \"upset update facebook texting cry result school blah\"\n",
       " \"dived times ball managed save rest bounds\"\n",
       " \"body feels itchy fire\"\n",
       " \"behaving mad\"\n",
       " \"crew\"\n",
       " \"hug\"\n",
       " \"hey time rains bit bit lol fine thanks\"\n",
       " \"nope\"\n",
       " \"que muera\"\n",
       " \"spring break plain city snowing\"\n",
       " \"re pierced ears\"\n",
       " \"bear watch ua loss embarrassing\"\n",
       " \"counts idk talk anymore\"\n",
       " ⋮\n",
       " \"ha job gotta throw bigrun tag wanna trending start\"\n",
       " \"glad ur\"\n",
       " \"xbox\"\n",
       " \"mmmm sounds absolutely perfect schedule time lay bed sunday ugh\"\n",
       " \"recovering weekend\"\n",
       " \"\"\n",
       " \"yeah waiting wonder time blog\"\n",
       " \"woke school feeling\"\n",
       " \"thewdb com cool hear walt interviews\"\n",
       " \"ready mojo makeover details\"\n",
       " \"happy th birthday boo alll time tupac amaru shakur\"\n",
       " \"happy charitytuesday\""
      ]
     },
     "execution_count": 24,
     "metadata": {},
     "output_type": "execute_result"
    }
   ],
   "source": [
    "denoise_df!(df) = df.tweet .= (removestopwords ∘ removenoise).(df.tweet)\n",
    "denoise_df!(df)"
   ]
  },
  {
   "cell_type": "code",
   "execution_count": 26,
   "metadata": {},
   "outputs": [
    {
     "data": {
      "text/html": [
       "<table class=\"data-frame\"><thead><tr><th></th><th>class_label</th><th>tweet</th></tr><tr><th></th><th>Int64</th><th>String</th></tr></thead><tbody><p>100 rows × 2 columns</p><tr><th>1</th><td>-1</td><td>upset update facebook texting cry result school blah</td></tr><tr><th>2</th><td>-1</td><td>dived times ball managed save rest bounds</td></tr><tr><th>3</th><td>-1</td><td>body feels itchy fire</td></tr><tr><th>4</th><td>-1</td><td>behaving mad</td></tr><tr><th>5</th><td>-1</td><td>crew</td></tr><tr><th>6</th><td>-1</td><td>hug</td></tr><tr><th>7</th><td>-1</td><td>hey time rains bit bit lol fine thanks</td></tr><tr><th>8</th><td>-1</td><td>nope</td></tr><tr><th>9</th><td>-1</td><td>que muera</td></tr><tr><th>10</th><td>-1</td><td>spring break plain city snowing</td></tr><tr><th>11</th><td>-1</td><td>re pierced ears</td></tr><tr><th>12</th><td>-1</td><td>bear watch ua loss embarrassing</td></tr><tr><th>13</th><td>-1</td><td>counts idk talk anymore</td></tr><tr><th>14</th><td>-1</td><td>wouldve gun zac snyders doucheclown</td></tr><tr><th>15</th><td>-1</td><td>wish watch miss premiere</td></tr><tr><th>16</th><td>-1</td><td>hollis death scene hurt severely watch film wry directors cut</td></tr><tr><th>17</th><td>-1</td><td>file taxes</td></tr><tr><th>18</th><td>-1</td><td>ahh rent love soundtrack</td></tr><tr><th>19</th><td>-1</td><td>oh dear drinking forgotten table drinks</td></tr><tr><th>20</th><td>-1</td><td>day</td></tr><tr><th>21</th><td>-1</td><td>friend called meet mid valley time sigh</td></tr><tr><th>22</th><td>-1</td><td>baked cake ated</td></tr><tr><th>23</th><td>-1</td><td>week hoped</td></tr><tr><th>24</th><td>-1</td><td>blagh class tomorrow</td></tr><tr><th>25</th><td>-1</td><td>hate call wake people</td></tr><tr><th>26</th><td>-1</td><td>cry sleep watching marley</td></tr><tr><th>27</th><td>-1</td><td>sad miss lilly</td></tr><tr><th>28</th><td>-1</td><td>lol leslie ok leslie mad</td></tr><tr><th>29</th><td>-1</td><td>meh lover exception track depressed time</td></tr><tr><th>30</th><td>-1</td><td>hacked account aim</td></tr><tr><th>&vellip;</th><td>&vellip;</td><td>&vellip;</td></tr></tbody></table>"
      ],
      "text/latex": [
       "\\begin{tabular}{r|cc}\n",
       "\t& class\\_label & tweet\\\\\n",
       "\t\\hline\n",
       "\t& Int64 & String\\\\\n",
       "\t\\hline\n",
       "\t1 & -1 & upset update facebook texting cry result school blah \\\\\n",
       "\t2 & -1 & dived times ball managed save rest bounds \\\\\n",
       "\t3 & -1 & body feels itchy fire \\\\\n",
       "\t4 & -1 & behaving mad \\\\\n",
       "\t5 & -1 & crew \\\\\n",
       "\t6 & -1 & hug \\\\\n",
       "\t7 & -1 & hey time rains bit bit lol fine thanks \\\\\n",
       "\t8 & -1 & nope \\\\\n",
       "\t9 & -1 & que muera \\\\\n",
       "\t10 & -1 & spring break plain city snowing \\\\\n",
       "\t11 & -1 & re pierced ears \\\\\n",
       "\t12 & -1 & bear watch ua loss embarrassing \\\\\n",
       "\t13 & -1 & counts idk talk anymore \\\\\n",
       "\t14 & -1 & wouldve gun zac snyders doucheclown \\\\\n",
       "\t15 & -1 & wish watch miss premiere \\\\\n",
       "\t16 & -1 & hollis death scene hurt severely watch film wry directors cut \\\\\n",
       "\t17 & -1 & file taxes \\\\\n",
       "\t18 & -1 & ahh rent love soundtrack \\\\\n",
       "\t19 & -1 & oh dear drinking forgotten table drinks \\\\\n",
       "\t20 & -1 & day \\\\\n",
       "\t21 & -1 & friend called meet mid valley time sigh \\\\\n",
       "\t22 & -1 & baked cake ated \\\\\n",
       "\t23 & -1 & week hoped \\\\\n",
       "\t24 & -1 & blagh class tomorrow \\\\\n",
       "\t25 & -1 & hate call wake people \\\\\n",
       "\t26 & -1 & cry sleep watching marley \\\\\n",
       "\t27 & -1 & sad miss lilly \\\\\n",
       "\t28 & -1 & lol leslie ok leslie mad \\\\\n",
       "\t29 & -1 & meh lover exception track depressed time \\\\\n",
       "\t30 & -1 & hacked account aim \\\\\n",
       "\t$\\dots$ & $\\dots$ & $\\dots$ \\\\\n",
       "\\end{tabular}\n"
      ],
      "text/plain": [
       "100×2 DataFrame. Omitted printing of 1 columns\n",
       "│ Row │ class_label │\n",
       "│     │ \u001b[90mInt64\u001b[39m       │\n",
       "├─────┼─────────────┤\n",
       "│ 1   │ -1          │\n",
       "│ 2   │ -1          │\n",
       "│ 3   │ -1          │\n",
       "│ 4   │ -1          │\n",
       "│ 5   │ -1          │\n",
       "│ 6   │ -1          │\n",
       "│ 7   │ -1          │\n",
       "│ 8   │ -1          │\n",
       "│ 9   │ -1          │\n",
       "│ 10  │ -1          │\n",
       "⋮\n",
       "│ 90  │ -1          │\n",
       "│ 91  │ -1          │\n",
       "│ 92  │ -1          │\n",
       "│ 93  │ -1          │\n",
       "│ 94  │ -1          │\n",
       "│ 95  │ -1          │\n",
       "│ 96  │ -1          │\n",
       "│ 97  │ -1          │\n",
       "│ 98  │ -1          │\n",
       "│ 99  │ -1          │\n",
       "│ 100 │ -1          │"
      ]
     },
     "execution_count": 26,
     "metadata": {},
     "output_type": "execute_result"
    }
   ],
   "source": [
    "head(df, 100)"
   ]
  },
  {
   "cell_type": "code",
   "execution_count": 28,
   "metadata": {},
   "outputs": [
    {
     "data": {
      "text/plain": [
       "WordVectors 71291 words, 100-element Float64 vectors"
      ]
     },
     "execution_count": 28,
     "metadata": {},
     "output_type": "execute_result"
    }
   ],
   "source": [
    "model = wordvectors(\"../../data/tweets-vec.txt\")"
   ]
  },
  {
   "cell_type": "code",
   "execution_count": 29,
   "metadata": {},
   "outputs": [
    {
     "data": {
      "text/plain": [
       "createFeatureVector (generic function with 1 method)"
      ]
     },
     "execution_count": 29,
     "metadata": {},
     "output_type": "execute_result"
    }
   ],
   "source": [
    "function createFeatureVector(sentence)\n",
    "    wordCount = 0\n",
    "    vector = zeros(size(model)[1])\n",
    "    sentence_split = split(sentence)\n",
    "    for word in sentence_split\n",
    "        try\n",
    "            vector =  vector + get_vector(model, word)\n",
    "            wordCount = wordCount + 1\n",
    "        catch\n",
    "            nothing\n",
    "        end\n",
    "    end \n",
    "    if wordCount > 0\n",
    "        vector = vector / wordCount\n",
    "    end\n",
    "    return vector\n",
    "end"
   ]
  },
  {
   "cell_type": "code",
   "execution_count": 30,
   "metadata": {},
   "outputs": [
    {
     "data": {
      "text/html": [
       "<table class=\"data-frame\"><thead><tr><th></th><th>class_label</th><th>tweet</th></tr><tr><th></th><th>Int64</th><th>String</th></tr></thead><tbody><p>1,599,999 rows × 2 columns</p><tr><th>1</th><td>-1</td><td>lol poor feel shake start</td></tr><tr><th>2</th><td>-1</td><td>house sleep idk sister couch floor bit floor uncomforable</td></tr><tr><th>3</th><td>-1</td><td>atleast fake political drama parties votes tn name suffering eelam tamils game</td></tr><tr><th>4</th><td>-1</td><td>day argh</td></tr><tr><th>5</th><td>1</td><td>watching taylor swifts video blogs fun</td></tr><tr><th>6</th><td>-1</td><td>wow times update tx boring lol</td></tr><tr><th>7</th><td>-1</td><td>flawless win aiden win bet wil hav career dancin anyways coz amazin</td></tr><tr><th>8</th><td>-1</td><td>dyed hair red complete mess</td></tr><tr><th>9</th><td>1</td><td>watching movie text please</td></tr><tr><th>10</th><td>1</td><td>irish spring boxes hold single bar detect usual associated rant</td></tr><tr><th>11</th><td>-1</td><td>wats racism australia nice</td></tr><tr><th>12</th><td>1</td><td>glad found helpful amount flexibility images amazing getting camera helps</td></tr><tr><th>13</th><td>1</td><td>cooking police dept charity sumthing</td></tr><tr><th>14</th><td>-1</td><td>woke realizing friday</td></tr><tr><th>15</th><td>-1</td><td>told stop otherwise trouble</td></tr><tr><th>16</th><td>1</td><td>wow followers thanks following</td></tr><tr><th>17</th><td>1</td><td>lit purpose beauty near capturing</td></tr><tr><th>18</th><td>1</td><td>added sweeetie</td></tr><tr><th>19</th><td>1</td><td>yep</td></tr><tr><th>20</th><td>-1</td><td>yo sushi near</td></tr><tr><th>21</th><td>-1</td><td>feel sick keen time job</td></tr><tr><th>22</th><td>-1</td><td>reconciling phone taking text kall day tomorrow cheerio</td></tr><tr><th>23</th><td>-1</td><td>aside humidity bad busier days gone</td></tr><tr><th>24</th><td>1</td><td>deleting myspace</td></tr><tr><th>25</th><td>-1</td><td>lost wallet stolen class idk</td></tr><tr><th>26</th><td>-1</td><td>constitutional law waiting rest</td></tr><tr><th>27</th><td>1</td><td>pretty dumb type symbol name total moron</td></tr><tr><th>28</th><td>1</td><td>luck mine geek look deer caught headlight look</td></tr><tr><th>29</th><td>-1</td><td>little time</td></tr><tr><th>30</th><td>1</td><td>wow turbolenca tvs actually suck</td></tr><tr><th>&vellip;</th><td>&vellip;</td><td>&vellip;</td></tr></tbody></table>"
      ],
      "text/latex": [
       "\\begin{tabular}{r|cc}\n",
       "\t& class\\_label & tweet\\\\\n",
       "\t\\hline\n",
       "\t& Int64 & String\\\\\n",
       "\t\\hline\n",
       "\t1 & -1 & lol poor feel shake start \\\\\n",
       "\t2 & -1 & house sleep idk sister couch floor bit floor uncomforable \\\\\n",
       "\t3 & -1 & atleast fake political drama parties votes tn name suffering eelam tamils game \\\\\n",
       "\t4 & -1 & day argh \\\\\n",
       "\t5 & 1 & watching taylor swifts video blogs fun \\\\\n",
       "\t6 & -1 & wow times update tx boring lol \\\\\n",
       "\t7 & -1 & flawless win aiden win bet wil hav career dancin anyways coz amazin \\\\\n",
       "\t8 & -1 & dyed hair red complete mess \\\\\n",
       "\t9 & 1 & watching movie text please \\\\\n",
       "\t10 & 1 & irish spring boxes hold single bar detect usual associated rant \\\\\n",
       "\t11 & -1 & wats racism australia nice \\\\\n",
       "\t12 & 1 & glad found helpful amount flexibility images amazing getting camera helps \\\\\n",
       "\t13 & 1 & cooking police dept charity sumthing \\\\\n",
       "\t14 & -1 & woke realizing friday \\\\\n",
       "\t15 & -1 & told stop otherwise trouble \\\\\n",
       "\t16 & 1 & wow followers thanks following \\\\\n",
       "\t17 & 1 & lit purpose beauty near capturing \\\\\n",
       "\t18 & 1 & added sweeetie \\\\\n",
       "\t19 & 1 & yep \\\\\n",
       "\t20 & -1 & yo sushi near \\\\\n",
       "\t21 & -1 & feel sick keen time job \\\\\n",
       "\t22 & -1 & reconciling phone taking text kall day tomorrow cheerio \\\\\n",
       "\t23 & -1 & aside humidity bad busier days gone \\\\\n",
       "\t24 & 1 & deleting myspace \\\\\n",
       "\t25 & -1 & lost wallet stolen class idk \\\\\n",
       "\t26 & -1 & constitutional law waiting rest \\\\\n",
       "\t27 & 1 & pretty dumb type symbol name total moron \\\\\n",
       "\t28 & 1 & luck mine geek look deer caught headlight look \\\\\n",
       "\t29 & -1 & little time \\\\\n",
       "\t30 & 1 & wow turbolenca tvs actually suck \\\\\n",
       "\t$\\dots$ & $\\dots$ & $\\dots$ \\\\\n",
       "\\end{tabular}\n"
      ],
      "text/plain": [
       "1599999×2 DataFrame. Omitted printing of 1 columns\n",
       "│ Row     │ class_label │\n",
       "│         │ \u001b[90mInt64\u001b[39m       │\n",
       "├─────────┼─────────────┤\n",
       "│ 1       │ -1          │\n",
       "│ 2       │ -1          │\n",
       "│ 3       │ -1          │\n",
       "│ 4       │ -1          │\n",
       "│ 5       │ 1           │\n",
       "│ 6       │ -1          │\n",
       "│ 7       │ -1          │\n",
       "│ 8       │ -1          │\n",
       "│ 9       │ 1           │\n",
       "│ 10      │ 1           │\n",
       "⋮\n",
       "│ 1599989 │ -1          │\n",
       "│ 1599990 │ 1           │\n",
       "│ 1599991 │ 1           │\n",
       "│ 1599992 │ -1          │\n",
       "│ 1599993 │ -1          │\n",
       "│ 1599994 │ -1          │\n",
       "│ 1599995 │ -1          │\n",
       "│ 1599996 │ 1           │\n",
       "│ 1599997 │ -1          │\n",
       "│ 1599998 │ 1           │\n",
       "│ 1599999 │ -1          │"
      ]
     },
     "execution_count": 30,
     "metadata": {},
     "output_type": "execute_result"
    }
   ],
   "source": [
    "df = DataFrame(shuffle(eachrow(df)))"
   ]
  },
  {
   "cell_type": "code",
   "execution_count": 31,
   "metadata": {},
   "outputs": [
    {
     "data": {
      "text/plain": [
       "1599999-element Array{String,1}:\n",
       " \"lol poor feel shake start\"\n",
       " \"house sleep idk sister couch floor bit floor uncomforable\"\n",
       " \"atleast fake political drama parties votes tn name suffering eelam tamils game\"\n",
       " \"day argh\"\n",
       " \"watching taylor swifts video blogs fun\"\n",
       " \"wow times update tx boring lol\"\n",
       " \"flawless win aiden win bet wil hav career dancin anyways coz amazin\"\n",
       " \"dyed hair red complete mess\"\n",
       " \"watching movie text please\"\n",
       " \"irish spring boxes hold single bar detect usual associated rant\"\n",
       " \"wats racism australia nice\"\n",
       " \"glad found helpful amount flexibility images amazing getting camera helps\"\n",
       " \"cooking police dept charity sumthing\"\n",
       " ⋮\n",
       " \"unfortunately\"\n",
       " \"cold\"\n",
       " \"night friends wine wish mike couldve\"\n",
       " \"pretty cool omg forgot preist song hats song movie mine\"\n",
       " \"damn alarm installation pda hanging\"\n",
       " \"night hours sleep logical homework wish couldve bamboozle yesterday\"\n",
       " \"woke late mail means netflix movie til monday boo\"\n",
       " \"\"\n",
       " \"lush day skating sweet weather thank god love peace\"\n",
       " \"day childminder tomorrow fine\"\n",
       " \"thanks birthday wishes love\"\n",
       " \"wore bit masacra taking ages grrr\""
      ]
     },
     "execution_count": 31,
     "metadata": {},
     "output_type": "execute_result"
    }
   ],
   "source": [
    "df[:2]"
   ]
  },
  {
   "cell_type": "code",
   "execution_count": 32,
   "metadata": {},
   "outputs": [
    {
     "data": {
      "text/plain": [
       "1599999-element Array{Int64,1}:\n",
       " -1\n",
       " -1\n",
       " -1\n",
       " -1\n",
       "  1\n",
       " -1\n",
       " -1\n",
       " -1\n",
       "  1\n",
       "  1\n",
       " -1\n",
       "  1\n",
       "  1\n",
       "  ⋮\n",
       " -1\n",
       " -1\n",
       "  1\n",
       "  1\n",
       " -1\n",
       " -1\n",
       " -1\n",
       " -1\n",
       "  1\n",
       " -1\n",
       "  1\n",
       " -1"
      ]
     },
     "execution_count": 32,
     "metadata": {},
     "output_type": "execute_result"
    }
   ],
   "source": [
    "features = hcat(createFeatureVector.(df[:2])...) # hcat converts Array{Array{Float64,1},1} into Array{Float64,2}\n",
    "labels = df[:1]"
   ]
  },
  {
   "cell_type": "markdown",
   "metadata": {},
   "source": [
    "### Split data set into train and test "
   ]
  },
  {
   "cell_type": "code",
   "execution_count": 35,
   "metadata": {},
   "outputs": [],
   "source": [
    "x_train, x_test = splitobs(features, at = 0.8);\n",
    "y_train, y_test = splitobs(labels, at = 0.8);"
   ]
  },
  {
   "cell_type": "code",
   "execution_count": 36,
   "metadata": {},
   "outputs": [
    {
     "data": {
      "text/plain": [
       "100×10000 Array{Float64,2}:\n",
       "  0.0741487   -0.0621839   -0.0189069   …  -0.0332527   -0.0194043\n",
       " -0.0308018   -0.0693011   -0.0271978       0.00762508  -0.0635016\n",
       " -0.00811183  -0.0223302   -0.0652227      -0.0390625    0.054482\n",
       " -0.0383168    0.116287    -0.0706275      -0.0539178   -0.0366495\n",
       " -0.0561847    0.00782646  -0.010846        0.0163313   -0.0230247\n",
       "  0.0091443    0.0693305    0.0251633   …   0.0762111   -0.045469\n",
       " -0.0111172    0.0130282   -0.0216771      -0.0066867   -0.041482\n",
       " -0.0665223   -0.0471712   -0.00806832      0.0220282    0.0139054\n",
       " -0.0265368    0.0950556   -0.0219129      -0.00623255  -0.0545038\n",
       "  0.0389063   -0.0830055   -0.0425106       0.0425412    0.0506114\n",
       " -0.0289374   -0.013035    -0.0277565   …  -0.0386494   -0.0694394\n",
       "  0.262685     0.120386     0.0713697       0.152552     0.161299\n",
       " -0.199201    -0.0282382   -0.061378       -0.0525073    0.00855805\n",
       "  ⋮                                     ⋱               \n",
       " -0.0532545   -0.107636    -0.025055       -0.0391774    0.0932216\n",
       " -0.133282    -0.121597    -0.0960787      -0.0104844    0.0139398\n",
       "  0.0575454    0.141337     0.0388494   …   0.0500117    0.0572263\n",
       " -0.0582661    0.0904279   -0.0256316       0.00326254   0.0451772\n",
       " -0.0350783   -0.0638512   -0.0809149      -0.0335337    0.0184452\n",
       "  0.0250878   -0.0235799   -0.012582       -0.00625479   0.00875902\n",
       "  0.0304025   -0.0362543    0.0313356       0.00913618   0.0175548\n",
       "  0.025702     0.0415537    0.0421469   …   0.0303903    0.0137845\n",
       "  0.0397852    0.00866382   0.039441        0.0455588   -0.0168321\n",
       " -0.0152042   -0.135253     0.0069992      -0.032351    -0.0346758\n",
       " -0.0305528   -0.0166412   -0.0233096       0.00169218   0.033999\n",
       "  0.0433298   -0.0259351    0.0296413       0.0442477   -0.0248448"
      ]
     },
     "execution_count": 36,
     "metadata": {},
     "output_type": "execute_result"
    }
   ],
   "source": [
    "label_train = labels[1:10000]\n",
    "label_test = labels[10001:20000]\n",
    "feature_train = features[:,1:10000]\n",
    "feature_test = features[:,10001:20000]"
   ]
  },
  {
   "cell_type": "markdown",
   "metadata": {},
   "source": [
    "### Create SVM ML Model"
   ]
  },
  {
   "cell_type": "code",
   "execution_count": 37,
   "metadata": {
    "scrolled": true
   },
   "outputs": [
    {
     "data": {
      "text/plain": [
       "LIBSVM.SVM{Int64}(SVC, LIBSVM.Kernel.RadialBasis, nothing, 100, 2, [-1, 1], Int32[1, 2], Float64[], Int32[], LIBSVM.SupportVectors{Int64,Float64}(9736, Int32[4868, 4868], [-1, -1, -1, -1, -1, -1, -1, -1, -1, -1  …  1, 1, 1, 1, 1, 1, 1, 1, 1, 1], [-0.005917379082014472 0.0829597902807945 … 0.006929897485434017 -0.06046660864248539; -0.06335114994787047 -0.13393607660268106 … -0.11112761489968923 -0.07607712540547393; … ; 0.028997484216069215 -0.01114752897029144 … -0.07349718227927793 -0.03888879698450533; 0.012615253861914385 -0.023845778074134016 … 0.031893204476993474 0.012076859456112577], Int32[1, 2, 3, 4, 6, 7, 8, 11, 14, 20  …  9978, 9981, 9985, 9986, 9988, 9990, 9991, 9992, 9996, 9998], LIBSVM.SVMNode[LIBSVM.SVMNode(1, -0.005917379082014472), LIBSVM.SVMNode(1, 0.0829597902807945), LIBSVM.SVMNode(1, 0.012317784358104539), LIBSVM.SVMNode(1, -0.1575328271389042), LIBSVM.SVMNode(1, -0.04820014245282541), LIBSVM.SVMNode(1, -0.007869881598971269), LIBSVM.SVMNode(1, 0.11945052021111402), LIBSVM.SVMNode(1, -0.014257478748296562), LIBSVM.SVMNode(1, -0.026020770193088988), LIBSVM.SVMNode(1, 0.020826509348653686)  …  LIBSVM.SVMNode(1, 0.024334965419843584), LIBSVM.SVMNode(1, -0.04461732444021057), LIBSVM.SVMNode(1, 0.034263096546176576), LIBSVM.SVMNode(1, 0.04359249414680507), LIBSVM.SVMNode(1, -0.06766470240518864), LIBSVM.SVMNode(1, 0.017265923586446037), LIBSVM.SVMNode(1, -0.059309431862649344), LIBSVM.SVMNode(1, -0.04401676479501125), LIBSVM.SVMNode(1, 0.006929897485434017), LIBSVM.SVMNode(1, -0.06046660864248539)]), 0.0, [1.0; 1.0; … ; -1.0; -1.0], Float64[], Float64[], [0.6663250455273938], 3, 0.01, 200.0, 0.001, 1.0, 0.5, 0.1, true, false)"
      ]
     },
     "execution_count": 37,
     "metadata": {},
     "output_type": "execute_result"
    }
   ],
   "source": [
    "model = svmtrain(feature_train, label_train)"
   ]
  },
  {
   "cell_type": "code",
   "execution_count": 38,
   "metadata": {},
   "outputs": [],
   "source": [
    "@save \"model2.jld\" model"
   ]
  },
  {
   "cell_type": "code",
   "execution_count": 40,
   "metadata": {},
   "outputs": [
    {
     "data": {
      "text/plain": [
       "([-1, -1, 1, 1, -1, 1, -1, 1, -1, -1  …  -1, 1, 1, -1, -1, -1, -1, 1, 1, -1], [0.17947528906498433 0.2647499843566993 … -0.3920475110428713 0.074172762668819; 0.0 0.0 … 0.0 0.0])"
      ]
     },
     "execution_count": 40,
     "metadata": {},
     "output_type": "execute_result"
    }
   ],
   "source": [
    "(predicted_labels, decision_values) = svmpredict(model,feature_test)"
   ]
  },
  {
   "cell_type": "code",
   "execution_count": 41,
   "metadata": {},
   "outputs": [
    {
     "name": "stdout",
     "output_type": "stream",
     "text": [
      "Accuracy: 61.27\n"
     ]
    }
   ],
   "source": [
    "print(\"Accuracy: \")\n",
    "println(mean((predicted_labels .== label_test))*100)"
   ]
  },
  {
   "cell_type": "code",
   "execution_count": 42,
   "metadata": {},
   "outputs": [
    {
     "data": {
      "text/plain": [
       "LIBSVM.SVM{Int64}(SVC, LIBSVM.Kernel.RadialBasis, nothing, 100, 2, [-1, 1], Int32[1, 2], Float64[], Int32[], LIBSVM.SupportVectors{Int64,Float64}(9736, Int32[4868, 4868], [-1, -1, -1, -1, -1, -1, -1, -1, -1, -1  …  1, 1, 1, 1, 1, 1, 1, 1, 1, 1], [-0.005917379082014472 0.0829597902807945 … 0.006929897485434017 -0.06046660864248539; -0.06335114994787047 -0.13393607660268106 … -0.11112761489968923 -0.07607712540547393; … ; 0.028997484216069215 -0.01114752897029144 … -0.07349718227927793 -0.03888879698450533; 0.012615253861914385 -0.023845778074134016 … 0.031893204476993474 0.012076859456112577], Int32[1, 2, 3, 4, 6, 7, 8, 11, 14, 20  …  9978, 9981, 9985, 9986, 9988, 9990, 9991, 9992, 9996, 9998], LIBSVM.SVMNode[LIBSVM.SVMNode(1, -0.005917379082014472), LIBSVM.SVMNode(1, 0.0829597902807945), LIBSVM.SVMNode(1, 0.012317784358104539), LIBSVM.SVMNode(1, -0.1575328271389042), LIBSVM.SVMNode(1, -0.04820014245282541), LIBSVM.SVMNode(1, -0.007869881598971269), LIBSVM.SVMNode(1, 0.11945052021111402), LIBSVM.SVMNode(1, -0.014257478748296562), LIBSVM.SVMNode(1, -0.026020770193088988), LIBSVM.SVMNode(1, 0.020826509348653686)  …  LIBSVM.SVMNode(1, 0.024334965419843584), LIBSVM.SVMNode(1, -0.04461732444021057), LIBSVM.SVMNode(1, 0.034263096546176576), LIBSVM.SVMNode(1, 0.04359249414680507), LIBSVM.SVMNode(1, -0.06766470240518864), LIBSVM.SVMNode(1, 0.017265923586446037), LIBSVM.SVMNode(1, -0.059309431862649344), LIBSVM.SVMNode(1, -0.04401676479501125), LIBSVM.SVMNode(1, 0.006929897485434017), LIBSVM.SVMNode(1, -0.06046660864248539)]), 0.0, [1.0; 1.0; … ; -1.0; -1.0], Float64[], Float64[], [0.6663250455273938], 3, 0.01, 200.0, 0.001, 1.0, 0.5, 0.1, true, false)"
      ]
     },
     "execution_count": 42,
     "metadata": {},
     "output_type": "execute_result"
    }
   ],
   "source": [
    "model"
   ]
  },
  {
   "cell_type": "code",
   "execution_count": 44,
   "metadata": {},
   "outputs": [
    {
     "name": "stderr",
     "output_type": "stream",
     "text": [
      "WARNING: ignoring conflicting import of BSON.@save into Main\n"
     ]
    }
   ],
   "source": [
    "using BSON: @save\n",
    "@save \"../../data/mymodel2.bson\" model"
   ]
  },
  {
   "cell_type": "code",
   "execution_count": null,
   "metadata": {},
   "outputs": [],
   "source": []
  }
 ],
 "metadata": {
  "kernelspec": {
   "display_name": "Julia 1.5.2",
   "language": "julia",
   "name": "julia-1.5"
  },
  "language_info": {
   "file_extension": ".jl",
   "mimetype": "application/julia",
   "name": "julia",
   "version": "1.5.2"
  }
 },
 "nbformat": 4,
 "nbformat_minor": 4
}