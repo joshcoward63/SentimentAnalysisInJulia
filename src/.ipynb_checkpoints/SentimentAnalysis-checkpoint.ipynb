{
 "cells": [
  {
   "cell_type": "code",
   "execution_count": 5,
   "metadata": {},
   "outputs": [],
   "source": [
    "using Pkg, CSV, DataFrames, Word2Vec, Languages, MLDataUtils, WordTokenizers, Random, LIBSVM, Statistics"
   ]
  },
  {
   "cell_type": "code",
   "execution_count": 6,
   "metadata": {},
   "outputs": [
    {
     "data": {
      "text/html": [
       "<table class=\"data-frame\"><thead><tr><th></th><th>_0</th><th>_1467810369</th><th>Mon_Apr_06_22_19_45_PDT_2009</th><th>NO_QUERY</th><th>_TheSpecialOne_</th><th>_switchfoot_http_twitpic_com_2y1zl_Awww_that_s_a_bummer_You_shoulda_got_David_Carr_of_Third_Day_to_do_it_D</th></tr><tr><th></th><th>Int64</th><th>Int64</th><th>String</th><th>String</th><th>String</th><th>String</th></tr></thead><tbody><p>6 rows × 6 columns</p><tr><th>1</th><td>0</td><td>1467810672</td><td>Mon Apr 06 22:19:49 PDT 2009</td><td>NO_QUERY</td><td>scotthamilton</td><td>is upset that he can't update his Facebook by texting it... and might cry as a result  School today also. Blah!</td></tr><tr><th>2</th><td>0</td><td>1467810917</td><td>Mon Apr 06 22:19:53 PDT 2009</td><td>NO_QUERY</td><td>mattycus</td><td>@Kenichan I dived many times for the ball. Managed to save 50%  The rest go out of bounds</td></tr><tr><th>3</th><td>0</td><td>1467811184</td><td>Mon Apr 06 22:19:57 PDT 2009</td><td>NO_QUERY</td><td>ElleCTF</td><td>my whole body feels itchy and like its on fire </td></tr><tr><th>4</th><td>0</td><td>1467811193</td><td>Mon Apr 06 22:19:57 PDT 2009</td><td>NO_QUERY</td><td>Karoli</td><td>@nationwideclass no, it's not behaving at all. i'm mad. why am i here? because I can't see you all over there. </td></tr><tr><th>5</th><td>0</td><td>1467811372</td><td>Mon Apr 06 22:20:00 PDT 2009</td><td>NO_QUERY</td><td>joy_wolf</td><td>@Kwesidei not the whole crew </td></tr><tr><th>6</th><td>0</td><td>1467811592</td><td>Mon Apr 06 22:20:03 PDT 2009</td><td>NO_QUERY</td><td>mybirch</td><td>Need a hug </td></tr></tbody></table>"
      ],
      "text/latex": [
       "\\begin{tabular}{r|cccccc}\n",
       "\t& \\_0 & \\_1467810369 & Mon\\_Apr\\_06\\_22\\_19\\_45\\_PDT\\_2009 & NO\\_QUERY & \\_TheSpecialOne\\_ & \\_switchfoot\\_http\\_twitpic\\_com\\_2y1zl\\_Awww\\_that\\_s\\_a\\_bummer\\_You\\_shoulda\\_got\\_David\\_Carr\\_of\\_Third\\_Day\\_to\\_do\\_it\\_D\\\\\n",
       "\t\\hline\n",
       "\t& Int64 & Int64 & String & String & String & String\\\\\n",
       "\t\\hline\n",
       "\t1 & 0 & 1467810672 & Mon Apr 06 22:19:49 PDT 2009 & NO\\_QUERY & scotthamilton & is upset that he can't update his Facebook by texting it... and might cry as a result  School today also. Blah! \\\\\n",
       "\t2 & 0 & 1467810917 & Mon Apr 06 22:19:53 PDT 2009 & NO\\_QUERY & mattycus & @Kenichan I dived many times for the ball. Managed to save 50\\%  The rest go out of bounds \\\\\n",
       "\t3 & 0 & 1467811184 & Mon Apr 06 22:19:57 PDT 2009 & NO\\_QUERY & ElleCTF & my whole body feels itchy and like its on fire  \\\\\n",
       "\t4 & 0 & 1467811193 & Mon Apr 06 22:19:57 PDT 2009 & NO\\_QUERY & Karoli & @nationwideclass no, it's not behaving at all. i'm mad. why am i here? because I can't see you all over there.  \\\\\n",
       "\t5 & 0 & 1467811372 & Mon Apr 06 22:20:00 PDT 2009 & NO\\_QUERY & joy\\_wolf & @Kwesidei not the whole crew  \\\\\n",
       "\t6 & 0 & 1467811592 & Mon Apr 06 22:20:03 PDT 2009 & NO\\_QUERY & mybirch & Need a hug  \\\\\n",
       "\\end{tabular}\n"
      ],
      "text/plain": [
       "6×6 DataFrame. Omitted printing of 2 columns\n",
       "│ Row │ _0    │ _1467810369 │ Mon_Apr_06_22_19_45_PDT_2009 │ NO_QUERY │\n",
       "│     │ \u001b[90mInt64\u001b[39m │ \u001b[90mInt64\u001b[39m       │ \u001b[90mString\u001b[39m                       │ \u001b[90mString\u001b[39m   │\n",
       "├─────┼───────┼─────────────┼──────────────────────────────┼──────────┤\n",
       "│ 1   │ 0     │ 1467810672  │ Mon Apr 06 22:19:49 PDT 2009 │ NO_QUERY │\n",
       "│ 2   │ 0     │ 1467810917  │ Mon Apr 06 22:19:53 PDT 2009 │ NO_QUERY │\n",
       "│ 3   │ 0     │ 1467811184  │ Mon Apr 06 22:19:57 PDT 2009 │ NO_QUERY │\n",
       "│ 4   │ 0     │ 1467811193  │ Mon Apr 06 22:19:57 PDT 2009 │ NO_QUERY │\n",
       "│ 5   │ 0     │ 1467811372  │ Mon Apr 06 22:20:00 PDT 2009 │ NO_QUERY │\n",
       "│ 6   │ 0     │ 1467811592  │ Mon Apr 06 22:20:03 PDT 2009 │ NO_QUERY │"
      ]
     },
     "execution_count": 6,
     "metadata": {},
     "output_type": "execute_result"
    }
   ],
   "source": [
    "path = \"D:\\\\Downloads\\\\trainingandtestdata\\\\train.csv\"\n",
    "df = DataFrame(CSV.read(path, normalizenames = true))\n",
    "head(df)"
   ]
  },
  {
   "cell_type": "code",
   "execution_count": 7,
   "metadata": {},
   "outputs": [
    {
     "data": {
      "text/html": [
       "<table class=\"data-frame\"><thead><tr><th></th><th>class_label</th><th>id</th><th>date</th><th>flag</th><th>userid</th></tr><tr><th></th><th>Int64</th><th>Int64</th><th>String</th><th>String</th><th>String</th></tr></thead><tbody><p>1,599,999 rows × 6 columns (omitted printing of 1 columns)</p><tr><th>1</th><td>0</td><td>1467810672</td><td>Mon Apr 06 22:19:49 PDT 2009</td><td>NO_QUERY</td><td>scotthamilton</td></tr><tr><th>2</th><td>0</td><td>1467810917</td><td>Mon Apr 06 22:19:53 PDT 2009</td><td>NO_QUERY</td><td>mattycus</td></tr><tr><th>3</th><td>0</td><td>1467811184</td><td>Mon Apr 06 22:19:57 PDT 2009</td><td>NO_QUERY</td><td>ElleCTF</td></tr><tr><th>4</th><td>0</td><td>1467811193</td><td>Mon Apr 06 22:19:57 PDT 2009</td><td>NO_QUERY</td><td>Karoli</td></tr><tr><th>5</th><td>0</td><td>1467811372</td><td>Mon Apr 06 22:20:00 PDT 2009</td><td>NO_QUERY</td><td>joy_wolf</td></tr><tr><th>6</th><td>0</td><td>1467811592</td><td>Mon Apr 06 22:20:03 PDT 2009</td><td>NO_QUERY</td><td>mybirch</td></tr><tr><th>7</th><td>0</td><td>1467811594</td><td>Mon Apr 06 22:20:03 PDT 2009</td><td>NO_QUERY</td><td>coZZ</td></tr><tr><th>8</th><td>0</td><td>1467811795</td><td>Mon Apr 06 22:20:05 PDT 2009</td><td>NO_QUERY</td><td>2Hood4Hollywood</td></tr><tr><th>9</th><td>0</td><td>1467812025</td><td>Mon Apr 06 22:20:09 PDT 2009</td><td>NO_QUERY</td><td>mimismo</td></tr><tr><th>10</th><td>0</td><td>1467812416</td><td>Mon Apr 06 22:20:16 PDT 2009</td><td>NO_QUERY</td><td>erinx3leannexo</td></tr><tr><th>11</th><td>0</td><td>1467812579</td><td>Mon Apr 06 22:20:17 PDT 2009</td><td>NO_QUERY</td><td>pardonlauren</td></tr><tr><th>12</th><td>0</td><td>1467812723</td><td>Mon Apr 06 22:20:19 PDT 2009</td><td>NO_QUERY</td><td>TLeC</td></tr><tr><th>13</th><td>0</td><td>1467812771</td><td>Mon Apr 06 22:20:19 PDT 2009</td><td>NO_QUERY</td><td>robrobbierobert</td></tr><tr><th>14</th><td>0</td><td>1467812784</td><td>Mon Apr 06 22:20:20 PDT 2009</td><td>NO_QUERY</td><td>bayofwolves</td></tr><tr><th>15</th><td>0</td><td>1467812799</td><td>Mon Apr 06 22:20:20 PDT 2009</td><td>NO_QUERY</td><td>HairByJess</td></tr><tr><th>16</th><td>0</td><td>1467812964</td><td>Mon Apr 06 22:20:22 PDT 2009</td><td>NO_QUERY</td><td>lovesongwriter</td></tr><tr><th>17</th><td>0</td><td>1467813137</td><td>Mon Apr 06 22:20:25 PDT 2009</td><td>NO_QUERY</td><td>armotley</td></tr><tr><th>18</th><td>0</td><td>1467813579</td><td>Mon Apr 06 22:20:31 PDT 2009</td><td>NO_QUERY</td><td>starkissed</td></tr><tr><th>19</th><td>0</td><td>1467813782</td><td>Mon Apr 06 22:20:34 PDT 2009</td><td>NO_QUERY</td><td>gi_gi_bee</td></tr><tr><th>20</th><td>0</td><td>1467813985</td><td>Mon Apr 06 22:20:37 PDT 2009</td><td>NO_QUERY</td><td>quanvu</td></tr><tr><th>21</th><td>0</td><td>1467813992</td><td>Mon Apr 06 22:20:38 PDT 2009</td><td>NO_QUERY</td><td>swinspeedx</td></tr><tr><th>22</th><td>0</td><td>1467814119</td><td>Mon Apr 06 22:20:40 PDT 2009</td><td>NO_QUERY</td><td>cooliodoc</td></tr><tr><th>23</th><td>0</td><td>1467814180</td><td>Mon Apr 06 22:20:40 PDT 2009</td><td>NO_QUERY</td><td>viJILLante</td></tr><tr><th>24</th><td>0</td><td>1467814192</td><td>Mon Apr 06 22:20:41 PDT 2009</td><td>NO_QUERY</td><td>Ljelli3166</td></tr><tr><th>25</th><td>0</td><td>1467814438</td><td>Mon Apr 06 22:20:44 PDT 2009</td><td>NO_QUERY</td><td>ChicagoCubbie</td></tr><tr><th>26</th><td>0</td><td>1467814783</td><td>Mon Apr 06 22:20:50 PDT 2009</td><td>NO_QUERY</td><td>KatieAngell</td></tr><tr><th>27</th><td>0</td><td>1467814883</td><td>Mon Apr 06 22:20:52 PDT 2009</td><td>NO_QUERY</td><td>gagoo</td></tr><tr><th>28</th><td>0</td><td>1467815199</td><td>Mon Apr 06 22:20:56 PDT 2009</td><td>NO_QUERY</td><td>abel209</td></tr><tr><th>29</th><td>0</td><td>1467815753</td><td>Mon Apr 06 22:21:04 PDT 2009</td><td>NO_QUERY</td><td>BaptisteTheFool</td></tr><tr><th>30</th><td>0</td><td>1467815923</td><td>Mon Apr 06 22:21:07 PDT 2009</td><td>NO_QUERY</td><td>fatkat309</td></tr><tr><th>&vellip;</th><td>&vellip;</td><td>&vellip;</td><td>&vellip;</td><td>&vellip;</td><td>&vellip;</td></tr></tbody></table>"
      ],
      "text/latex": [
       "\\begin{tabular}{r|cccccc}\n",
       "\t& class\\_label & id & date & flag & userid & \\\\\n",
       "\t\\hline\n",
       "\t& Int64 & Int64 & String & String & String & \\\\\n",
       "\t\\hline\n",
       "\t1 & 0 & 1467810672 & Mon Apr 06 22:19:49 PDT 2009 & NO\\_QUERY & scotthamilton & $\\dots$ \\\\\n",
       "\t2 & 0 & 1467810917 & Mon Apr 06 22:19:53 PDT 2009 & NO\\_QUERY & mattycus & $\\dots$ \\\\\n",
       "\t3 & 0 & 1467811184 & Mon Apr 06 22:19:57 PDT 2009 & NO\\_QUERY & ElleCTF & $\\dots$ \\\\\n",
       "\t4 & 0 & 1467811193 & Mon Apr 06 22:19:57 PDT 2009 & NO\\_QUERY & Karoli & $\\dots$ \\\\\n",
       "\t5 & 0 & 1467811372 & Mon Apr 06 22:20:00 PDT 2009 & NO\\_QUERY & joy\\_wolf & $\\dots$ \\\\\n",
       "\t6 & 0 & 1467811592 & Mon Apr 06 22:20:03 PDT 2009 & NO\\_QUERY & mybirch & $\\dots$ \\\\\n",
       "\t7 & 0 & 1467811594 & Mon Apr 06 22:20:03 PDT 2009 & NO\\_QUERY & coZZ & $\\dots$ \\\\\n",
       "\t8 & 0 & 1467811795 & Mon Apr 06 22:20:05 PDT 2009 & NO\\_QUERY & 2Hood4Hollywood & $\\dots$ \\\\\n",
       "\t9 & 0 & 1467812025 & Mon Apr 06 22:20:09 PDT 2009 & NO\\_QUERY & mimismo & $\\dots$ \\\\\n",
       "\t10 & 0 & 1467812416 & Mon Apr 06 22:20:16 PDT 2009 & NO\\_QUERY & erinx3leannexo & $\\dots$ \\\\\n",
       "\t11 & 0 & 1467812579 & Mon Apr 06 22:20:17 PDT 2009 & NO\\_QUERY & pardonlauren & $\\dots$ \\\\\n",
       "\t12 & 0 & 1467812723 & Mon Apr 06 22:20:19 PDT 2009 & NO\\_QUERY & TLeC & $\\dots$ \\\\\n",
       "\t13 & 0 & 1467812771 & Mon Apr 06 22:20:19 PDT 2009 & NO\\_QUERY & robrobbierobert & $\\dots$ \\\\\n",
       "\t14 & 0 & 1467812784 & Mon Apr 06 22:20:20 PDT 2009 & NO\\_QUERY & bayofwolves & $\\dots$ \\\\\n",
       "\t15 & 0 & 1467812799 & Mon Apr 06 22:20:20 PDT 2009 & NO\\_QUERY & HairByJess & $\\dots$ \\\\\n",
       "\t16 & 0 & 1467812964 & Mon Apr 06 22:20:22 PDT 2009 & NO\\_QUERY & lovesongwriter & $\\dots$ \\\\\n",
       "\t17 & 0 & 1467813137 & Mon Apr 06 22:20:25 PDT 2009 & NO\\_QUERY & armotley & $\\dots$ \\\\\n",
       "\t18 & 0 & 1467813579 & Mon Apr 06 22:20:31 PDT 2009 & NO\\_QUERY & starkissed & $\\dots$ \\\\\n",
       "\t19 & 0 & 1467813782 & Mon Apr 06 22:20:34 PDT 2009 & NO\\_QUERY & gi\\_gi\\_bee & $\\dots$ \\\\\n",
       "\t20 & 0 & 1467813985 & Mon Apr 06 22:20:37 PDT 2009 & NO\\_QUERY & quanvu & $\\dots$ \\\\\n",
       "\t21 & 0 & 1467813992 & Mon Apr 06 22:20:38 PDT 2009 & NO\\_QUERY & swinspeedx & $\\dots$ \\\\\n",
       "\t22 & 0 & 1467814119 & Mon Apr 06 22:20:40 PDT 2009 & NO\\_QUERY & cooliodoc & $\\dots$ \\\\\n",
       "\t23 & 0 & 1467814180 & Mon Apr 06 22:20:40 PDT 2009 & NO\\_QUERY & viJILLante & $\\dots$ \\\\\n",
       "\t24 & 0 & 1467814192 & Mon Apr 06 22:20:41 PDT 2009 & NO\\_QUERY & Ljelli3166 & $\\dots$ \\\\\n",
       "\t25 & 0 & 1467814438 & Mon Apr 06 22:20:44 PDT 2009 & NO\\_QUERY & ChicagoCubbie & $\\dots$ \\\\\n",
       "\t26 & 0 & 1467814783 & Mon Apr 06 22:20:50 PDT 2009 & NO\\_QUERY & KatieAngell & $\\dots$ \\\\\n",
       "\t27 & 0 & 1467814883 & Mon Apr 06 22:20:52 PDT 2009 & NO\\_QUERY & gagoo & $\\dots$ \\\\\n",
       "\t28 & 0 & 1467815199 & Mon Apr 06 22:20:56 PDT 2009 & NO\\_QUERY & abel209 & $\\dots$ \\\\\n",
       "\t29 & 0 & 1467815753 & Mon Apr 06 22:21:04 PDT 2009 & NO\\_QUERY & BaptisteTheFool & $\\dots$ \\\\\n",
       "\t30 & 0 & 1467815923 & Mon Apr 06 22:21:07 PDT 2009 & NO\\_QUERY & fatkat309 & $\\dots$ \\\\\n",
       "\t$\\dots$ & $\\dots$ & $\\dots$ & $\\dots$ & $\\dots$ & $\\dots$ &  \\\\\n",
       "\\end{tabular}\n"
      ],
      "text/plain": [
       "1599999×6 DataFrame. Omitted printing of 2 columns\n",
       "│ Row     │ class_label │ id         │ date                         │ flag     │\n",
       "│         │ \u001b[90mInt64\u001b[39m       │ \u001b[90mInt64\u001b[39m      │ \u001b[90mString\u001b[39m                       │ \u001b[90mString\u001b[39m   │\n",
       "├─────────┼─────────────┼────────────┼──────────────────────────────┼──────────┤\n",
       "│ 1       │ 0           │ 1467810672 │ Mon Apr 06 22:19:49 PDT 2009 │ NO_QUERY │\n",
       "│ 2       │ 0           │ 1467810917 │ Mon Apr 06 22:19:53 PDT 2009 │ NO_QUERY │\n",
       "│ 3       │ 0           │ 1467811184 │ Mon Apr 06 22:19:57 PDT 2009 │ NO_QUERY │\n",
       "│ 4       │ 0           │ 1467811193 │ Mon Apr 06 22:19:57 PDT 2009 │ NO_QUERY │\n",
       "│ 5       │ 0           │ 1467811372 │ Mon Apr 06 22:20:00 PDT 2009 │ NO_QUERY │\n",
       "│ 6       │ 0           │ 1467811592 │ Mon Apr 06 22:20:03 PDT 2009 │ NO_QUERY │\n",
       "│ 7       │ 0           │ 1467811594 │ Mon Apr 06 22:20:03 PDT 2009 │ NO_QUERY │\n",
       "│ 8       │ 0           │ 1467811795 │ Mon Apr 06 22:20:05 PDT 2009 │ NO_QUERY │\n",
       "│ 9       │ 0           │ 1467812025 │ Mon Apr 06 22:20:09 PDT 2009 │ NO_QUERY │\n",
       "│ 10      │ 0           │ 1467812416 │ Mon Apr 06 22:20:16 PDT 2009 │ NO_QUERY │\n",
       "⋮\n",
       "│ 1599989 │ 4           │ 2193579211 │ Tue Jun 16 08:38:59 PDT 2009 │ NO_QUERY │\n",
       "│ 1599990 │ 4           │ 2193579249 │ Tue Jun 16 08:38:59 PDT 2009 │ NO_QUERY │\n",
       "│ 1599991 │ 4           │ 2193579284 │ Tue Jun 16 08:38:59 PDT 2009 │ NO_QUERY │\n",
       "│ 1599992 │ 4           │ 2193579434 │ Tue Jun 16 08:39:00 PDT 2009 │ NO_QUERY │\n",
       "│ 1599993 │ 4           │ 2193579477 │ Tue Jun 16 08:39:00 PDT 2009 │ NO_QUERY │\n",
       "│ 1599994 │ 4           │ 2193579489 │ Tue Jun 16 08:39:00 PDT 2009 │ NO_QUERY │\n",
       "│ 1599995 │ 4           │ 2193601966 │ Tue Jun 16 08:40:49 PDT 2009 │ NO_QUERY │\n",
       "│ 1599996 │ 4           │ 2193601969 │ Tue Jun 16 08:40:49 PDT 2009 │ NO_QUERY │\n",
       "│ 1599997 │ 4           │ 2193601991 │ Tue Jun 16 08:40:49 PDT 2009 │ NO_QUERY │\n",
       "│ 1599998 │ 4           │ 2193602064 │ Tue Jun 16 08:40:49 PDT 2009 │ NO_QUERY │\n",
       "│ 1599999 │ 4           │ 2193602129 │ Tue Jun 16 08:40:50 PDT 2009 │ NO_QUERY │"
      ]
     },
     "execution_count": 7,
     "metadata": {},
     "output_type": "execute_result"
    }
   ],
   "source": [
    "rename!(df,:_0 => :\"class_label\")\n",
    "rename!(df,:_1467810369 => :\"id\")\n",
    "rename!(df,:Mon_Apr_06_22_19_45_PDT_2009 => :\"date\")\n",
    "rename!(df,:NO_QUERY => :\"flag\")\n",
    "rename!(df,:_TheSpecialOne_ => :\"userid\")\n",
    "rename!(df,:_switchfoot_http_twitpic_com_2y1zl_Awww_that_s_a_bummer_You_shoulda_got_David_Carr_of_Third_Day_to_do_it_D => :\"tweet\")"
   ]
  },
  {
   "cell_type": "code",
   "execution_count": 8,
   "metadata": {},
   "outputs": [
    {
     "data": {
      "text/plain": [
       "1599999-element Array{Int64,1}:\n",
       " -1\n",
       " -1\n",
       " -1\n",
       " -1\n",
       " -1\n",
       " -1\n",
       " -1\n",
       " -1\n",
       " -1\n",
       " -1\n",
       " -1\n",
       " -1\n",
       " -1\n",
       "  ⋮\n",
       "  1\n",
       "  1\n",
       "  1\n",
       "  1\n",
       "  1\n",
       "  1\n",
       "  1\n",
       "  1\n",
       "  1\n",
       "  1\n",
       "  1\n",
       "  1"
      ]
     },
     "execution_count": 8,
     "metadata": {},
     "output_type": "execute_result"
    }
   ],
   "source": [
    "df.class_label = replace!(df.class_label, 0 => -1)\n",
    "df.class_label = replace!(df.class_label, 4 => 1)"
   ]
  },
  {
   "cell_type": "code",
   "execution_count": 9,
   "metadata": {},
   "outputs": [
    {
     "data": {
      "text/html": [
       "<table class=\"data-frame\"><thead><tr><th></th><th>class_label</th><th>id</th><th>date</th><th>flag</th><th>userid</th></tr><tr><th></th><th>Int64</th><th>Int64</th><th>String</th><th>String</th><th>String</th></tr></thead><tbody><p>1,599,999 rows × 6 columns (omitted printing of 1 columns)</p><tr><th>1</th><td>-1</td><td>1467810672</td><td>Mon Apr 06 22:19:49 PDT 2009</td><td>NO_QUERY</td><td>scotthamilton</td></tr><tr><th>2</th><td>-1</td><td>1467810917</td><td>Mon Apr 06 22:19:53 PDT 2009</td><td>NO_QUERY</td><td>mattycus</td></tr><tr><th>3</th><td>-1</td><td>1467811184</td><td>Mon Apr 06 22:19:57 PDT 2009</td><td>NO_QUERY</td><td>ElleCTF</td></tr><tr><th>4</th><td>-1</td><td>1467811193</td><td>Mon Apr 06 22:19:57 PDT 2009</td><td>NO_QUERY</td><td>Karoli</td></tr><tr><th>5</th><td>-1</td><td>1467811372</td><td>Mon Apr 06 22:20:00 PDT 2009</td><td>NO_QUERY</td><td>joy_wolf</td></tr><tr><th>6</th><td>-1</td><td>1467811592</td><td>Mon Apr 06 22:20:03 PDT 2009</td><td>NO_QUERY</td><td>mybirch</td></tr><tr><th>7</th><td>-1</td><td>1467811594</td><td>Mon Apr 06 22:20:03 PDT 2009</td><td>NO_QUERY</td><td>coZZ</td></tr><tr><th>8</th><td>-1</td><td>1467811795</td><td>Mon Apr 06 22:20:05 PDT 2009</td><td>NO_QUERY</td><td>2Hood4Hollywood</td></tr><tr><th>9</th><td>-1</td><td>1467812025</td><td>Mon Apr 06 22:20:09 PDT 2009</td><td>NO_QUERY</td><td>mimismo</td></tr><tr><th>10</th><td>-1</td><td>1467812416</td><td>Mon Apr 06 22:20:16 PDT 2009</td><td>NO_QUERY</td><td>erinx3leannexo</td></tr><tr><th>11</th><td>-1</td><td>1467812579</td><td>Mon Apr 06 22:20:17 PDT 2009</td><td>NO_QUERY</td><td>pardonlauren</td></tr><tr><th>12</th><td>-1</td><td>1467812723</td><td>Mon Apr 06 22:20:19 PDT 2009</td><td>NO_QUERY</td><td>TLeC</td></tr><tr><th>13</th><td>-1</td><td>1467812771</td><td>Mon Apr 06 22:20:19 PDT 2009</td><td>NO_QUERY</td><td>robrobbierobert</td></tr><tr><th>14</th><td>-1</td><td>1467812784</td><td>Mon Apr 06 22:20:20 PDT 2009</td><td>NO_QUERY</td><td>bayofwolves</td></tr><tr><th>15</th><td>-1</td><td>1467812799</td><td>Mon Apr 06 22:20:20 PDT 2009</td><td>NO_QUERY</td><td>HairByJess</td></tr><tr><th>16</th><td>-1</td><td>1467812964</td><td>Mon Apr 06 22:20:22 PDT 2009</td><td>NO_QUERY</td><td>lovesongwriter</td></tr><tr><th>17</th><td>-1</td><td>1467813137</td><td>Mon Apr 06 22:20:25 PDT 2009</td><td>NO_QUERY</td><td>armotley</td></tr><tr><th>18</th><td>-1</td><td>1467813579</td><td>Mon Apr 06 22:20:31 PDT 2009</td><td>NO_QUERY</td><td>starkissed</td></tr><tr><th>19</th><td>-1</td><td>1467813782</td><td>Mon Apr 06 22:20:34 PDT 2009</td><td>NO_QUERY</td><td>gi_gi_bee</td></tr><tr><th>20</th><td>-1</td><td>1467813985</td><td>Mon Apr 06 22:20:37 PDT 2009</td><td>NO_QUERY</td><td>quanvu</td></tr><tr><th>21</th><td>-1</td><td>1467813992</td><td>Mon Apr 06 22:20:38 PDT 2009</td><td>NO_QUERY</td><td>swinspeedx</td></tr><tr><th>22</th><td>-1</td><td>1467814119</td><td>Mon Apr 06 22:20:40 PDT 2009</td><td>NO_QUERY</td><td>cooliodoc</td></tr><tr><th>23</th><td>-1</td><td>1467814180</td><td>Mon Apr 06 22:20:40 PDT 2009</td><td>NO_QUERY</td><td>viJILLante</td></tr><tr><th>24</th><td>-1</td><td>1467814192</td><td>Mon Apr 06 22:20:41 PDT 2009</td><td>NO_QUERY</td><td>Ljelli3166</td></tr><tr><th>25</th><td>-1</td><td>1467814438</td><td>Mon Apr 06 22:20:44 PDT 2009</td><td>NO_QUERY</td><td>ChicagoCubbie</td></tr><tr><th>26</th><td>-1</td><td>1467814783</td><td>Mon Apr 06 22:20:50 PDT 2009</td><td>NO_QUERY</td><td>KatieAngell</td></tr><tr><th>27</th><td>-1</td><td>1467814883</td><td>Mon Apr 06 22:20:52 PDT 2009</td><td>NO_QUERY</td><td>gagoo</td></tr><tr><th>28</th><td>-1</td><td>1467815199</td><td>Mon Apr 06 22:20:56 PDT 2009</td><td>NO_QUERY</td><td>abel209</td></tr><tr><th>29</th><td>-1</td><td>1467815753</td><td>Mon Apr 06 22:21:04 PDT 2009</td><td>NO_QUERY</td><td>BaptisteTheFool</td></tr><tr><th>30</th><td>-1</td><td>1467815923</td><td>Mon Apr 06 22:21:07 PDT 2009</td><td>NO_QUERY</td><td>fatkat309</td></tr><tr><th>&vellip;</th><td>&vellip;</td><td>&vellip;</td><td>&vellip;</td><td>&vellip;</td><td>&vellip;</td></tr></tbody></table>"
      ],
      "text/latex": [
       "\\begin{tabular}{r|cccccc}\n",
       "\t& class\\_label & id & date & flag & userid & \\\\\n",
       "\t\\hline\n",
       "\t& Int64 & Int64 & String & String & String & \\\\\n",
       "\t\\hline\n",
       "\t1 & -1 & 1467810672 & Mon Apr 06 22:19:49 PDT 2009 & NO\\_QUERY & scotthamilton & $\\dots$ \\\\\n",
       "\t2 & -1 & 1467810917 & Mon Apr 06 22:19:53 PDT 2009 & NO\\_QUERY & mattycus & $\\dots$ \\\\\n",
       "\t3 & -1 & 1467811184 & Mon Apr 06 22:19:57 PDT 2009 & NO\\_QUERY & ElleCTF & $\\dots$ \\\\\n",
       "\t4 & -1 & 1467811193 & Mon Apr 06 22:19:57 PDT 2009 & NO\\_QUERY & Karoli & $\\dots$ \\\\\n",
       "\t5 & -1 & 1467811372 & Mon Apr 06 22:20:00 PDT 2009 & NO\\_QUERY & joy\\_wolf & $\\dots$ \\\\\n",
       "\t6 & -1 & 1467811592 & Mon Apr 06 22:20:03 PDT 2009 & NO\\_QUERY & mybirch & $\\dots$ \\\\\n",
       "\t7 & -1 & 1467811594 & Mon Apr 06 22:20:03 PDT 2009 & NO\\_QUERY & coZZ & $\\dots$ \\\\\n",
       "\t8 & -1 & 1467811795 & Mon Apr 06 22:20:05 PDT 2009 & NO\\_QUERY & 2Hood4Hollywood & $\\dots$ \\\\\n",
       "\t9 & -1 & 1467812025 & Mon Apr 06 22:20:09 PDT 2009 & NO\\_QUERY & mimismo & $\\dots$ \\\\\n",
       "\t10 & -1 & 1467812416 & Mon Apr 06 22:20:16 PDT 2009 & NO\\_QUERY & erinx3leannexo & $\\dots$ \\\\\n",
       "\t11 & -1 & 1467812579 & Mon Apr 06 22:20:17 PDT 2009 & NO\\_QUERY & pardonlauren & $\\dots$ \\\\\n",
       "\t12 & -1 & 1467812723 & Mon Apr 06 22:20:19 PDT 2009 & NO\\_QUERY & TLeC & $\\dots$ \\\\\n",
       "\t13 & -1 & 1467812771 & Mon Apr 06 22:20:19 PDT 2009 & NO\\_QUERY & robrobbierobert & $\\dots$ \\\\\n",
       "\t14 & -1 & 1467812784 & Mon Apr 06 22:20:20 PDT 2009 & NO\\_QUERY & bayofwolves & $\\dots$ \\\\\n",
       "\t15 & -1 & 1467812799 & Mon Apr 06 22:20:20 PDT 2009 & NO\\_QUERY & HairByJess & $\\dots$ \\\\\n",
       "\t16 & -1 & 1467812964 & Mon Apr 06 22:20:22 PDT 2009 & NO\\_QUERY & lovesongwriter & $\\dots$ \\\\\n",
       "\t17 & -1 & 1467813137 & Mon Apr 06 22:20:25 PDT 2009 & NO\\_QUERY & armotley & $\\dots$ \\\\\n",
       "\t18 & -1 & 1467813579 & Mon Apr 06 22:20:31 PDT 2009 & NO\\_QUERY & starkissed & $\\dots$ \\\\\n",
       "\t19 & -1 & 1467813782 & Mon Apr 06 22:20:34 PDT 2009 & NO\\_QUERY & gi\\_gi\\_bee & $\\dots$ \\\\\n",
       "\t20 & -1 & 1467813985 & Mon Apr 06 22:20:37 PDT 2009 & NO\\_QUERY & quanvu & $\\dots$ \\\\\n",
       "\t21 & -1 & 1467813992 & Mon Apr 06 22:20:38 PDT 2009 & NO\\_QUERY & swinspeedx & $\\dots$ \\\\\n",
       "\t22 & -1 & 1467814119 & Mon Apr 06 22:20:40 PDT 2009 & NO\\_QUERY & cooliodoc & $\\dots$ \\\\\n",
       "\t23 & -1 & 1467814180 & Mon Apr 06 22:20:40 PDT 2009 & NO\\_QUERY & viJILLante & $\\dots$ \\\\\n",
       "\t24 & -1 & 1467814192 & Mon Apr 06 22:20:41 PDT 2009 & NO\\_QUERY & Ljelli3166 & $\\dots$ \\\\\n",
       "\t25 & -1 & 1467814438 & Mon Apr 06 22:20:44 PDT 2009 & NO\\_QUERY & ChicagoCubbie & $\\dots$ \\\\\n",
       "\t26 & -1 & 1467814783 & Mon Apr 06 22:20:50 PDT 2009 & NO\\_QUERY & KatieAngell & $\\dots$ \\\\\n",
       "\t27 & -1 & 1467814883 & Mon Apr 06 22:20:52 PDT 2009 & NO\\_QUERY & gagoo & $\\dots$ \\\\\n",
       "\t28 & -1 & 1467815199 & Mon Apr 06 22:20:56 PDT 2009 & NO\\_QUERY & abel209 & $\\dots$ \\\\\n",
       "\t29 & -1 & 1467815753 & Mon Apr 06 22:21:04 PDT 2009 & NO\\_QUERY & BaptisteTheFool & $\\dots$ \\\\\n",
       "\t30 & -1 & 1467815923 & Mon Apr 06 22:21:07 PDT 2009 & NO\\_QUERY & fatkat309 & $\\dots$ \\\\\n",
       "\t$\\dots$ & $\\dots$ & $\\dots$ & $\\dots$ & $\\dots$ & $\\dots$ &  \\\\\n",
       "\\end{tabular}\n"
      ],
      "text/plain": [
       "1599999×6 DataFrame. Omitted printing of 2 columns\n",
       "│ Row     │ class_label │ id         │ date                         │ flag     │\n",
       "│         │ \u001b[90mInt64\u001b[39m       │ \u001b[90mInt64\u001b[39m      │ \u001b[90mString\u001b[39m                       │ \u001b[90mString\u001b[39m   │\n",
       "├─────────┼─────────────┼────────────┼──────────────────────────────┼──────────┤\n",
       "│ 1       │ -1          │ 1467810672 │ Mon Apr 06 22:19:49 PDT 2009 │ NO_QUERY │\n",
       "│ 2       │ -1          │ 1467810917 │ Mon Apr 06 22:19:53 PDT 2009 │ NO_QUERY │\n",
       "│ 3       │ -1          │ 1467811184 │ Mon Apr 06 22:19:57 PDT 2009 │ NO_QUERY │\n",
       "│ 4       │ -1          │ 1467811193 │ Mon Apr 06 22:19:57 PDT 2009 │ NO_QUERY │\n",
       "│ 5       │ -1          │ 1467811372 │ Mon Apr 06 22:20:00 PDT 2009 │ NO_QUERY │\n",
       "│ 6       │ -1          │ 1467811592 │ Mon Apr 06 22:20:03 PDT 2009 │ NO_QUERY │\n",
       "│ 7       │ -1          │ 1467811594 │ Mon Apr 06 22:20:03 PDT 2009 │ NO_QUERY │\n",
       "│ 8       │ -1          │ 1467811795 │ Mon Apr 06 22:20:05 PDT 2009 │ NO_QUERY │\n",
       "│ 9       │ -1          │ 1467812025 │ Mon Apr 06 22:20:09 PDT 2009 │ NO_QUERY │\n",
       "│ 10      │ -1          │ 1467812416 │ Mon Apr 06 22:20:16 PDT 2009 │ NO_QUERY │\n",
       "⋮\n",
       "│ 1599989 │ 1           │ 2193579211 │ Tue Jun 16 08:38:59 PDT 2009 │ NO_QUERY │\n",
       "│ 1599990 │ 1           │ 2193579249 │ Tue Jun 16 08:38:59 PDT 2009 │ NO_QUERY │\n",
       "│ 1599991 │ 1           │ 2193579284 │ Tue Jun 16 08:38:59 PDT 2009 │ NO_QUERY │\n",
       "│ 1599992 │ 1           │ 2193579434 │ Tue Jun 16 08:39:00 PDT 2009 │ NO_QUERY │\n",
       "│ 1599993 │ 1           │ 2193579477 │ Tue Jun 16 08:39:00 PDT 2009 │ NO_QUERY │\n",
       "│ 1599994 │ 1           │ 2193579489 │ Tue Jun 16 08:39:00 PDT 2009 │ NO_QUERY │\n",
       "│ 1599995 │ 1           │ 2193601966 │ Tue Jun 16 08:40:49 PDT 2009 │ NO_QUERY │\n",
       "│ 1599996 │ 1           │ 2193601969 │ Tue Jun 16 08:40:49 PDT 2009 │ NO_QUERY │\n",
       "│ 1599997 │ 1           │ 2193601991 │ Tue Jun 16 08:40:49 PDT 2009 │ NO_QUERY │\n",
       "│ 1599998 │ 1           │ 2193602064 │ Tue Jun 16 08:40:49 PDT 2009 │ NO_QUERY │\n",
       "│ 1599999 │ 1           │ 2193602129 │ Tue Jun 16 08:40:50 PDT 2009 │ NO_QUERY │"
      ]
     },
     "execution_count": 9,
     "metadata": {},
     "output_type": "execute_result"
    }
   ],
   "source": [
    "df"
   ]
  },
  {
   "cell_type": "code",
   "execution_count": 10,
   "metadata": {},
   "outputs": [
    {
     "data": {
      "text/plain": [
       "1599999-element Array{String,1}:\n",
       " \"is upset that he can't update his Facebook by texting it... and might cry as a result  School today also. Blah!\"\n",
       " \"@Kenichan I dived many times for the ball. Managed to save 50%  The rest go out of bounds\"\n",
       " \"my whole body feels itchy and like its on fire \"\n",
       " \"@nationwideclass no, it's not behaving at all. i'm mad. why am i here? because I can't see you all over there. \"\n",
       " \"@Kwesidei not the whole crew \"\n",
       " \"Need a hug \"\n",
       " \"@LOLTrish hey  long time no see! Yes.. Rains a bit ,only a bit  LOL , I'm fine thanks , how's you ?\"\n",
       " \"@Tatiana_K nope they didn't have it \"\n",
       " \"@twittera que me muera ? \"\n",
       " \"spring break in plain city... it's snowing \"\n",
       " \"I just re-pierced my ears \"\n",
       " \"@caregiving I couldn't bear to watch it.  And I thought the UA loss was embarrassing . . . . .\"\n",
       " \"@octolinz16 It it counts, idk why I did either. you never talk to me anymore \"\n",
       " ⋮\n",
       " \"@Roy_Everitt ha- good job. that's right - we gotta throw that #bigrun tag EVERYWHERE! I wanna get it trending before I start \"\n",
       " \"@Ms_Hip_Hop im glad ur doing well \"\n",
       " \"WOOOOO! Xbox is back \"\n",
       " \"@rmedina @LaTati Mmmm  That sounds absolutely perfect... but my schedule is full. I won't have time to lay in bed until Sunday. Ugh!!\"\n",
       " \"ReCoVeRiNg FrOm ThE lOnG wEeKeNd \"\n",
       " \"@SCOOBY_GRITBOYS \"\n",
       " \"@Cliff_Forster Yeah, that does work better than just waiting for it  In the end I just wonder if I have time to keep up a good blog.\"\n",
       " \"Just woke up. Having no school is the best feeling ever \"\n",
       " \"TheWDB.com - Very cool to hear old Walt interviews!  ♫ http://blip.fm/~8bmta\"\n",
       " \"Are you ready for your MoJo Makeover? Ask me for details \"\n",
       " \"Happy 38th Birthday to my boo of alll time!!! Tupac Amaru Shakur \"\n",
       " \"happy #charitytuesday @theNSPCC @SparksCharity @SpeakingUpH4H \""
      ]
     },
     "execution_count": 10,
     "metadata": {},
     "output_type": "execute_result"
    }
   ],
   "source": [
    "df.tweet"
   ]
  },
  {
   "cell_type": "code",
   "execution_count": 11,
   "metadata": {},
   "outputs": [
    {
     "data": {
      "text/plain": [
       "6-element Array{String,1}:\n",
       " \"class_label\"\n",
       " \"id\"\n",
       " \"date\"\n",
       " \"flag\"\n",
       " \"userid\"\n",
       " \"tweet\""
      ]
     },
     "execution_count": 11,
     "metadata": {},
     "output_type": "execute_result"
    }
   ],
   "source": [
    "names(df)"
   ]
  },
  {
   "cell_type": "code",
   "execution_count": null,
   "metadata": {},
   "outputs": [],
   "source": []
  },
  {
   "cell_type": "code",
   "execution_count": 12,
   "metadata": {},
   "outputs": [
    {
     "data": {
      "text/html": [
       "<table class=\"data-frame\"><thead><tr><th></th><th>class_label</th><th>tweet</th></tr><tr><th></th><th>Int64</th><th>String</th></tr></thead><tbody><p>1,599,999 rows × 2 columns</p><tr><th>1</th><td>-1</td><td>is upset that he can't update his Facebook by texting it... and might cry as a result  School today also. Blah!</td></tr><tr><th>2</th><td>-1</td><td>@Kenichan I dived many times for the ball. Managed to save 50%  The rest go out of bounds</td></tr><tr><th>3</th><td>-1</td><td>my whole body feels itchy and like its on fire </td></tr><tr><th>4</th><td>-1</td><td>@nationwideclass no, it's not behaving at all. i'm mad. why am i here? because I can't see you all over there. </td></tr><tr><th>5</th><td>-1</td><td>@Kwesidei not the whole crew </td></tr><tr><th>6</th><td>-1</td><td>Need a hug </td></tr><tr><th>7</th><td>-1</td><td>@LOLTrish hey  long time no see! Yes.. Rains a bit ,only a bit  LOL , I'm fine thanks , how's you ?</td></tr><tr><th>8</th><td>-1</td><td>@Tatiana_K nope they didn't have it </td></tr><tr><th>9</th><td>-1</td><td>@twittera que me muera ? </td></tr><tr><th>10</th><td>-1</td><td>spring break in plain city... it's snowing </td></tr><tr><th>11</th><td>-1</td><td>I just re-pierced my ears </td></tr><tr><th>12</th><td>-1</td><td>@caregiving I couldn't bear to watch it.  And I thought the UA loss was embarrassing . . . . .</td></tr><tr><th>13</th><td>-1</td><td>@octolinz16 It it counts, idk why I did either. you never talk to me anymore </td></tr><tr><th>14</th><td>-1</td><td>@smarrison i would've been the first, but i didn't have a gun.    not really though, zac snyder's just a doucheclown.</td></tr><tr><th>15</th><td>-1</td><td>@iamjazzyfizzle I wish I got to watch it with you!! I miss you and @iamlilnicki  how was the premiere?!</td></tr><tr><th>16</th><td>-1</td><td>Hollis' death scene will hurt me severely to watch on film  wry is directors cut not out now?</td></tr><tr><th>17</th><td>-1</td><td>about to file taxes </td></tr><tr><th>18</th><td>-1</td><td>@LettyA ahh ive always wanted to see rent  love the soundtrack!!</td></tr><tr><th>19</th><td>-1</td><td>@FakerPattyPattz Oh dear. Were you drinking out of the forgotten table drinks? </td></tr><tr><th>20</th><td>-1</td><td>@alydesigns i was out most of the day so didn't get much done </td></tr><tr><th>21</th><td>-1</td><td>one of my friend called me, and asked to meet with her at Mid Valley today...but i've no time *sigh* </td></tr><tr><th>22</th><td>-1</td><td>@angry_barista I baked you a cake but I ated it </td></tr><tr><th>23</th><td>-1</td><td>this week is not going as i had hoped </td></tr><tr><th>24</th><td>-1</td><td>blagh class at 8 tomorrow </td></tr><tr><th>25</th><td>-1</td><td>I hate when I have to call and wake people up </td></tr><tr><th>26</th><td>-1</td><td>Just going to cry myself to sleep after watching Marley and Me.  </td></tr><tr><th>27</th><td>-1</td><td>im sad now  Miss.Lilly</td></tr><tr><th>28</th><td>-1</td><td>ooooh.... LOL  that leslie.... and ok I won't do it again so leslie won't  get mad again </td></tr><tr><th>29</th><td>-1</td><td>Meh... Almost Lover is the exception... this track gets me depressed every time. </td></tr><tr><th>30</th><td>-1</td><td>some1 hacked my account on aim  now i have to make a new one</td></tr><tr><th>&vellip;</th><td>&vellip;</td><td>&vellip;</td></tr></tbody></table>"
      ],
      "text/latex": [
       "\\begin{tabular}{r|cc}\n",
       "\t& class\\_label & tweet\\\\\n",
       "\t\\hline\n",
       "\t& Int64 & String\\\\\n",
       "\t\\hline\n",
       "\t1 & -1 & is upset that he can't update his Facebook by texting it... and might cry as a result  School today also. Blah! \\\\\n",
       "\t2 & -1 & @Kenichan I dived many times for the ball. Managed to save 50\\%  The rest go out of bounds \\\\\n",
       "\t3 & -1 & my whole body feels itchy and like its on fire  \\\\\n",
       "\t4 & -1 & @nationwideclass no, it's not behaving at all. i'm mad. why am i here? because I can't see you all over there.  \\\\\n",
       "\t5 & -1 & @Kwesidei not the whole crew  \\\\\n",
       "\t6 & -1 & Need a hug  \\\\\n",
       "\t7 & -1 & @LOLTrish hey  long time no see! Yes.. Rains a bit ,only a bit  LOL , I'm fine thanks , how's you ? \\\\\n",
       "\t8 & -1 & @Tatiana\\_K nope they didn't have it  \\\\\n",
       "\t9 & -1 & @twittera que me muera ?  \\\\\n",
       "\t10 & -1 & spring break in plain city... it's snowing  \\\\\n",
       "\t11 & -1 & I just re-pierced my ears  \\\\\n",
       "\t12 & -1 & @caregiving I couldn't bear to watch it.  And I thought the UA loss was embarrassing . . . . . \\\\\n",
       "\t13 & -1 & @octolinz16 It it counts, idk why I did either. you never talk to me anymore  \\\\\n",
       "\t14 & -1 & @smarrison i would've been the first, but i didn't have a gun.    not really though, zac snyder's just a doucheclown. \\\\\n",
       "\t15 & -1 & @iamjazzyfizzle I wish I got to watch it with you!! I miss you and @iamlilnicki  how was the premiere?! \\\\\n",
       "\t16 & -1 & Hollis' death scene will hurt me severely to watch on film  wry is directors cut not out now? \\\\\n",
       "\t17 & -1 & about to file taxes  \\\\\n",
       "\t18 & -1 & @LettyA ahh ive always wanted to see rent  love the soundtrack!! \\\\\n",
       "\t19 & -1 & @FakerPattyPattz Oh dear. Were you drinking out of the forgotten table drinks?  \\\\\n",
       "\t20 & -1 & @alydesigns i was out most of the day so didn't get much done  \\\\\n",
       "\t21 & -1 & one of my friend called me, and asked to meet with her at Mid Valley today...but i've no time *sigh*  \\\\\n",
       "\t22 & -1 & @angry\\_barista I baked you a cake but I ated it  \\\\\n",
       "\t23 & -1 & this week is not going as i had hoped  \\\\\n",
       "\t24 & -1 & blagh class at 8 tomorrow  \\\\\n",
       "\t25 & -1 & I hate when I have to call and wake people up  \\\\\n",
       "\t26 & -1 & Just going to cry myself to sleep after watching Marley and Me.   \\\\\n",
       "\t27 & -1 & im sad now  Miss.Lilly \\\\\n",
       "\t28 & -1 & ooooh.... LOL  that leslie.... and ok I won't do it again so leslie won't  get mad again  \\\\\n",
       "\t29 & -1 & Meh... Almost Lover is the exception... this track gets me depressed every time.  \\\\\n",
       "\t30 & -1 & some1 hacked my account on aim  now i have to make a new one \\\\\n",
       "\t$\\dots$ & $\\dots$ & $\\dots$ \\\\\n",
       "\\end{tabular}\n"
      ],
      "text/plain": [
       "1599999×2 DataFrame. Omitted printing of 1 columns\n",
       "│ Row     │ class_label │\n",
       "│         │ \u001b[90mInt64\u001b[39m       │\n",
       "├─────────┼─────────────┤\n",
       "│ 1       │ -1          │\n",
       "│ 2       │ -1          │\n",
       "│ 3       │ -1          │\n",
       "│ 4       │ -1          │\n",
       "│ 5       │ -1          │\n",
       "│ 6       │ -1          │\n",
       "│ 7       │ -1          │\n",
       "│ 8       │ -1          │\n",
       "│ 9       │ -1          │\n",
       "│ 10      │ -1          │\n",
       "⋮\n",
       "│ 1599989 │ 1           │\n",
       "│ 1599990 │ 1           │\n",
       "│ 1599991 │ 1           │\n",
       "│ 1599992 │ 1           │\n",
       "│ 1599993 │ 1           │\n",
       "│ 1599994 │ 1           │\n",
       "│ 1599995 │ 1           │\n",
       "│ 1599996 │ 1           │\n",
       "│ 1599997 │ 1           │\n",
       "│ 1599998 │ 1           │\n",
       "│ 1599999 │ 1           │"
      ]
     },
     "execution_count": 12,
     "metadata": {},
     "output_type": "execute_result"
    }
   ],
   "source": [
    "deletecols!(df, [:id, :date, :flag, :userid])"
   ]
  },
  {
   "cell_type": "code",
   "execution_count": 13,
   "metadata": {},
   "outputs": [
    {
     "data": {
      "text/plain": [
       "2-element Array{Int64,1}:\n",
       " 0\n",
       " 0"
      ]
     },
     "execution_count": 13,
     "metadata": {},
     "output_type": "execute_result"
    }
   ],
   "source": [
    "colwise(x -> sum(ismissing.(x)), df)"
   ]
  },
  {
   "cell_type": "code",
   "execution_count": 14,
   "metadata": {},
   "outputs": [
    {
     "data": {
      "text/plain": [
       "decode_sentiment (generic function with 1 method)"
      ]
     },
     "execution_count": 14,
     "metadata": {},
     "output_type": "execute_result"
    }
   ],
   "source": [
    "decode_map = [0=>\"Negative\", 2=> \"Neutral\", 4=> \"Positive\"]\n",
    "function decode_sentiment(label)\n",
    "    return decode_map[int(label)]\n",
    "end"
   ]
  },
  {
   "cell_type": "code",
   "execution_count": 15,
   "metadata": {},
   "outputs": [
    {
     "data": {
      "text/plain": [
       "1599999"
      ]
     },
     "execution_count": 15,
     "metadata": {},
     "output_type": "execute_result"
    }
   ],
   "source": [
    "count_2 = 0\n",
    "count_0 = 0\n",
    "count_4 = 0\n",
    "combine(groupby(df, :class_label), nrow => :count)\n",
    "count_0 = combine(groupby(df, :class_label), nrow => :count)[:\"count\"][:1]\n",
    "count_4 = combine(groupby(df, :class_label), nrow => :count)[:\"count\"][:2]\n",
    "totalNum = size(df)[:1]"
   ]
  },
  {
   "cell_type": "code",
   "execution_count": 16,
   "metadata": {},
   "outputs": [],
   "source": [
    "# using Plots\n",
    "# using Plotly\n",
    "# using VegaLite\n",
    "# using PyPlot"
   ]
  },
  {
   "cell_type": "code",
   "execution_count": 17,
   "metadata": {},
   "outputs": [],
   "source": [
    "# plotly()\n",
    "# data = [\n",
    "#     \"labels\" => [\"Positive\", \"Negative\"],\n",
    "#     \"counts\" => [count_4, count_0],\n",
    "#     \"type\" => \"bar\"\n",
    "# ]\n",
    "# response = Plotly.plot(data, [\"filename\" => \"basic-bar\", \"fileopt\" => \"overwrite\"])\n",
    "# plot_url = response[\"url\"]"
   ]
  },
  {
   "cell_type": "code",
   "execution_count": 18,
   "metadata": {},
   "outputs": [],
   "source": [
    "# getpath() = \"C:\\\\Users\\\\joshc\\\\Documents\\\\cs354\\\\Julia\\\\train.csv\"\n",
    "# getcolnames() = [\"class_label\", \"id\", \"date\", \"flag\", \"userid\", \"tweet\"]\n",
    "# renamecolumns!(df, colnames) = names!(df, Symbol.(colnames))\n",
    "# function gettweets(filepath) \n",
    "#     df = DataFrame(CSV.read(filepath, normalizenames = true))\n",
    "#     head(df)\n",
    "#     renamecolumns!(df, getcolnames())\n",
    "#     return df.tweet\n",
    "# end# Tweet Formatting"
   ]
  },
  {
   "cell_type": "markdown",
   "metadata": {},
   "source": [
    "### TWEET FORMATTING ###"
   ]
  },
  {
   "cell_type": "code",
   "execution_count": 19,
   "metadata": {},
   "outputs": [
    {
     "data": {
      "text/plain": [
       "488-element Array{String,1}:\n",
       " \"a\"\n",
       " \"about\"\n",
       " \"above\"\n",
       " \"across\"\n",
       " \"after\"\n",
       " \"again\"\n",
       " \"against\"\n",
       " \"all\"\n",
       " \"almost\"\n",
       " \"alone\"\n",
       " \"along\"\n",
       " \"already\"\n",
       " \"also\"\n",
       " ⋮\n",
       " \"youd\"\n",
       " \"youll\"\n",
       " \"young\"\n",
       " \"younger\"\n",
       " \"youngest\"\n",
       " \"your\"\n",
       " \"youre\"\n",
       " \"yours\"\n",
       " \"yourself\"\n",
       " \"yourselves\"\n",
       " \"youve\"\n",
       " \"z\""
      ]
     },
     "execution_count": 19,
     "metadata": {},
     "output_type": "execute_result"
    }
   ],
   "source": [
    "# Variables\n",
    "usernames = r\"@\\w+\" # regex for usernames such as '@twitter_user123'\n",
    "links = r\"((https?:\\/\\/)|(www\\.))\\S+\" # regex for links starting with 'http' or 'www.'\n",
    "htmltags = r\"&#?\\w+;\" # regex for html character entities such as '&lt;' or '&quot;'\n",
    "repeatedletters = r\"(.)\\1{3,}\" # regex for letters repeated three or more times, such as \"hiii\"\n",
    "apostrophes = \"'\" # separate so contractions don't get spaced out e.g. 'can't' becomes 'cant' not 'can t'\n",
    "special = [usernames, links, htmltags, apostrophes, repeatedletters]\n",
    "stopword_list = replace.(stopwords(Languages.English), \"'\" => \"\")"
   ]
  },
  {
   "cell_type": "code",
   "execution_count": 20,
   "metadata": {},
   "outputs": [
    {
     "data": {
      "text/plain": [
       "removestopwords (generic function with 1 method)"
      ]
     },
     "execution_count": 20,
     "metadata": {},
     "output_type": "execute_result"
    }
   ],
   "source": [
    "remove(str, pat) = replace(str, pat => \"\")\n",
    "replacewithspace(str, pat) = replace(str, pat => \" \")\n",
    "removespecial(str) = reduce(remove, special, init=str)\n",
    "format(str) = lowercase(join(split(replace(str, r\"[^A-Za-z ]\" => \" \")), \" \"))*\" \"\n",
    "removenoise(tweet) = (format ∘ removespecial)(tweet)\n",
    "removestopwords(str) = reduce(replacewithspace, stopword_list, init=str)"
   ]
  },
  {
   "cell_type": "code",
   "execution_count": 21,
   "metadata": {},
   "outputs": [
    {
     "data": {
      "text/plain": [
       "488-element Array{String,1}:\n",
       " \"a\"\n",
       " \"about\"\n",
       " \"above\"\n",
       " \"across\"\n",
       " \"after\"\n",
       " \"again\"\n",
       " \"against\"\n",
       " \"all\"\n",
       " \"almost\"\n",
       " \"alone\"\n",
       " \"along\"\n",
       " \"already\"\n",
       " \"also\"\n",
       " ⋮\n",
       " \"youd\"\n",
       " \"youll\"\n",
       " \"young\"\n",
       " \"younger\"\n",
       " \"youngest\"\n",
       " \"your\"\n",
       " \"youre\"\n",
       " \"yours\"\n",
       " \"yourself\"\n",
       " \"yourselves\"\n",
       " \"youve\"\n",
       " \"z\""
      ]
     },
     "execution_count": 21,
     "metadata": {},
     "output_type": "execute_result"
    }
   ],
   "source": [
    "stopword_list = replace.(stopwords(Languages.English), \"'\" => \"\")"
   ]
  },
  {
   "cell_type": "code",
   "execution_count": 22,
   "metadata": {},
   "outputs": [
    {
     "data": {
      "text/plain": [
       "removestopwords (generic function with 1 method)"
      ]
     },
     "execution_count": 22,
     "metadata": {},
     "output_type": "execute_result"
    }
   ],
   "source": [
    "# Functions\n",
    "remove(str, pat) = replace(str, pat => \"\")\n",
    "removefromlist(list, pat) = filter(x->x!=pat, list)\n",
    "removespecial(str) = reduce(remove, special, init=str)\n",
    "format(str) = lowercase(join(split(replace(str, r\"[^A-Za-z ]\" => \" \")), \" \"))*\" \"\n",
    "removenoise(tweet) = (format ∘ removespecial)(tweet)\n",
    "removestopwords(str) = join(reduce(removefromlist, stopword_list, init=split(str)), \" \")\n"
   ]
  },
  {
   "cell_type": "code",
   "execution_count": 23,
   "metadata": {},
   "outputs": [],
   "source": [
    "### WORD2VEC CREATION ###"
   ]
  },
  {
   "cell_type": "code",
   "execution_count": 24,
   "metadata": {},
   "outputs": [
    {
     "data": {
      "text/plain": [
       "createword2vec (generic function with 1 method)"
      ]
     },
     "execution_count": 24,
     "metadata": {},
     "output_type": "execute_result"
    }
   ],
   "source": [
    "# Functions\n",
    "createcorpus(tweets) = removestopwords(join(removenoise.(tweets)))\n",
    "function writecorpusfile()\n",
    "    tweets = df.tweets\n",
    "    corpus = createcorpus(tweets)\n",
    "    open(\"tweets\", \"w\") do io\n",
    "        write(io, corpus)\n",
    "    end\n",
    "end\n",
    "createword2vec() = word2vec(\"tweets\", \"tweets-vec.txt\", verbose = true)"
   ]
  },
  {
   "cell_type": "code",
   "execution_count": 25,
   "metadata": {},
   "outputs": [
    {
     "ename": "LoadError",
     "evalue": "ArgumentError: column name :tweets not found in the data frame; existing most similar names are: :tweet",
     "output_type": "error",
     "traceback": [
      "ArgumentError: column name :tweets not found in the data frame; existing most similar names are: :tweet",
      "",
      "Stacktrace:",
      " [1] lookupname at C:\\Users\\super\\.julia\\packages\\DataFrames\\GtZ1l\\src\\other\\index.jl:289 [inlined]",
      " [2] getindex at C:\\Users\\super\\.julia\\packages\\DataFrames\\GtZ1l\\src\\other\\index.jl:295 [inlined]",
      " [3] getindex(::DataFrame, ::typeof(!), ::Symbol) at C:\\Users\\super\\.julia\\packages\\DataFrames\\GtZ1l\\src\\dataframe\\dataframe.jl:435",
      " [4] getproperty(::DataFrame, ::Symbol) at C:\\Users\\super\\.julia\\packages\\DataFrames\\GtZ1l\\src\\abstractdataframe\\abstractdataframe.jl:346",
      " [5] writecorpusfile() at .\\In[24]:4",
      " [6] top-level scope at In[25]:2",
      " [7] include_string(::Function, ::Module, ::String, ::String) at .\\loading.jl:1091",
      " [8] execute_code(::String, ::String) at C:\\Users\\super\\.julia\\packages\\IJulia\\rWZ9e\\src\\execute_request.jl:27",
      " [9] execute_request(::ZMQ.Socket, ::IJulia.Msg) at C:\\Users\\super\\.julia\\packages\\IJulia\\rWZ9e\\src\\execute_request.jl:86",
      " [10] #invokelatest#1 at .\\essentials.jl:710 [inlined]",
      " [11] invokelatest at .\\essentials.jl:709 [inlined]",
      " [12] eventloop(::ZMQ.Socket) at C:\\Users\\super\\.julia\\packages\\IJulia\\rWZ9e\\src\\eventloop.jl:8",
      " [13] (::IJulia.var\"#15#18\")() at .\\task.jl:356"
     ]
    }
   ],
   "source": [
    "# createword2vec() = word2vec(\"tweets3\", \"tweets-vec.txt\", verbose = true)### MAIN PROGRAM ###\n",
    "writecorpusfile()\n",
    "# createword2vec()"
   ]
  },
  {
   "cell_type": "code",
   "execution_count": 26,
   "metadata": {},
   "outputs": [
    {
     "data": {
      "text/plain": [
       "Any[]"
      ]
     },
     "execution_count": 26,
     "metadata": {},
     "output_type": "execute_result"
    }
   ],
   "source": [
    "x = []"
   ]
  },
  {
   "cell_type": "code",
   "execution_count": 27,
   "metadata": {},
   "outputs": [
    {
     "data": {
      "text/html": [
       "<table class=\"data-frame\"><thead><tr><th></th><th>class_label</th><th>tweet</th></tr><tr><th></th><th>Int64</th><th>String</th></tr></thead><tbody><p>6 rows × 2 columns</p><tr><th>1</th><td>-1</td><td>is upset that he can't update his Facebook by texting it... and might cry as a result  School today also. Blah!</td></tr><tr><th>2</th><td>-1</td><td>@Kenichan I dived many times for the ball. Managed to save 50%  The rest go out of bounds</td></tr><tr><th>3</th><td>-1</td><td>my whole body feels itchy and like its on fire </td></tr><tr><th>4</th><td>-1</td><td>@nationwideclass no, it's not behaving at all. i'm mad. why am i here? because I can't see you all over there. </td></tr><tr><th>5</th><td>-1</td><td>@Kwesidei not the whole crew </td></tr><tr><th>6</th><td>-1</td><td>Need a hug </td></tr></tbody></table>"
      ],
      "text/latex": [
       "\\begin{tabular}{r|cc}\n",
       "\t& class\\_label & tweet\\\\\n",
       "\t\\hline\n",
       "\t& Int64 & String\\\\\n",
       "\t\\hline\n",
       "\t1 & -1 & is upset that he can't update his Facebook by texting it... and might cry as a result  School today also. Blah! \\\\\n",
       "\t2 & -1 & @Kenichan I dived many times for the ball. Managed to save 50\\%  The rest go out of bounds \\\\\n",
       "\t3 & -1 & my whole body feels itchy and like its on fire  \\\\\n",
       "\t4 & -1 & @nationwideclass no, it's not behaving at all. i'm mad. why am i here? because I can't see you all over there.  \\\\\n",
       "\t5 & -1 & @Kwesidei not the whole crew  \\\\\n",
       "\t6 & -1 & Need a hug  \\\\\n",
       "\\end{tabular}\n"
      ],
      "text/plain": [
       "6×2 DataFrame. Omitted printing of 1 columns\n",
       "│ Row │ class_label │\n",
       "│     │ \u001b[90mInt64\u001b[39m       │\n",
       "├─────┼─────────────┤\n",
       "│ 1   │ -1          │\n",
       "│ 2   │ -1          │\n",
       "│ 3   │ -1          │\n",
       "│ 4   │ -1          │\n",
       "│ 5   │ -1          │\n",
       "│ 6   │ -1          │"
      ]
     },
     "execution_count": 27,
     "metadata": {},
     "output_type": "execute_result"
    }
   ],
   "source": [
    "head(df)"
   ]
  },
  {
   "cell_type": "code",
   "execution_count": 28,
   "metadata": {},
   "outputs": [
    {
     "data": {
      "text/plain": [
       "1599999-element Array{String,1}:\n",
       " \"upset update facebook texting cry result school blah\"\n",
       " \"dived times ball managed save rest bounds\"\n",
       " \"body feels itchy fire\"\n",
       " \"behaving mad\"\n",
       " \"crew\"\n",
       " \"hug\"\n",
       " \"hey time rains bit bit lol fine thanks\"\n",
       " \"nope\"\n",
       " \"que muera\"\n",
       " \"spring break plain city snowing\"\n",
       " \"re pierced ears\"\n",
       " \"bear watch ua loss embarrassing\"\n",
       " \"counts idk talk anymore\"\n",
       " ⋮\n",
       " \"ha job gotta throw bigrun tag wanna trending start\"\n",
       " \"glad ur\"\n",
       " \"xbox\"\n",
       " \"mmmm sounds absolutely perfect schedule time lay bed sunday ugh\"\n",
       " \"recovering weekend\"\n",
       " \"\"\n",
       " \"yeah waiting wonder time blog\"\n",
       " \"woke school feeling\"\n",
       " \"thewdb com cool hear walt interviews\"\n",
       " \"ready mojo makeover details\"\n",
       " \"happy th birthday boo alll time tupac amaru shakur\"\n",
       " \"happy charitytuesday\""
      ]
     },
     "execution_count": 28,
     "metadata": {},
     "output_type": "execute_result"
    }
   ],
   "source": [
    "denoise_df!(df) = df.tweet .= (removestopwords ∘ removenoise).(df.tweet)\n",
    "denoise_df!(df)"
   ]
  },
  {
   "cell_type": "code",
   "execution_count": 29,
   "metadata": {},
   "outputs": [
    {
     "data": {
      "text/html": [
       "<table class=\"data-frame\"><thead><tr><th></th><th>class_label</th><th>tweet</th></tr><tr><th></th><th>Int64</th><th>String</th></tr></thead><tbody><p>100 rows × 2 columns</p><tr><th>1</th><td>-1</td><td>upset update facebook texting cry result school blah</td></tr><tr><th>2</th><td>-1</td><td>dived times ball managed save rest bounds</td></tr><tr><th>3</th><td>-1</td><td>body feels itchy fire</td></tr><tr><th>4</th><td>-1</td><td>behaving mad</td></tr><tr><th>5</th><td>-1</td><td>crew</td></tr><tr><th>6</th><td>-1</td><td>hug</td></tr><tr><th>7</th><td>-1</td><td>hey time rains bit bit lol fine thanks</td></tr><tr><th>8</th><td>-1</td><td>nope</td></tr><tr><th>9</th><td>-1</td><td>que muera</td></tr><tr><th>10</th><td>-1</td><td>spring break plain city snowing</td></tr><tr><th>11</th><td>-1</td><td>re pierced ears</td></tr><tr><th>12</th><td>-1</td><td>bear watch ua loss embarrassing</td></tr><tr><th>13</th><td>-1</td><td>counts idk talk anymore</td></tr><tr><th>14</th><td>-1</td><td>wouldve gun zac snyders doucheclown</td></tr><tr><th>15</th><td>-1</td><td>wish watch miss premiere</td></tr><tr><th>16</th><td>-1</td><td>hollis death scene hurt severely watch film wry directors cut</td></tr><tr><th>17</th><td>-1</td><td>file taxes</td></tr><tr><th>18</th><td>-1</td><td>ahh rent love soundtrack</td></tr><tr><th>19</th><td>-1</td><td>oh dear drinking forgotten table drinks</td></tr><tr><th>20</th><td>-1</td><td>day</td></tr><tr><th>21</th><td>-1</td><td>friend called meet mid valley time sigh</td></tr><tr><th>22</th><td>-1</td><td>baked cake ated</td></tr><tr><th>23</th><td>-1</td><td>week hoped</td></tr><tr><th>24</th><td>-1</td><td>blagh class tomorrow</td></tr><tr><th>25</th><td>-1</td><td>hate call wake people</td></tr><tr><th>26</th><td>-1</td><td>cry sleep watching marley</td></tr><tr><th>27</th><td>-1</td><td>sad miss lilly</td></tr><tr><th>28</th><td>-1</td><td>lol leslie ok leslie mad</td></tr><tr><th>29</th><td>-1</td><td>meh lover exception track depressed time</td></tr><tr><th>30</th><td>-1</td><td>hacked account aim</td></tr><tr><th>&vellip;</th><td>&vellip;</td><td>&vellip;</td></tr></tbody></table>"
      ],
      "text/latex": [
       "\\begin{tabular}{r|cc}\n",
       "\t& class\\_label & tweet\\\\\n",
       "\t\\hline\n",
       "\t& Int64 & String\\\\\n",
       "\t\\hline\n",
       "\t1 & -1 & upset update facebook texting cry result school blah \\\\\n",
       "\t2 & -1 & dived times ball managed save rest bounds \\\\\n",
       "\t3 & -1 & body feels itchy fire \\\\\n",
       "\t4 & -1 & behaving mad \\\\\n",
       "\t5 & -1 & crew \\\\\n",
       "\t6 & -1 & hug \\\\\n",
       "\t7 & -1 & hey time rains bit bit lol fine thanks \\\\\n",
       "\t8 & -1 & nope \\\\\n",
       "\t9 & -1 & que muera \\\\\n",
       "\t10 & -1 & spring break plain city snowing \\\\\n",
       "\t11 & -1 & re pierced ears \\\\\n",
       "\t12 & -1 & bear watch ua loss embarrassing \\\\\n",
       "\t13 & -1 & counts idk talk anymore \\\\\n",
       "\t14 & -1 & wouldve gun zac snyders doucheclown \\\\\n",
       "\t15 & -1 & wish watch miss premiere \\\\\n",
       "\t16 & -1 & hollis death scene hurt severely watch film wry directors cut \\\\\n",
       "\t17 & -1 & file taxes \\\\\n",
       "\t18 & -1 & ahh rent love soundtrack \\\\\n",
       "\t19 & -1 & oh dear drinking forgotten table drinks \\\\\n",
       "\t20 & -1 & day \\\\\n",
       "\t21 & -1 & friend called meet mid valley time sigh \\\\\n",
       "\t22 & -1 & baked cake ated \\\\\n",
       "\t23 & -1 & week hoped \\\\\n",
       "\t24 & -1 & blagh class tomorrow \\\\\n",
       "\t25 & -1 & hate call wake people \\\\\n",
       "\t26 & -1 & cry sleep watching marley \\\\\n",
       "\t27 & -1 & sad miss lilly \\\\\n",
       "\t28 & -1 & lol leslie ok leslie mad \\\\\n",
       "\t29 & -1 & meh lover exception track depressed time \\\\\n",
       "\t30 & -1 & hacked account aim \\\\\n",
       "\t$\\dots$ & $\\dots$ & $\\dots$ \\\\\n",
       "\\end{tabular}\n"
      ],
      "text/plain": [
       "100×2 DataFrame. Omitted printing of 1 columns\n",
       "│ Row │ class_label │\n",
       "│     │ \u001b[90mInt64\u001b[39m       │\n",
       "├─────┼─────────────┤\n",
       "│ 1   │ -1          │\n",
       "│ 2   │ -1          │\n",
       "│ 3   │ -1          │\n",
       "│ 4   │ -1          │\n",
       "│ 5   │ -1          │\n",
       "│ 6   │ -1          │\n",
       "│ 7   │ -1          │\n",
       "│ 8   │ -1          │\n",
       "│ 9   │ -1          │\n",
       "│ 10  │ -1          │\n",
       "⋮\n",
       "│ 90  │ -1          │\n",
       "│ 91  │ -1          │\n",
       "│ 92  │ -1          │\n",
       "│ 93  │ -1          │\n",
       "│ 94  │ -1          │\n",
       "│ 95  │ -1          │\n",
       "│ 96  │ -1          │\n",
       "│ 97  │ -1          │\n",
       "│ 98  │ -1          │\n",
       "│ 99  │ -1          │\n",
       "│ 100 │ -1          │"
      ]
     },
     "execution_count": 29,
     "metadata": {},
     "output_type": "execute_result"
    }
   ],
   "source": [
    "head(df, 100)"
   ]
  },
  {
   "cell_type": "code",
   "execution_count": 30,
   "metadata": {},
   "outputs": [],
   "source": [
    "# open(\"tweets\", \"w\") do io\n",
    "#     for i = 1:totalNum\n",
    "#         write(io, df[i,:2])\n",
    "#     end\n",
    "# end"
   ]
  },
  {
   "cell_type": "code",
   "execution_count": 32,
   "metadata": {},
   "outputs": [
    {
     "data": {
      "text/plain": [
       "WordVectors 52137 words, 100-element Float64 vectors"
      ]
     },
     "execution_count": 32,
     "metadata": {},
     "output_type": "execute_result"
    }
   ],
   "source": [
    "model = wordvectors(\"D:\\\\Downloads\\\\text8-vec.txt\")"
   ]
  },
  {
   "cell_type": "code",
   "execution_count": 33,
   "metadata": {},
   "outputs": [
    {
     "data": {
      "text/plain": [
       "createFeatureVector (generic function with 1 method)"
      ]
     },
     "execution_count": 33,
     "metadata": {},
     "output_type": "execute_result"
    }
   ],
   "source": [
    "function createFeatureVector(sentence)\n",
    "    wordCount = 0\n",
    "    vector = zeros(size(model)[1])\n",
    "    sentence = split(sentence)\n",
    "    for word in sentence\n",
    "        try\n",
    "            vector =  vector + get_vector(model, word)\n",
    "            wordCount = wordCount + 1\n",
    "        catch\n",
    "            nothing\n",
    "        end\n",
    "    end \n",
    "    if wordCount > 0\n",
    "        vector = vector / wordCount\n",
    "    end\n",
    "    return vector\n",
    "end"
   ]
  },
  {
   "cell_type": "code",
   "execution_count": 34,
   "metadata": {},
   "outputs": [
    {
     "data": {
      "text/html": [
       "<table class=\"data-frame\"><thead><tr><th></th><th>class_label</th><th>tweet</th></tr><tr><th></th><th>Int64</th><th>String</th></tr></thead><tbody><p>1,599,999 rows × 2 columns</p><tr><th>1</th><td>-1</td><td>oh suppose seeing day</td></tr><tr><th>2</th><td>1</td><td>death awesome random comic certifiably sane</td></tr><tr><th>3</th><td>-1</td><td>hang buddie letem thee</td></tr><tr><th>4</th><td>-1</td><td>unfortunately concert late songs missed st</td></tr><tr><th>5</th><td>1</td><td>supposed secret people jealous</td></tr><tr><th>6</th><td>1</td><td>listening booty music haha</td></tr><tr><th>7</th><td>-1</td><td>lost final score lol</td></tr><tr><th>8</th><td>1</td><td>friday</td></tr><tr><th>9</th><td>1</td><td>current favorite pic little bug</td></tr><tr><th>10</th><td>-1</td><td>headache</td></tr><tr><th>11</th><td>1</td><td>stoked harry potter marathon abc family oh goblet fire</td></tr><tr><th>12</th><td>1</td><td>thanks</td></tr><tr><th>13</th><td>1</td><td>helping friends pack tiring rested</td></tr><tr><th>14</th><td>1</td><td>mornin</td></tr><tr><th>15</th><td>1</td><td>whoo excercise</td></tr><tr><th>16</th><td>-1</td><td>wht hv home bryan miss pismo beach puff bus eyes</td></tr><tr><th>17</th><td>1</td><td>child crashed playing keeping time beautiful day</td></tr><tr><th>18</th><td>-1</td><td>freak sorry uni stuff watch lo ci bobby goren ftw</td></tr><tr><th>19</th><td>-1</td><td>team billy sick jess</td></tr><tr><th>20</th><td>-1</td><td>iconfess eat bag hull cheese popcorn secs ur gonna sick</td></tr><tr><th>21</th><td>-1</td><td>broken bitch rogers</td></tr><tr><th>22</th><td>1</td><td>wiii missed twitter</td></tr><tr><th>23</th><td>-1</td><td>finally able morning home drank tea</td></tr><tr><th>24</th><td>1</td><td>thanks hoping ezmuze community eventually forms people sharing songs kicking bigger ezmuze</td></tr><tr><th>25</th><td>1</td><td>lovely hopefully nice sunshine help wake</td></tr><tr><th>26</th><td>1</td><td>church feels seeing talking tall muscular gotten lol</td></tr><tr><th>27</th><td>-1</td><td>getting deafened tractor</td></tr><tr><th>28</th><td>-1</td><td>slaking lately idk makes sad</td></tr><tr><th>29</th><td>1</td><td>home babysitting tired</td></tr><tr><th>30</th><td>-1</td><td>fancies proper fried breakfast run eggs useful gahh bacon eat</td></tr><tr><th>&vellip;</th><td>&vellip;</td><td>&vellip;</td></tr></tbody></table>"
      ],
      "text/latex": [
       "\\begin{tabular}{r|cc}\n",
       "\t& class\\_label & tweet\\\\\n",
       "\t\\hline\n",
       "\t& Int64 & String\\\\\n",
       "\t\\hline\n",
       "\t1 & -1 & oh suppose seeing day \\\\\n",
       "\t2 & 1 & death awesome random comic certifiably sane \\\\\n",
       "\t3 & -1 & hang buddie letem thee \\\\\n",
       "\t4 & -1 & unfortunately concert late songs missed st \\\\\n",
       "\t5 & 1 & supposed secret people jealous \\\\\n",
       "\t6 & 1 & listening booty music haha \\\\\n",
       "\t7 & -1 & lost final score lol \\\\\n",
       "\t8 & 1 & friday \\\\\n",
       "\t9 & 1 & current favorite pic little bug \\\\\n",
       "\t10 & -1 & headache \\\\\n",
       "\t11 & 1 & stoked harry potter marathon abc family oh goblet fire \\\\\n",
       "\t12 & 1 & thanks \\\\\n",
       "\t13 & 1 & helping friends pack tiring rested \\\\\n",
       "\t14 & 1 & mornin \\\\\n",
       "\t15 & 1 & whoo excercise \\\\\n",
       "\t16 & -1 & wht hv home bryan miss pismo beach puff bus eyes \\\\\n",
       "\t17 & 1 & child crashed playing keeping time beautiful day \\\\\n",
       "\t18 & -1 & freak sorry uni stuff watch lo ci bobby goren ftw \\\\\n",
       "\t19 & -1 & team billy sick jess \\\\\n",
       "\t20 & -1 & iconfess eat bag hull cheese popcorn secs ur gonna sick \\\\\n",
       "\t21 & -1 & broken bitch rogers \\\\\n",
       "\t22 & 1 & wiii missed twitter \\\\\n",
       "\t23 & -1 & finally able morning home drank tea \\\\\n",
       "\t24 & 1 & thanks hoping ezmuze community eventually forms people sharing songs kicking bigger ezmuze \\\\\n",
       "\t25 & 1 & lovely hopefully nice sunshine help wake \\\\\n",
       "\t26 & 1 & church feels seeing talking tall muscular gotten lol \\\\\n",
       "\t27 & -1 & getting deafened tractor \\\\\n",
       "\t28 & -1 & slaking lately idk makes sad \\\\\n",
       "\t29 & 1 & home babysitting tired \\\\\n",
       "\t30 & -1 & fancies proper fried breakfast run eggs useful gahh bacon eat \\\\\n",
       "\t$\\dots$ & $\\dots$ & $\\dots$ \\\\\n",
       "\\end{tabular}\n"
      ],
      "text/plain": [
       "1599999×2 DataFrame. Omitted printing of 1 columns\n",
       "│ Row     │ class_label │\n",
       "│         │ \u001b[90mInt64\u001b[39m       │\n",
       "├─────────┼─────────────┤\n",
       "│ 1       │ -1          │\n",
       "│ 2       │ 1           │\n",
       "│ 3       │ -1          │\n",
       "│ 4       │ -1          │\n",
       "│ 5       │ 1           │\n",
       "│ 6       │ 1           │\n",
       "│ 7       │ -1          │\n",
       "│ 8       │ 1           │\n",
       "│ 9       │ 1           │\n",
       "│ 10      │ -1          │\n",
       "⋮\n",
       "│ 1599989 │ -1          │\n",
       "│ 1599990 │ 1           │\n",
       "│ 1599991 │ 1           │\n",
       "│ 1599992 │ -1          │\n",
       "│ 1599993 │ -1          │\n",
       "│ 1599994 │ 1           │\n",
       "│ 1599995 │ -1          │\n",
       "│ 1599996 │ -1          │\n",
       "│ 1599997 │ -1          │\n",
       "│ 1599998 │ -1          │\n",
       "│ 1599999 │ -1          │"
      ]
     },
     "execution_count": 34,
     "metadata": {},
     "output_type": "execute_result"
    }
   ],
   "source": [
    "df = DataFrame(shuffle(eachrow(df)))"
   ]
  },
  {
   "cell_type": "code",
   "execution_count": 35,
   "metadata": {},
   "outputs": [
    {
     "data": {
      "text/plain": [
       "1599999-element Array{String,1}:\n",
       " \"oh suppose seeing day\"\n",
       " \"death awesome random comic certifiably sane\"\n",
       " \"hang buddie letem thee\"\n",
       " \"unfortunately concert late songs missed st\"\n",
       " \"supposed secret people jealous\"\n",
       " \"listening booty music haha\"\n",
       " \"lost final score lol\"\n",
       " \"friday\"\n",
       " \"current favorite pic little bug\"\n",
       " \"headache\"\n",
       " \"stoked harry potter marathon abc family oh goblet fire\"\n",
       " \"thanks\"\n",
       " \"helping friends pack tiring rested\"\n",
       " ⋮\n",
       " \"wow feel brookdale ghetto people single race besides barnes noble shut\"\n",
       " \"awww slap chop miracle claims chop onions\"\n",
       " \"elle oh vee eees word learn pronounce\"\n",
       " \"knoww loopy fake busy dear plan escape atl sing\"\n",
       " \"email phone decided stay florida\"\n",
       " \"finally finish homework school minutes\"\n",
       " \"sat desk designs cards\"\n",
       " \"wanna mitchel musso concert august\"\n",
       " \"monday quickly\"\n",
       " \"game\"\n",
       " \"carl dead died world slowly falling apart praying hoping carlette comes soon swimming katie\"\n",
       " \"little trouble ladies pawpawty\""
      ]
     },
     "execution_count": 35,
     "metadata": {},
     "output_type": "execute_result"
    }
   ],
   "source": [
    "df[:2]\n"
   ]
  },
  {
   "cell_type": "code",
   "execution_count": 36,
   "metadata": {},
   "outputs": [
    {
     "data": {
      "text/plain": [
       "1599999-element Array{Int64,1}:\n",
       " -1\n",
       "  1\n",
       " -1\n",
       " -1\n",
       "  1\n",
       "  1\n",
       " -1\n",
       "  1\n",
       "  1\n",
       " -1\n",
       "  1\n",
       "  1\n",
       "  1\n",
       "  ⋮\n",
       " -1\n",
       " -1\n",
       "  1\n",
       "  1\n",
       " -1\n",
       " -1\n",
       "  1\n",
       " -1\n",
       " -1\n",
       " -1\n",
       " -1\n",
       " -1"
      ]
     },
     "execution_count": 36,
     "metadata": {},
     "output_type": "execute_result"
    }
   ],
   "source": [
    "features = hcat(createFeatureVector.(df[:2])...) # hcat converts Array{Array{Float64,1},1} into Array{Float64,2}\n",
    "labels = df[:1]"
   ]
  },
  {
   "cell_type": "code",
   "execution_count": 37,
   "metadata": {},
   "outputs": [
    {
     "data": {
      "text/plain": [
       "100×1599999 Array{Float64,2}:\n",
       "  0.114426    -0.0204377    0.00444928  …   0.0279095     0.06199\n",
       " -0.0264232   -0.00857656   0.0805089      -0.0349436     0.0562761\n",
       "  0.0439867   -0.0445707    0.0265256       0.0433913    -0.0429692\n",
       " -0.0487586   -0.0560054    0.0329496      -0.0605221     0.0458878\n",
       "  0.0726129    0.046859    -0.0628462      -0.0239105     0.0105164\n",
       " -0.0623857   -0.0106644    0.0356396   …  -0.0322294     0.0517984\n",
       "  0.0315102    0.0693614    0.0100062       0.0658129     0.0307582\n",
       " -0.0159959    0.00265719  -0.0223707       0.00629886   -0.061695\n",
       " -0.0958739   -0.0170726   -0.0667104      -0.0526871     0.0411388\n",
       "  0.0214464    0.0270133    0.163794        0.124777      0.0191013\n",
       " -0.0345892   -0.0139904    0.0343476   …  -0.0275856    -0.0242866\n",
       "  0.111965     0.0200959    0.103435        0.0449698     0.0940731\n",
       "  0.00790161   0.0160628   -0.188252        0.0123806    -0.0764792\n",
       "  ⋮                                     ⋱                \n",
       "  0.0174693   -0.0162551    0.133546        0.0538023    -0.00315726\n",
       " -0.0244968   -0.0525174    0.0410082       0.0196264    -0.00360519\n",
       "  0.0286765   -0.0275035   -0.0134304   …   0.0456645     0.00521675\n",
       " -0.0457253   -0.0585755   -0.0881955      -0.029736     -0.0242601\n",
       " -0.0878209   -0.058702    -0.0399228      -0.0204511    -0.0884782\n",
       " -0.038812    -0.00233888  -0.0263502      -0.0449168    -0.111065\n",
       " -0.0586287   -0.0562075    0.104949       -0.0554616     0.0252468\n",
       "  0.053591    -0.0439347    0.107795    …  -0.00177045    0.0395009\n",
       " -0.0132593    0.0715385    0.0399706       0.0318041    -0.046194\n",
       "  0.0493575   -0.00959298   0.116163        0.0349767     0.0306016\n",
       " -0.00324352   0.0449836    0.0849085      -0.000968823   0.0575969\n",
       " -0.0240894   -0.00770646  -0.0206007      -0.00847366    0.0447336"
      ]
     },
     "execution_count": 37,
     "metadata": {},
     "output_type": "execute_result"
    }
   ],
   "source": [
    "features"
   ]
  },
  {
   "cell_type": "code",
   "execution_count": 38,
   "metadata": {},
   "outputs": [
    {
     "data": {
      "text/plain": [
       "1599999-element Array{Int64,1}:\n",
       " -1\n",
       "  1\n",
       " -1\n",
       " -1\n",
       "  1\n",
       "  1\n",
       " -1\n",
       "  1\n",
       "  1\n",
       " -1\n",
       "  1\n",
       "  1\n",
       "  1\n",
       "  ⋮\n",
       " -1\n",
       " -1\n",
       "  1\n",
       "  1\n",
       " -1\n",
       " -1\n",
       "  1\n",
       " -1\n",
       " -1\n",
       " -1\n",
       " -1\n",
       " -1"
      ]
     },
     "execution_count": 38,
     "metadata": {},
     "output_type": "execute_result"
    }
   ],
   "source": [
    "labels"
   ]
  },
  {
   "cell_type": "code",
   "execution_count": 109,
   "metadata": {},
   "outputs": [],
   "source": [
    "#=\n",
    "x_train, x_test = splitobs(features, at = 0.8);\n",
    "y_train, y_test = splitobs(labels, at = 0.8);\n",
    "=#"
   ]
  },
  {
   "cell_type": "code",
   "execution_count": 39,
   "metadata": {},
   "outputs": [
    {
     "data": {
      "text/plain": [
       "100×10000 Array{Float64,2}:\n",
       "  0.101616     0.00830081   0.0809695   …  -0.00581714   0.0497504\n",
       "  0.00724718  -0.107753     0.0424423      -0.0544171   -0.00217228\n",
       " -0.0213247    0.0870759    0.0640368      -0.0451372   -0.0105143\n",
       " -0.0896593    0.0051454    0.10601        -0.0745027    0.0113148\n",
       "  0.0208066    0.00793256   0.124269       -0.0626869   -0.034112\n",
       "  0.0638255   -0.0179549   -0.211583    …  -0.0952704    0.0217634\n",
       "  0.00659254   0.0010553   -0.0847713       0.0208873    0.0726682\n",
       "  0.0377076   -0.0271276   -0.0530732      -0.00571738  -0.00796594\n",
       " -0.0773824    0.0149706    0.0546618       0.0793925   -0.00302086\n",
       "  0.127026    -0.0787387   -0.12601         0.0778131    0.120394\n",
       " -0.051012     0.0265972    0.00856092  …  -0.0128919   -0.0199404\n",
       "  0.106845    -0.00237016   0.0491443       0.140261     0.130628\n",
       " -0.0152172   -0.0785063    0.11111        -0.119483    -0.0588059\n",
       "  ⋮                                     ⋱               \n",
       "  0.149018     0.0642182   -0.0251259       0.0499526   -0.0180157\n",
       "  0.0699209   -0.0393988    0.240013        0.0227998    0.0826562\n",
       "  0.123747    -0.0284246   -0.00542328  …   0.0540763    0.0268182\n",
       "  0.12097     -0.00461137  -0.0646843       0.0546105    0.013787\n",
       "  0.0308069   -0.0341252   -0.181488       -0.200523    -0.0621259\n",
       " -0.0171665    0.011811    -0.0438944       0.133417     0.0421104\n",
       " -0.0846131   -0.00228349   0.164289        0.0115817   -0.00758028\n",
       "  0.0185592   -0.00447534   0.022741    …  -0.0270064    0.0163752\n",
       "  0.0397639    0.0567927   -0.0397846      -0.0430035   -0.0150402\n",
       "  0.0950892    0.0444957    0.0646223       0.0482953    0.0311312\n",
       "  0.0276787    0.0346219   -0.0444852      -0.0809966    0.0107206\n",
       " -0.0210929   -0.0538486   -0.126615       -0.0941877    2.26321e-5"
      ]
     },
     "execution_count": 39,
     "metadata": {},
     "output_type": "execute_result"
    }
   ],
   "source": [
    "label_train = labels[1:10000]\n",
    "label_test = labels[10001:20000]\n",
    "feature_train = features[:,1:10000]\n",
    "feature_test = features[:,10001:20000]"
   ]
  },
  {
   "cell_type": "code",
   "execution_count": 40,
   "metadata": {
    "scrolled": true
   },
   "outputs": [],
   "source": [
    "model = svmtrain(feature_train, label_train)"
   ]
  },
  {
   "cell_type": "code",
   "execution_count": 41,
   "metadata": {},
   "outputs": [
    {
     "data": {
      "text/plain": [
       "([1, 1, 1, 1, 1, 1, -1, -1, -1, -1  …  1, -1, -1, 1, 1, -1, 1, -1, -1, -1], [-0.41882741047078476 -0.7907795886341383 … 1.424699019743502 0.2942900835969422; 0.0 0.0 … 0.0 0.0])"
      ]
     },
     "execution_count": 41,
     "metadata": {},
     "output_type": "execute_result"
    }
   ],
   "source": [
    "(predicted_labels, decision_values) = svmpredict(model,feature_test)"
   ]
  },
  {
   "cell_type": "code",
   "execution_count": 42,
   "metadata": {},
   "outputs": [
    {
     "name": "stdout",
     "output_type": "stream",
     "text": [
      "Accuracy: 74.22\n"
     ]
    }
   ],
   "source": [
    "print(\"Accuracy: \")\n",
    "println(mean((predicted_labels .== label_test))*100)"
   ]
  },
  {
   "cell_type": "code",
   "execution_count": null,
   "metadata": {},
   "outputs": [],
   "source": []
  }
 ],
 "metadata": {
  "kernelspec": {
   "display_name": "Julia 1.5.2",
   "language": "julia",
   "name": "julia-1.5"
  },
  "language_info": {
   "file_extension": ".jl",
   "mimetype": "application/julia",
   "name": "julia",
   "version": "1.5.2"
  }
 },
 "nbformat": 4,
 "nbformat_minor": 4
}
