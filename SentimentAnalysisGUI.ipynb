{
 "cells": [
  {
   "cell_type": "code",
   "execution_count": 1,
   "metadata": {},
   "outputs": [
    {
     "data": {
      "text/plain": [
       "GtkCssProviderLeaf()"
      ]
     },
     "execution_count": 1,
     "metadata": {},
     "output_type": "execute_result"
    }
   ],
   "source": [
    "include(\"./bayes.jl\")\n",
    "include(\"./helpermodules.jl\")\n",
    "using Gtk, Gtk.ShortNames ,Word2Vec, LIBSVM, JLD, SVR, .Bayes, .Sentiment140DataFrame, .TweetFormat\n",
    "style_file = joinpath(dirname(Base.source_path()), \"style.css\")\n",
    "provider = CssProviderLeaf(filename = style_file)"
   ]
  },
  {
   "cell_type": "code",
   "execution_count": 2,
   "metadata": {},
   "outputs": [
    {
     "data": {
      "text/plain": [
       "createFeatureVector (generic function with 1 method)"
      ]
     },
     "execution_count": 2,
     "metadata": {},
     "output_type": "execute_result"
    }
   ],
   "source": [
    "word_model = wordvectors(\"C:\\\\Users\\\\joshc\\\\text8-vec.txt\")\n",
    "function createFeatureVector(sentence)\n",
    "    wordCount = 0\n",
    "    vector = zeros(size(word_model)[1])\n",
    "    sentence_split = split(sentence)\n",
    "    for word in sentence_split\n",
    "        try\n",
    "            vector =  vector + get_vector(word_model, word)\n",
    "            wordCount = wordCount + 1\n",
    "        catch\n",
    "            nothing\n",
    "        end\n",
    "    end \n",
    "    if wordCount > 0\n",
    "        vector = vector / wordCount\n",
    "    end\n",
    "    return vector\n",
    "end"
   ]
  },
  {
   "cell_type": "markdown",
   "metadata": {},
   "source": []
  },
  {
   "cell_type": "markdown",
   "metadata": {},
   "source": [
    "### Load ML Model"
   ]
  },
  {
   "cell_type": "code",
   "execution_count": 3,
   "metadata": {},
   "outputs": [
    {
     "data": {
      "text/plain": [
       "NaiveBayes(8604079, 9374817, Dict{AbstractString,Int64}(\"beyb\" => 1,\"rearrangement\" => 2,\"frogger\" => 2,\"wtccs\" => 2,\"aunie\" => 1,\"twighlight\" => 5,\"yallah\" => 1,\"grp\" => 6,\"montery\" => 1,\"swimms\" => 1…), Dict{AbstractString,Int64}(\"beyb\" => 3,\"canclled\" => 2,\"frogger\" => 3,\"collegealready\" => 1,\"twighlight\" => 3,\"tunnell\" => 1,\"mysqls\" => 1,\"grp\" => 13,\"yallah\" => 1,\"snowborder\" => 1…))"
      ]
     },
     "execution_count": 3,
     "metadata": {},
     "output_type": "execute_result"
    }
   ],
   "source": [
    "model = loadnb(\"naivebayes\")"
   ]
  },
  {
   "cell_type": "code",
   "execution_count": null,
   "metadata": {},
   "outputs": [],
   "source": []
  },
  {
   "cell_type": "markdown",
   "metadata": {},
   "source": [
    "### The Following is the main menu"
   ]
  },
  {
   "cell_type": "code",
   "execution_count": 4,
   "metadata": {},
   "outputs": [
    {
     "data": {
      "text/plain": [
       "GtkWindowLeaf(name=\"\", parent, width-request=-1, height-request=-1, visible=FALSE, sensitive=TRUE, app-paintable=FALSE, can-focus=FALSE, has-focus=FALSE, is-focus=FALSE, focus-on-click=TRUE, can-default=FALSE, has-default=FALSE, receives-default=FALSE, composite-child=FALSE, style, events=0, no-show-all=FALSE, has-tooltip=FALSE, tooltip-markup=NULL, tooltip-text=NULL, window, opacity=1.000000, double-buffered, halign=GTK_ALIGN_FILL, valign=GTK_ALIGN_FILL, margin-left, margin-right, margin-start=0, margin-end=0, margin-top=0, margin-bottom=0, margin=0, hexpand=FALSE, vexpand=FALSE, hexpand-set=FALSE, vexpand-set=FALSE, expand=FALSE, scale-factor=1, border-width=0, resize-mode, child, type=GTK_WINDOW_TOPLEVEL, title=\"Home\", role=NULL, resizable=TRUE, modal=FALSE, window-position=GTK_WIN_POS_NONE, default-width=400, default-height=295, destroy-with-parent=FALSE, hide-titlebar-when-maximized=FALSE, icon, icon-name=NULL, screen, type-hint=GDK_WINDOW_TYPE_HINT_NORMAL, skip-taskbar-hint=FALSE, skip-pager-hint=FALSE, urgency-hint=FALSE, accept-focus=TRUE, focus-on-map=TRUE, decorated=TRUE, deletable=TRUE, gravity=GDK_GRAVITY_NORTH_WEST, transient-for, attached-to, has-resize-grip, resize-grip-visible, application, is-active=FALSE, has-toplevel-focus=FALSE, startup-id, mnemonics-visible=FALSE, focus-visible=FALSE, is-maximized=FALSE)"
      ]
     },
     "execution_count": 4,
     "metadata": {},
     "output_type": "execute_result"
    }
   ],
   "source": [
    "mainWin = GtkWindow(\"Home\", 400, 295,visible = false)\n",
    "vboxMain = GtkBox(:v)\n",
    "hboxMain1 = GtkBox(:h)\n",
    "hboxMain2 = GtkBox(:h)\n",
    "sentimentID = GtkButton(\"\\n\\n    Sentiment Identifier      \\n\\n\")\n",
    "set_gtk_property!(sentimentID, :name, \"b1\")\n",
    "screen = Gtk.GAccessor.style_context(sentimentID)\n",
    "push!(screen, StyleProvider(provider), 600)\n",
    "similarPhrase = GtkButton(\"\\n\\n     Find a similar phrase    \\n\\n\")\n",
    "posVsNeg = GtkButton(\"\\n\\nPlot positive & negative words\\n\\n\")\n",
    "modelComparison = GtkButton(\"\\n\\nView model accuracy \\n\\n\")\n",
    "mainMenuLabel = GtkLabel(\"Main Menu\")\n",
    "push!(hboxMain1,sentimentID)\n",
    "push!(hboxMain1,similarPhrase)\n",
    "push!(hboxMain2, posVsNeg)\n",
    "push!(hboxMain2, modelComparison)\n",
    "push!(vboxMain, mainMenuLabel)\n",
    "push!(vboxMain, hboxMain1)\n",
    "push!(vboxMain, hboxMain2)\n",
    "push!(mainWin, vboxMain)"
   ]
  },
  {
   "cell_type": "markdown",
   "metadata": {},
   "source": []
  },
  {
   "cell_type": "markdown",
   "metadata": {},
   "source": [
    "### The Following is for the sentiment analysis feature"
   ]
  },
  {
   "cell_type": "code",
   "execution_count": 5,
   "metadata": {},
   "outputs": [
    {
     "data": {
      "text/plain": [
       "0x000000a0"
      ]
     },
     "execution_count": 5,
     "metadata": {},
     "output_type": "execute_result"
    }
   ],
   "source": [
    "sentWin = GtkWindow(\"Sentiment Indentifier\", 450,200,visible = false)\n",
    "prompt = GtkLabel(\"\")\n",
    "GAccessor.markup(prompt,\"\"\"<b>Please enter in a sentence or phrase that you wish to get the sentiment for below.</b>\\n\"\"\")\n",
    "#User entry\n",
    "ent = GtkEntry()\n",
    "set_gtk_property!(ent,:text, \"Enter text here... \")\n",
    "\n",
    "# set_gtk_property!(ent,:default-width, 400)\n",
    "enterButton = GtkButton(\"Enter\")\n",
    "hbox = GtkBox(:h)\n",
    "push!(hbox, ent)\n",
    "push!(hbox, enterButton)\n",
    "\n",
    "label = GtkLabel(\"Your text contains a ... sentiment.\")\n",
    "vbox = GtkBox(:v)\n",
    "homeButton = GtkButton(\"Home\")\n",
    "push!(vbox,prompt)\n",
    "push!(vbox, hbox)\n",
    "push!(vbox, label)\n",
    "push!(vbox, homeButton)\n",
    "push!(sentWin, vbox)\n",
    "function on_enter_click(w)\n",
    "    str = get_gtk_property(ent,:text,String)\n",
    "    if predict_positive(str, model) == true\n",
    "        GAccessor.text(label,\"Your text contains a positive sentiment.\")\n",
    "    else\n",
    "        GAccessor.text(label,\"Your text contains a negative sentiment.\")\n",
    "    end\n",
    "end\n",
    "signal_connect(on_enter_click, enterButton,\"clicked\")"
   ]
  },
  {
   "cell_type": "code",
   "execution_count": null,
   "metadata": {},
   "outputs": [],
   "source": []
  },
  {
   "cell_type": "markdown",
   "metadata": {},
   "source": [
    "### The Following is for similar phrase feature"
   ]
  },
  {
   "cell_type": "code",
   "execution_count": 6,
   "metadata": {},
   "outputs": [
    {
     "data": {
      "text/plain": [
       "GtkWindowLeaf(name=\"\", parent, width-request=-1, height-request=-1, visible=FALSE, sensitive=TRUE, app-paintable=FALSE, can-focus=FALSE, has-focus=FALSE, is-focus=FALSE, focus-on-click=TRUE, can-default=FALSE, has-default=FALSE, receives-default=FALSE, composite-child=FALSE, style, events=0, no-show-all=FALSE, has-tooltip=FALSE, tooltip-markup=NULL, tooltip-text=NULL, window, opacity=1.000000, double-buffered, halign=GTK_ALIGN_FILL, valign=GTK_ALIGN_FILL, margin-left, margin-right, margin-start=0, margin-end=0, margin-top=0, margin-bottom=0, margin=0, hexpand=FALSE, vexpand=FALSE, hexpand-set=FALSE, vexpand-set=FALSE, expand=FALSE, scale-factor=1, border-width=0, resize-mode, child, type=GTK_WINDOW_TOPLEVEL, title=\"Similar Phrase\", role=NULL, resizable=TRUE, modal=FALSE, window-position=GTK_WIN_POS_NONE, default-width=400, default-height=400, destroy-with-parent=FALSE, hide-titlebar-when-maximized=FALSE, icon, icon-name=NULL, screen, type-hint=GDK_WINDOW_TYPE_HINT_NORMAL, skip-taskbar-hint=FALSE, skip-pager-hint=FALSE, urgency-hint=FALSE, accept-focus=TRUE, focus-on-map=TRUE, decorated=TRUE, deletable=TRUE, gravity=GDK_GRAVITY_NORTH_WEST, transient-for, attached-to, has-resize-grip, resize-grip-visible, application, is-active=FALSE, has-toplevel-focus=FALSE, startup-id, mnemonics-visible=FALSE, focus-visible=FALSE, is-maximized=FALSE)"
      ]
     },
     "execution_count": 6,
     "metadata": {},
     "output_type": "execute_result"
    }
   ],
   "source": [
    "simPhraseWin = GtkWindow(\"Similar Phrase\", 400, 400,visible = false)"
   ]
  },
  {
   "cell_type": "markdown",
   "metadata": {},
   "source": [
    "### The Following is for ploting positive and negative words "
   ]
  },
  {
   "cell_type": "code",
   "execution_count": 7,
   "metadata": {},
   "outputs": [
    {
     "data": {
      "text/plain": [
       "GtkWindowLeaf(name=\"\", parent, width-request=-1, height-request=-1, visible=FALSE, sensitive=TRUE, app-paintable=FALSE, can-focus=FALSE, has-focus=FALSE, is-focus=FALSE, focus-on-click=TRUE, can-default=FALSE, has-default=FALSE, receives-default=FALSE, composite-child=FALSE, style, events=0, no-show-all=FALSE, has-tooltip=FALSE, tooltip-markup=NULL, tooltip-text=NULL, window, opacity=1.000000, double-buffered, halign=GTK_ALIGN_FILL, valign=GTK_ALIGN_FILL, margin-left, margin-right, margin-start=0, margin-end=0, margin-top=0, margin-bottom=0, margin=0, hexpand=FALSE, vexpand=FALSE, hexpand-set=FALSE, vexpand-set=FALSE, expand=FALSE, scale-factor=1, border-width=0, resize-mode, child, type=GTK_WINDOW_TOPLEVEL, title=\"Positve and Negative Word Plot\", role=NULL, resizable=TRUE, modal=FALSE, window-position=GTK_WIN_POS_NONE, default-width=400, default-height=400, destroy-with-parent=FALSE, hide-titlebar-when-maximized=FALSE, icon, icon-name=NULL, screen, type-hint=GDK_WINDOW_TYPE_HINT_NORMAL, skip-taskbar-hint=FALSE, skip-pager-hint=FALSE, urgency-hint=FALSE, accept-focus=TRUE, focus-on-map=TRUE, decorated=TRUE, deletable=TRUE, gravity=GDK_GRAVITY_NORTH_WEST, transient-for, attached-to, has-resize-grip, resize-grip-visible, application, is-active=FALSE, has-toplevel-focus=FALSE, startup-id, mnemonics-visible=FALSE, focus-visible=FALSE, is-maximized=FALSE)"
      ]
     },
     "execution_count": 7,
     "metadata": {},
     "output_type": "execute_result"
    }
   ],
   "source": [
    "posNegWin = GtkWindow(\"Positve and Negative Word Plot\", 400,400,visible = false)"
   ]
  },
  {
   "cell_type": "markdown",
   "metadata": {},
   "source": [
    "### The Following is for displaying model accuracy and comparions "
   ]
  },
  {
   "cell_type": "code",
   "execution_count": 8,
   "metadata": {},
   "outputs": [
    {
     "data": {
      "text/plain": [
       "GtkWindowLeaf(name=\"\", parent, width-request=-1, height-request=-1, visible=FALSE, sensitive=TRUE, app-paintable=FALSE, can-focus=FALSE, has-focus=FALSE, is-focus=FALSE, focus-on-click=TRUE, can-default=FALSE, has-default=FALSE, receives-default=FALSE, composite-child=FALSE, style, events=0, no-show-all=FALSE, has-tooltip=FALSE, tooltip-markup=NULL, tooltip-text=NULL, window, opacity=1.000000, double-buffered, halign=GTK_ALIGN_FILL, valign=GTK_ALIGN_FILL, margin-left, margin-right, margin-start=0, margin-end=0, margin-top=0, margin-bottom=0, margin=0, hexpand=FALSE, vexpand=FALSE, hexpand-set=FALSE, vexpand-set=FALSE, expand=FALSE, scale-factor=1, border-width=0, resize-mode, child, type=GTK_WINDOW_TOPLEVEL, title=\"Display Model Accuracy\", role=NULL, resizable=TRUE, modal=FALSE, window-position=GTK_WIN_POS_NONE, default-width=400, default-height=400, destroy-with-parent=FALSE, hide-titlebar-when-maximized=FALSE, icon, icon-name=NULL, screen, type-hint=GDK_WINDOW_TYPE_HINT_NORMAL, skip-taskbar-hint=FALSE, skip-pager-hint=FALSE, urgency-hint=FALSE, accept-focus=TRUE, focus-on-map=TRUE, decorated=TRUE, deletable=TRUE, gravity=GDK_GRAVITY_NORTH_WEST, transient-for, attached-to, has-resize-grip, resize-grip-visible, application, is-active=FALSE, has-toplevel-focus=FALSE, startup-id, mnemonics-visible=FALSE, focus-visible=FALSE, is-maximized=FALSE)"
      ]
     },
     "execution_count": 8,
     "metadata": {},
     "output_type": "execute_result"
    }
   ],
   "source": [
    "modelDisplayWin = GtkWindow(\"Display Model Accuracy\", 400, 400,visible = false)"
   ]
  },
  {
   "cell_type": "markdown",
   "metadata": {},
   "source": [
    "### Functions for changing windows"
   ]
  },
  {
   "cell_type": "code",
   "execution_count": 9,
   "metadata": {},
   "outputs": [
    {
     "data": {
      "text/plain": [
       "0x000000fc"
      ]
     },
     "execution_count": 9,
     "metadata": {},
     "output_type": "execute_result"
    }
   ],
   "source": [
    "function on_sentID_click(w)\n",
    "    visible(mainWin, false)\n",
    "    showall(sentWin)\n",
    "end\n",
    "function on_simPhrase_click(w)\n",
    "    visible(mainWin, false)\n",
    "    showall(simPhraseWin)\n",
    "end\n",
    "function on_PosNeg_click(w)\n",
    "    visible(mainWin, false)\n",
    "    showall(posNegWin)\n",
    "end\n",
    "function on_modelDisp_click(w)\n",
    "    visible(mainWin, false)\n",
    "    showall(modelDisplayWin)\n",
    "end\n",
    "function on_home_click(w)\n",
    "    visible(sentWin, false)\n",
    "    showall(mainWin)\n",
    "end   \n",
    "signal_connect(on_home_click, homeButton, \"clicked\")\n",
    "signal_connect(on_sentID_click, sentimentID,\"clicked\")\n",
    "signal_connect(on_simPhrase_click, similarPhrase,\"clicked\")\n",
    "signal_connect(on_PosNeg_click, posVsNeg,\"clicked\")\n",
    "signal_connect(on_modelDisp_click, modelComparison,\"clicked\")"
   ]
  },
  {
   "cell_type": "code",
   "execution_count": 10,
   "metadata": {},
   "outputs": [
    {
     "data": {
      "text/plain": [
       "GtkWindowLeaf(name=\"\", parent, width-request=-1, height-request=-1, visible=TRUE, sensitive=TRUE, app-paintable=FALSE, can-focus=FALSE, has-focus=FALSE, is-focus=FALSE, focus-on-click=TRUE, can-default=FALSE, has-default=FALSE, receives-default=FALSE, composite-child=FALSE, style, events=0, no-show-all=FALSE, has-tooltip=FALSE, tooltip-markup=NULL, tooltip-text=NULL, window, opacity=1.000000, double-buffered, halign=GTK_ALIGN_FILL, valign=GTK_ALIGN_FILL, margin-left, margin-right, margin-start=0, margin-end=0, margin-top=0, margin-bottom=0, margin=0, hexpand=FALSE, vexpand=FALSE, hexpand-set=FALSE, vexpand-set=FALSE, expand=FALSE, scale-factor=1, border-width=0, resize-mode, child, type=GTK_WINDOW_TOPLEVEL, title=\"Home\", role=NULL, resizable=TRUE, modal=FALSE, window-position=GTK_WIN_POS_NONE, default-width=400, default-height=295, destroy-with-parent=FALSE, hide-titlebar-when-maximized=FALSE, icon, icon-name=NULL, screen, type-hint=GDK_WINDOW_TYPE_HINT_NORMAL, skip-taskbar-hint=FALSE, skip-pager-hint=FALSE, urgency-hint=FALSE, accept-focus=TRUE, focus-on-map=TRUE, decorated=TRUE, deletable=TRUE, gravity=GDK_GRAVITY_NORTH_WEST, transient-for, attached-to, has-resize-grip, resize-grip-visible, application, is-active=TRUE, has-toplevel-focus=TRUE, startup-id, mnemonics-visible=FALSE, focus-visible=FALSE, is-maximized=FALSE)"
      ]
     },
     "execution_count": 10,
     "metadata": {},
     "output_type": "execute_result"
    }
   ],
   "source": [
    "showall(mainWin)  \n"
   ]
  },
  {
   "cell_type": "code",
   "execution_count": null,
   "metadata": {},
   "outputs": [],
   "source": []
  },
  {
   "cell_type": "code",
   "execution_count": null,
   "metadata": {},
   "outputs": [],
   "source": []
  },
  {
   "cell_type": "code",
   "execution_count": null,
   "metadata": {},
   "outputs": [],
   "source": []
  }
 ],
 "metadata": {
  "kernelspec": {
   "display_name": "Julia 1.5.2",
   "language": "julia",
   "name": "julia-1.5"
  },
  "language_info": {
   "file_extension": ".jl",
   "mimetype": "application/julia",
   "name": "julia",
   "version": "1.5.2"
  }
 },
 "nbformat": 4,
 "nbformat_minor": 4
}
