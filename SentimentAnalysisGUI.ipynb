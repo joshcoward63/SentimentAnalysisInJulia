{
 "cells": [
  {
   "cell_type": "code",
   "execution_count": 1,
   "metadata": {},
   "outputs": [],
   "source": [
    "include(\"./bayes.jl\")\n",
    "include(\"./helpermodules.jl\")\n",
    "using Gtk, Gtk.ShortNames ,Word2Vec, LIBSVM, JLD, SVR, .Bayes, .Sentiment140DataFrame, .TweetFormat, DataFrames, CSV"
   ]
  },
  {
   "cell_type": "markdown",
   "metadata": {},
   "source": []
  },
  {
   "cell_type": "markdown",
   "metadata": {},
   "source": [
    "### Load ML Model"
   ]
  },
  {
   "cell_type": "code",
   "execution_count": 2,
   "metadata": {},
   "outputs": [
    {
     "data": {
      "text/plain": [
       "NaiveBayes(8604079, 9374817, Dict{AbstractString,Int64}(\"beyb\" => 1,\"rearrangement\" => 2,\"frogger\" => 2,\"wtccs\" => 2,\"aunie\" => 1,\"twighlight\" => 5,\"yallah\" => 1,\"grp\" => 6,\"montery\" => 1,\"swimms\" => 1…), Dict{AbstractString,Int64}(\"beyb\" => 3,\"canclled\" => 2,\"frogger\" => 3,\"collegealready\" => 1,\"twighlight\" => 3,\"tunnell\" => 1,\"mysqls\" => 1,\"grp\" => 13,\"yallah\" => 1,\"snowborder\" => 1…))"
      ]
     },
     "execution_count": 2,
     "metadata": {},
     "output_type": "execute_result"
    }
   ],
   "source": [
    "model = loadnb(\"naivebayes\")"
   ]
  },
  {
   "cell_type": "markdown",
   "metadata": {},
   "source": [
    "### The Following is the main menu"
   ]
  },
  {
   "cell_type": "code",
   "execution_count": 3,
   "metadata": {},
   "outputs": [
    {
     "data": {
      "text/plain": [
       "GtkWindowLeaf(name=\"\", parent, width-request=-1, height-request=-1, visible=FALSE, sensitive=TRUE, app-paintable=FALSE, can-focus=FALSE, has-focus=FALSE, is-focus=FALSE, focus-on-click=TRUE, can-default=FALSE, has-default=FALSE, receives-default=FALSE, composite-child=FALSE, style, events=0, no-show-all=FALSE, has-tooltip=FALSE, tooltip-markup=NULL, tooltip-text=NULL, window, opacity=1.000000, double-buffered, halign=GTK_ALIGN_FILL, valign=GTK_ALIGN_FILL, margin-left, margin-right, margin-start=0, margin-end=0, margin-top=0, margin-bottom=0, margin=0, hexpand=FALSE, vexpand=FALSE, hexpand-set=FALSE, vexpand-set=FALSE, expand=FALSE, scale-factor=1, border-width=0, resize-mode, child, type=GTK_WINDOW_TOPLEVEL, title=\"Home\", role=NULL, resizable=TRUE, modal=FALSE, window-position=GTK_WIN_POS_NONE, default-width=400, default-height=160, destroy-with-parent=FALSE, hide-titlebar-when-maximized=FALSE, icon, icon-name=NULL, screen, type-hint=GDK_WINDOW_TYPE_HINT_NORMAL, skip-taskbar-hint=FALSE, skip-pager-hint=FALSE, urgency-hint=FALSE, accept-focus=TRUE, focus-on-map=TRUE, decorated=TRUE, deletable=TRUE, gravity=GDK_GRAVITY_NORTH_WEST, transient-for, attached-to, has-resize-grip, resize-grip-visible, application, is-active=FALSE, has-toplevel-focus=FALSE, startup-id, mnemonics-visible=FALSE, focus-visible=FALSE, is-maximized=FALSE)"
      ]
     },
     "execution_count": 3,
     "metadata": {},
     "output_type": "execute_result"
    }
   ],
   "source": [
    "mainWin = GtkWindow(\"Home\", 400, 160,visible = false)\n",
    "vboxMain = GtkBox(:v)\n",
    "hboxMain1 = GtkBox(:h)\n",
    "sentimentID = GtkButton(\"\\n\\n    Sentiment Identifier      \\n\\n\")\n",
    "screen = Gtk.GAccessor.style_context(sentimentID)\n",
    "similarPhrase = GtkButton(\"\\n\\n     Find a similar phrase    \\n\\n\")\n",
    "mainMenuLabel = GtkLabel(\"Main Menu\")\n",
    "push!(hboxMain1,sentimentID)\n",
    "push!(hboxMain1,similarPhrase)\n",
    "push!(vboxMain, mainMenuLabel)\n",
    "push!(vboxMain, hboxMain1)\n",
    "push!(mainWin, vboxMain)"
   ]
  },
  {
   "cell_type": "markdown",
   "metadata": {},
   "source": []
  },
  {
   "cell_type": "markdown",
   "metadata": {},
   "source": [
    "### The Following is for the sentiment analysis feature"
   ]
  },
  {
   "cell_type": "code",
   "execution_count": 4,
   "metadata": {},
   "outputs": [
    {
     "data": {
      "text/plain": [
       "0x0000008d"
      ]
     },
     "execution_count": 4,
     "metadata": {},
     "output_type": "execute_result"
    }
   ],
   "source": [
    "sentWin = GtkWindow(\"Sentiment Identifier\", 475,150,visible = false)\n",
    "prompt = GtkLabel(\"\")\n",
    "GAccessor.markup(prompt,\"\"\"<b>Please enter in a sentence or phrase that you wish to get the sentiment for below.</b>\\n\"\"\")\n",
    "#User entry\n",
    "ent = GtkEntry()\n",
    "set_gtk_property!(ent,:text, \"Enter text here... \")\n",
    "\n",
    "# set_gtk_property!(ent,:default-width, 400)\n",
    "enterButton = GtkButton(\"Enter\")\n",
    "hbox = GtkBox(:h)\n",
    "push!(hbox, ent)\n",
    "push!(hbox, enterButton)\n",
    "\n",
    "label = GtkLabel(\"Your text contains a ... sentiment.\")\n",
    "vbox = GtkBox(:v)\n",
    "homeButton = GtkButton(\"Home\")\n",
    "push!(vbox,prompt)\n",
    "push!(vbox, hbox)\n",
    "push!(vbox, label)\n",
    "push!(vbox, homeButton)\n",
    "push!(sentWin, vbox)\n",
    "function on_enter_click(w)\n",
    "    str = get_gtk_property(ent,:text,String)\n",
    "    if predict_positive(str, model) == true\n",
    "        GAccessor.text(label,\"Your text contains a positive sentiment.\")\n",
    "    else\n",
    "        GAccessor.text(label,\"Your text contains a negative sentiment.\")\n",
    "    end\n",
    "end\n",
    "signal_connect(on_enter_click, enterButton,\"clicked\")"
   ]
  },
  {
   "cell_type": "markdown",
   "metadata": {},
   "source": [
    "### The Following is for similar phrase feature"
   ]
  },
  {
   "cell_type": "code",
   "execution_count": 5,
   "metadata": {},
   "outputs": [
    {
     "data": {
      "text/plain": [
       "100×1599999 Array{Float64,2}:\n",
       " -0.0325923    0.121593     0.09821      …   0.0540014     0.0344834\n",
       "  0.0304493   -0.106964    -0.177016        -0.00233518    0.0629805\n",
       "  0.0677769    0.127549     0.200062         0.100629      0.0945113\n",
       "  0.175488     0.0223481    0.0436894        0.0190467     0.0229244\n",
       " -0.0457897   -0.0506411   -0.0668149       -0.00238385   -0.0552718\n",
       "  0.144236    -0.00592271   0.000870906  …   0.134908      0.0868254\n",
       " -0.102736    -0.124215     0.0640128       -0.00747444   -0.0226328\n",
       " -0.0637817   -0.0759408    0.0631953       -0.0837179     0.101359\n",
       "  0.0512155    0.0024268    0.057402        -0.0821082     0.0388765\n",
       " -0.299816    -0.391158    -0.31233         -0.0470532    -0.0577424\n",
       " -0.0766045    0.00858665  -0.0999754    …   0.0834366    -0.245841\n",
       "  0.0196364   -0.0343909    0.0854022        0.398008      0.216997\n",
       " -0.00114507   0.00282725  -0.16601         -0.235859     -0.10484\n",
       "  ⋮                                      ⋱                \n",
       "  0.0524998    0.0616163    0.0954302       -0.108798     -0.162595\n",
       " -0.124891    -0.182275    -0.076841        -0.113811     -0.260659\n",
       "  0.270697     0.107305     0.0498373    …   0.172766      0.152221\n",
       "  0.0524909   -0.112452     0.0161039       -0.0567244    -0.0742195\n",
       " -0.1629      -0.0644523   -0.146937        -0.00793985   -0.168681\n",
       " -0.0103748   -0.0415501    0.112971        -0.100104     -0.0643123\n",
       "  0.0338957    0.0375993    0.0462814        0.0105852    -0.0688605\n",
       "  0.0426384   -0.0235432   -0.012801     …  -0.111416     -0.00941977\n",
       "  0.0931413   -0.0388528   -0.00210671       0.121942      0.115123\n",
       "  0.0584592    0.0650543    0.0327139        0.0140772    -0.159311\n",
       " -0.0232661    0.0677088    0.0308252        0.0179191     0.0185004\n",
       " -0.0826439   -0.0560249   -0.050184        -0.000332271   0.155319"
      ]
     },
     "execution_count": 5,
     "metadata": {},
     "output_type": "execute_result"
    }
   ],
   "source": [
    "word2vec_model = wordvectors(\"tweets-vec.txt\")\n",
    "df = getdf(\"train.csv\")\n",
    "function cosine(vectors, tweet, n=10)\n",
    "    metrics = vectors'*tweet\n",
    "    topn_positions = sortperm(metrics[:], rev = true)[1:n]\n",
    "    topn_metrics = metrics[topn_positions]\n",
    "    return topn_positions, topn_metrics\n",
    "end\n",
    "function cosine_similar_tweets(vectors, tweets, tweet, n=10)\n",
    "    index, metr = cosine(vectors, tweet, n)\n",
    "    return tweets[index]\n",
    "end\n",
    "mag(x) = sqrt(sum(x.^2))\n",
    "function createFeatureVector(sentence)\n",
    "    wordCount = 0\n",
    "    vector = zeros(size(word2vec_model)[1])\n",
    "    sentence = split(sentence)\n",
    "    for word in sentence\n",
    "        try\n",
    "            vector =  vector + get_vector(word2vec_model, word)\n",
    "            wordCount = wordCount + 1\n",
    "        catch\n",
    "            nothing\n",
    "        end\n",
    "    end\n",
    "    if wordCount > 0\n",
    "        vector = vector / mag(vector)\n",
    "    end\n",
    "    return vector\n",
    "end\n",
    "denoised_tweets = removenoise.(df.tweet)\n",
    "features = hcat(createFeatureVector.(denoised_tweets)...) # hcat converts Array{Array{Float64,1},1}"
   ]
  },
  {
   "cell_type": "code",
   "execution_count": 6,
   "metadata": {},
   "outputs": [
    {
     "data": {
      "text/plain": [
       "0x000000da"
      ]
     },
     "execution_count": 6,
     "metadata": {},
     "output_type": "execute_result"
    }
   ],
   "source": [
    "simPhraseWin = GtkWindow(\"Similar Phrase\", 400, 220,visible = false)\n",
    "prompt2 = GtkLabel(\"\")\n",
    "GAccessor.markup(prompt,\"\"\"<b>Please enter in a sentence or phrase that you wish to find similar examples of.</b>\\n\"\"\")\n",
    "#User entry\n",
    "ent2 = GtkEntry()\n",
    "set_gtk_property!(ent2,:text, \"Enter text here... \")\n",
    "\n",
    "# set_gtk_property!(ent,:default-width, 400)\n",
    "enterButton2 = GtkButton(\"Enter\")\n",
    "hbox2 = GtkBox(:h)\n",
    "push!(hbox2, ent2)\n",
    "push!(hbox2, enterButton2)\n",
    "\n",
    "label2 = GtkLabel(\"\")\n",
    "vbox2 = GtkBox(:v)\n",
    "homeButton2 = GtkButton(\"Home\")\n",
    "push!(vbox2,prompt2)\n",
    "push!(vbox2, hbox2)\n",
    "push!(vbox2, label2)\n",
    "push!(vbox2, homeButton2)\n",
    "push!(simPhraseWin, vbox2)\n",
    "function on_enter_click2(w)\n",
    "    str = get_gtk_property(ent2,:text,String)\n",
    "    tweet_vector = createFeatureVector(removenoise(str))\n",
    "    similar_tweets = cosine_similar_tweets(features, df.tweet, tweet_vector, 5)\n",
    "    similar_tweet_label = join(similar_tweets, \"\\n\")\n",
    "    GAccessor.text(label2,string(similar_tweet_label))\n",
    "#     ls = GtkListStore(String, Int, Bool)\n",
    "#     for tweet in similar_tweets\n",
    "#         push!(ls,tweet)\n",
    "#     end\n",
    "#     rTxt = GtkCellRendererText()\n",
    "#     c1 = GtkTreeViewColumn(\"Tweet\", rTxt, Dict([(\"text\",0)]))\n",
    "#     push!(tv, c1)\n",
    "#     pop!(simPhraseWin, vbox2)\n",
    "#     push!(vbox2, tv)\n",
    "end\n",
    "signal_connect(on_enter_click2, enterButton2,\"clicked\")"
   ]
  },
  {
   "cell_type": "markdown",
   "metadata": {},
   "source": [
    "### Functions for changing windows"
   ]
  },
  {
   "cell_type": "code",
   "execution_count": 7,
   "metadata": {},
   "outputs": [
    {
     "data": {
      "text/plain": [
       "0x000000e2"
      ]
     },
     "execution_count": 7,
     "metadata": {},
     "output_type": "execute_result"
    }
   ],
   "source": [
    "function on_sentID_click(w)\n",
    "    visible(mainWin, false)\n",
    "    Gtk.showall(sentWin)\n",
    "end\n",
    "function on_simPhrase_click(w)\n",
    "    visible(mainWin, false)\n",
    "    Gtk.showall(simPhraseWin)\n",
    "end\n",
    "function on_home_click(w)\n",
    "    visible(sentWin, false)\n",
    "    Gtk.showall(mainWin)\n",
    "end   \n",
    "function on_home_click2(w)\n",
    "    visible(simPhraseWin, false)\n",
    "    Gtk.showall(mainWin)\n",
    "end   \n",
    "signal_connect(on_home_click2, homeButton2, \"clicked\")\n",
    "\n",
    "\n",
    "signal_connect(on_home_click, homeButton, \"clicked\")\n",
    "signal_connect(on_sentID_click, sentimentID,\"clicked\")\n",
    "signal_connect(on_simPhrase_click, similarPhrase,\"clicked\")"
   ]
  },
  {
   "cell_type": "code",
   "execution_count": 8,
   "metadata": {},
   "outputs": [
    {
     "data": {
      "text/plain": [
       "GtkWindowLeaf(name=\"\", parent, width-request=-1, height-request=-1, visible=TRUE, sensitive=TRUE, app-paintable=FALSE, can-focus=FALSE, has-focus=FALSE, is-focus=FALSE, focus-on-click=TRUE, can-default=FALSE, has-default=FALSE, receives-default=FALSE, composite-child=FALSE, style, events=0, no-show-all=FALSE, has-tooltip=FALSE, tooltip-markup=NULL, tooltip-text=NULL, window, opacity=1.000000, double-buffered, halign=GTK_ALIGN_FILL, valign=GTK_ALIGN_FILL, margin-left, margin-right, margin-start=0, margin-end=0, margin-top=0, margin-bottom=0, margin=0, hexpand=FALSE, vexpand=FALSE, hexpand-set=FALSE, vexpand-set=FALSE, expand=FALSE, scale-factor=1, border-width=0, resize-mode, child, type=GTK_WINDOW_TOPLEVEL, title=\"Home\", role=NULL, resizable=TRUE, modal=FALSE, window-position=GTK_WIN_POS_NONE, default-width=400, default-height=160, destroy-with-parent=FALSE, hide-titlebar-when-maximized=FALSE, icon, icon-name=NULL, screen, type-hint=GDK_WINDOW_TYPE_HINT_NORMAL, skip-taskbar-hint=FALSE, skip-pager-hint=FALSE, urgency-hint=FALSE, accept-focus=TRUE, focus-on-map=TRUE, decorated=TRUE, deletable=TRUE, gravity=GDK_GRAVITY_NORTH_WEST, transient-for, attached-to, has-resize-grip, resize-grip-visible, application, is-active=TRUE, has-toplevel-focus=TRUE, startup-id, mnemonics-visible=FALSE, focus-visible=FALSE, is-maximized=FALSE)"
      ]
     },
     "execution_count": 8,
     "metadata": {},
     "output_type": "execute_result"
    }
   ],
   "source": [
    "Gtk.showall(mainWin)  \n"
   ]
  }
 ],
 "metadata": {
  "kernelspec": {
   "display_name": "Julia 1.5.2",
   "language": "julia",
   "name": "julia-1.5"
  },
  "language_info": {
   "file_extension": ".jl",
   "mimetype": "application/julia",
   "name": "julia",
   "version": "1.5.2"
  }
 },
 "nbformat": 4,
 "nbformat_minor": 4
}
