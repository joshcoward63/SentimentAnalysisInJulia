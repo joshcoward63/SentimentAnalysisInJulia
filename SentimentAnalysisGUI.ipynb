{
 "cells": [
  {
   "cell_type": "code",
   "execution_count": 1,
   "metadata": {},
   "outputs": [],
   "source": [
    "using Gtk"
   ]
  },
  {
   "cell_type": "markdown",
   "metadata": {},
   "source": [
    "### The Following is the main menu"
   ]
  },
  {
   "cell_type": "code",
   "execution_count": 2,
   "metadata": {},
   "outputs": [
    {
     "data": {
      "text/plain": [
       "GtkWindowLeaf(name=\"\", parent, width-request=-1, height-request=-1, visible=FALSE, sensitive=TRUE, app-paintable=FALSE, can-focus=FALSE, has-focus=FALSE, is-focus=FALSE, focus-on-click=TRUE, can-default=FALSE, has-default=FALSE, receives-default=FALSE, composite-child=FALSE, style, events=0, no-show-all=FALSE, has-tooltip=FALSE, tooltip-markup=NULL, tooltip-text=NULL, window, opacity=1.000000, double-buffered, halign=GTK_ALIGN_FILL, valign=GTK_ALIGN_FILL, margin-left, margin-right, margin-start=0, margin-end=0, margin-top=0, margin-bottom=0, margin=0, hexpand=FALSE, vexpand=FALSE, hexpand-set=FALSE, vexpand-set=FALSE, expand=FALSE, scale-factor=1, border-width=0, resize-mode, child, type=GTK_WINDOW_TOPLEVEL, title=\"Home\", role=NULL, resizable=TRUE, modal=FALSE, window-position=GTK_WIN_POS_NONE, default-width=400, default-height=400, destroy-with-parent=FALSE, hide-titlebar-when-maximized=FALSE, icon, icon-name=NULL, screen, type-hint=GDK_WINDOW_TYPE_HINT_NORMAL, skip-taskbar-hint=FALSE, skip-pager-hint=FALSE, urgency-hint=FALSE, accept-focus=TRUE, focus-on-map=TRUE, decorated=TRUE, deletable=TRUE, gravity=GDK_GRAVITY_NORTH_WEST, transient-for, attached-to, has-resize-grip, resize-grip-visible, application, is-active=FALSE, has-toplevel-focus=FALSE, startup-id, mnemonics-visible=FALSE, focus-visible=FALSE, is-maximized=FALSE)"
      ]
     },
     "execution_count": 2,
     "metadata": {},
     "output_type": "execute_result"
    }
   ],
   "source": [
    "mainWin = GtkWindow(\"Home\", 400, 400)\n",
    "destroy(mainWin)\n",
    "vboxMain = GtkBox(:v)\n",
    "hboxMain1 = GtkBox(:h)\n",
    "hboxMain2 = GtkBox(:h)\n",
    "sentimentID = GtkButton(\"Sentiment Identifier\")\n",
    "similarPhrase = GtkButton(\"Find a similar phrase\")\n",
    "posVsNeg = GtkButton(\"Plot positive & negative words\")\n",
    "modelComparison = GtkButton(\"View model accuracy\")\n",
    "mainMenuLabel = GtkLabel(\"Main Menu\")\n",
    "push!(hboxMain1,sentimentID)\n",
    "push!(hboxMain1,similarPhrase)\n",
    "push!(hboxMain2, posVsNeg)\n",
    "push!(hboxMain2, modelComparison)\n",
    "push!(vboxMain, mainMenuLabel)\n",
    "push!(vboxMain, hboxMain1)\n",
    "push!(vboxMain, hboxMain2)\n",
    "push!(mainWin, vboxMain)"
   ]
  },
  {
   "cell_type": "markdown",
   "metadata": {},
   "source": []
  },
  {
   "cell_type": "markdown",
   "metadata": {},
   "source": [
    "### The Following is for the sentiment analysis feature"
   ]
  },
  {
   "cell_type": "code",
   "execution_count": 3,
   "metadata": {},
   "outputs": [
    {
     "data": {
      "text/plain": [
       "GtkWindowLeaf(name=\"\", parent, width-request=-1, height-request=-1, visible=FALSE, sensitive=TRUE, app-paintable=FALSE, can-focus=FALSE, has-focus=FALSE, is-focus=FALSE, focus-on-click=TRUE, can-default=FALSE, has-default=FALSE, receives-default=FALSE, composite-child=FALSE, style, events=0, no-show-all=FALSE, has-tooltip=FALSE, tooltip-markup=NULL, tooltip-text=NULL, window, opacity=1.000000, double-buffered, halign=GTK_ALIGN_FILL, valign=GTK_ALIGN_FILL, margin-left, margin-right, margin-start=0, margin-end=0, margin-top=0, margin-bottom=0, margin=0, hexpand=FALSE, vexpand=FALSE, hexpand-set=FALSE, vexpand-set=FALSE, expand=FALSE, scale-factor=1, border-width=0, resize-mode, child, type=GTK_WINDOW_TOPLEVEL, title=\"Sentiment Indentifier\", role=NULL, resizable=TRUE, modal=FALSE, window-position=GTK_WIN_POS_NONE, default-width=400, default-height=400, destroy-with-parent=FALSE, hide-titlebar-when-maximized=FALSE, icon, icon-name=NULL, screen, type-hint=GDK_WINDOW_TYPE_HINT_NORMAL, skip-taskbar-hint=FALSE, skip-pager-hint=FALSE, urgency-hint=FALSE, accept-focus=TRUE, focus-on-map=TRUE, decorated=TRUE, deletable=TRUE, gravity=GDK_GRAVITY_NORTH_WEST, transient-for, attached-to, has-resize-grip, resize-grip-visible, application, is-active=FALSE, has-toplevel-focus=FALSE, startup-id, mnemonics-visible=FALSE, focus-visible=FALSE, is-maximized=FALSE)"
      ]
     },
     "execution_count": 3,
     "metadata": {},
     "output_type": "execute_result"
    }
   ],
   "source": [
    "sentWin = GtkWindow(\"Sentiment Indentifier\", 400,400)\n",
    "destroy(sentWin)\n",
    "prompt = GtkLabel(\"\")\n",
    "GAccessor.markup(prompt,\"\"\"<b>Please enter in a sentence or phrase that you wish to get the sentiment for  below.</b>\\n\"\"\")\n",
    "#User entry\n",
    "ent = GtkEntry()\n",
    "set_gtk_property!(ent,:text,\"Enter text here\")\n",
    "str = get_gtk_property(ent,:text,String)\n",
    "enter = GtkButton(\"Enter\")\n",
    "hbox = GtkBox(:h)\n",
    "push!(hbox, ent)\n",
    "push!(hbox, enter)\n",
    "\n",
    "label = GtkLabel(\"Your text contains a ... sentiment.\")\n",
    "vbox = GtkBox(:v)\n",
    "push!(vbox,prompt)\n",
    "push!(vbox, hbox)\n",
    "push!(vbox, label)\n",
    "push!(sentWin, vbox)"
   ]
  },
  {
   "cell_type": "markdown",
   "metadata": {},
   "source": [
    "### The Following is for similar phrase feature"
   ]
  },
  {
   "cell_type": "code",
   "execution_count": 4,
   "metadata": {},
   "outputs": [],
   "source": [
    "simPhraseWin = GtkWindow(\"Similar Phrase\", 400, 400)\n",
    "destroy(simPhraseWin)"
   ]
  },
  {
   "cell_type": "markdown",
   "metadata": {},
   "source": [
    "### The Following is for ploting positive and negative words "
   ]
  },
  {
   "cell_type": "code",
   "execution_count": 5,
   "metadata": {},
   "outputs": [],
   "source": [
    "posNegWin = GtkWindow(\"Positve and Negative Word Plot\", 400, 400)\n",
    "destroy(posNegWin)"
   ]
  },
  {
   "cell_type": "markdown",
   "metadata": {},
   "source": [
    "### The Following is for displaying model accuracy and comparions "
   ]
  },
  {
   "cell_type": "code",
   "execution_count": 6,
   "metadata": {},
   "outputs": [],
   "source": [
    "modelDisplayWin = GtkWindow(\"Display Model Accuracy\", 400, 400)\n",
    "destroy(modelDisplayWin)"
   ]
  },
  {
   "cell_type": "markdown",
   "metadata": {},
   "source": [
    "### Functions for changing windows"
   ]
  },
  {
   "cell_type": "code",
   "execution_count": 7,
   "metadata": {},
   "outputs": [
    {
     "data": {
      "text/plain": [
       "0x000000da"
      ]
     },
     "execution_count": 7,
     "metadata": {},
     "output_type": "execute_result"
    }
   ],
   "source": [
    "function on_sentID_click(w)\n",
    "    destroy(mainWin)\n",
    "    showall(sentWin)\n",
    "end\n",
    "function on_simPhrase_click(w)\n",
    "    destroy(mainWin)\n",
    "    showall(simPhraseWin)\n",
    "end\n",
    "function on_PosNeg_click(w)\n",
    "    destroy(mainWin)\n",
    "    showall(posNegWin)\n",
    "end\n",
    "function on_modelDisp_click(w)\n",
    "    destroy(mainWin)\n",
    "    showall(modelDisplayWin)\n",
    "end\n",
    "signal_connect(on_sentID_click, sentimentID,\"clicked\")\n",
    "signal_connect(on_simPhrase_click, similarPhrase,\"clicked\")\n",
    "signal_connect(on_PosNeg_click, posVsNeg,\"clicked\")\n",
    "signal_connect(on_modelDisp_click, modelComparison,\"clicked\")"
   ]
  },
  {
   "cell_type": "code",
   "execution_count": 8,
   "metadata": {},
   "outputs": [
    {
     "data": {
      "text/plain": [
       "GtkWindowLeaf(name=\"\", parent, width-request=-1, height-request=-1, visible=TRUE, sensitive=TRUE, app-paintable=FALSE, can-focus=FALSE, has-focus=FALSE, is-focus=FALSE, focus-on-click=TRUE, can-default=FALSE, has-default=FALSE, receives-default=FALSE, composite-child=FALSE, style, events=0, no-show-all=FALSE, has-tooltip=FALSE, tooltip-markup=NULL, tooltip-text=NULL, window, opacity=1.000000, double-buffered, halign=GTK_ALIGN_FILL, valign=GTK_ALIGN_FILL, margin-left, margin-right, margin-start=0, margin-end=0, margin-top=0, margin-bottom=0, margin=0, hexpand=FALSE, vexpand=FALSE, hexpand-set=FALSE, vexpand-set=FALSE, expand=FALSE, scale-factor=1, border-width=0, resize-mode, child, type=GTK_WINDOW_TOPLEVEL, title=\"Home\", role=NULL, resizable=TRUE, modal=FALSE, window-position=GTK_WIN_POS_NONE, default-width=400, default-height=400, destroy-with-parent=FALSE, hide-titlebar-when-maximized=FALSE, icon, icon-name=NULL, screen, type-hint=GDK_WINDOW_TYPE_HINT_NORMAL, skip-taskbar-hint=FALSE, skip-pager-hint=FALSE, urgency-hint=FALSE, accept-focus=TRUE, focus-on-map=TRUE, decorated=TRUE, deletable=TRUE, gravity=GDK_GRAVITY_NORTH_WEST, transient-for, attached-to, has-resize-grip, resize-grip-visible, application, is-active=TRUE, has-toplevel-focus=TRUE, startup-id, mnemonics-visible=FALSE, focus-visible=FALSE, is-maximized=FALSE)"
      ]
     },
     "execution_count": 8,
     "metadata": {},
     "output_type": "execute_result"
    },
    {
     "name": "stderr",
     "output_type": "stream",
     "text": [
      "\n",
      "(julia.exe:17228): Gtk-CRITICAL **: 14:21:24.421: gtk_widget_get_window: assertion 'GTK_IS_WIDGET (widget)' failed\n",
      "\n",
      "(julia.exe:17228): Gtk-CRITICAL **: 14:21:24.421: gtk_widget_get_window: assertion 'GTK_IS_WIDGET (widget)' failed\n",
      "\n",
      "(julia.exe:17228): Gtk-CRITICAL **: 14:21:24.421: gtk_widget_translate_coordinates: assertion 'GTK_IS_WIDGET (dest_widget)' failed\n",
      "\n",
      "(julia.exe:17228): Gtk-CRITICAL **: 14:21:24.518: gtk_widget_get_window: assertion 'GTK_IS_WIDGET (widget)' failed\n",
      "\n",
      "(julia.exe:17228): Gtk-CRITICAL **: 14:21:24.519: gtk_widget_get_window: assertion 'GTK_IS_WIDGET (widget)' failed\n",
      "\n",
      "(julia.exe:17228): Gtk-CRITICAL **: 14:21:24.519: gtk_widget_translate_coordinates: assertion 'GTK_IS_WIDGET (dest_widget)' failed\n"
     ]
    }
   ],
   "source": [
    "showall(mainWin)"
   ]
  },
  {
   "cell_type": "code",
   "execution_count": null,
   "metadata": {},
   "outputs": [],
   "source": []
  }
 ],
 "metadata": {
  "kernelspec": {
   "display_name": "Julia 1.5.2",
   "language": "julia",
   "name": "julia-1.5"
  },
  "language_info": {
   "file_extension": ".jl",
   "mimetype": "application/julia",
   "name": "julia",
   "version": "1.5.2"
  }
 },
 "nbformat": 4,
 "nbformat_minor": 4
}
