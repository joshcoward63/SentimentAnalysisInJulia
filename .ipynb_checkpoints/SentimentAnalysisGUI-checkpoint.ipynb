{
 "cells": [
  {
   "cell_type": "code",
   "execution_count": 1,
   "metadata": {},
   "outputs": [],
   "source": [
    "include(\"./bayes.jl\")\n",
    "include(\"./helpermodules.jl\")\n",
    "using Gtk, Gtk.ShortNames ,Word2Vec, LIBSVM, JLD, SVR, .Bayes, .Sentiment140DataFrame, .TweetFormat, DataFrames, CSV\n",
    "#style_file = joinpath(dirname(Base.source_path()), \"style.css\")\n",
    "#provider = CssProviderLeaf(filename = style_file)"
   ]
  },
  {
   "cell_type": "code",
   "execution_count": 2,
   "metadata": {},
   "outputs": [],
   "source": [
    "# word_model = wordvectors(\"C:\\\\Users\\\\joshc\\\\text8-vec.txt\")\n",
    "# function createFeatureVector(sentence)\n",
    "#     wordCount = 0\n",
    "#     vector = zeros(size(word_model)[1])\n",
    "#     sentence_split = split(sentence)\n",
    "#     for word in sentence_split\n",
    "#         try\n",
    "#             vector =  vector + get_vector(word_model, word)\n",
    "#             wordCount = wordCount + 1\n",
    "#         catch\n",
    "#             nothing\n",
    "#         end\n",
    "#     end \n",
    "#     if wordCount > 0\n",
    "#         vector = vector / wordCount\n",
    "#     end\n",
    "#     return vector\n",
    "# end"
   ]
  },
  {
   "cell_type": "markdown",
   "metadata": {},
   "source": []
  },
  {
   "cell_type": "markdown",
   "metadata": {},
   "source": [
    "### Load ML Model"
   ]
  },
  {
   "cell_type": "code",
   "execution_count": 3,
   "metadata": {},
   "outputs": [
    {
     "data": {
      "text/plain": [
       "NaiveBayes(8605645, 9368718, Dict{AbstractString,Int64}(\"beyb\" => 1,\"rearrangement\" => 2,\"guuurll\" => 1,\"frogger\" => 2,\"wtccs\" => 2,\"twighlight\" => 5,\"aunie\" => 1,\"yallah\" => 1,\"grp\" => 5,\"swimms\" => 1…), Dict{AbstractString,Int64}(\"beyb\" => 2,\"canclled\" => 2,\"riendz\" => 1,\"frogger\" => 3,\"twighlight\" => 3,\"tunnell\" => 1,\"yallah\" => 1,\"grp\" => 12,\"mysqls\" => 1,\"snowborder\" => 1…))"
      ]
     },
     "execution_count": 3,
     "metadata": {},
     "output_type": "execute_result"
    }
   ],
   "source": [
    "model = loadnb(\"naivebayes\")"
   ]
  },
  {
   "cell_type": "code",
   "execution_count": null,
   "metadata": {},
   "outputs": [],
   "source": []
  },
  {
   "cell_type": "markdown",
   "metadata": {},
   "source": [
    "### The Following is the main menu"
   ]
  },
  {
   "cell_type": "code",
   "execution_count": 4,
   "metadata": {},
   "outputs": [
    {
     "data": {
      "text/plain": [
       "GtkWindowLeaf(name=\"\", parent, width-request=-1, height-request=-1, visible=FALSE, sensitive=TRUE, app-paintable=FALSE, can-focus=FALSE, has-focus=FALSE, is-focus=FALSE, focus-on-click=TRUE, can-default=FALSE, has-default=FALSE, receives-default=FALSE, composite-child=FALSE, style, events=0, no-show-all=FALSE, has-tooltip=FALSE, tooltip-markup=NULL, tooltip-text=NULL, window, opacity=1.000000, double-buffered, halign=GTK_ALIGN_FILL, valign=GTK_ALIGN_FILL, margin-left, margin-right, margin-start=0, margin-end=0, margin-top=0, margin-bottom=0, margin=0, hexpand=FALSE, vexpand=FALSE, hexpand-set=FALSE, vexpand-set=FALSE, expand=FALSE, scale-factor=1, border-width=0, resize-mode, child, type=GTK_WINDOW_TOPLEVEL, title=\"Home\", role=NULL, resizable=TRUE, modal=FALSE, window-position=GTK_WIN_POS_NONE, default-width=400, default-height=295, destroy-with-parent=FALSE, hide-titlebar-when-maximized=FALSE, icon, icon-name=NULL, screen, type-hint=GDK_WINDOW_TYPE_HINT_NORMAL, skip-taskbar-hint=FALSE, skip-pager-hint=FALSE, urgency-hint=FALSE, accept-focus=TRUE, focus-on-map=TRUE, decorated=TRUE, deletable=TRUE, gravity=GDK_GRAVITY_NORTH_WEST, transient-for, attached-to, has-resize-grip, resize-grip-visible, application, is-active=FALSE, has-toplevel-focus=FALSE, startup-id, mnemonics-visible=FALSE, focus-visible=FALSE, is-maximized=FALSE)"
      ]
     },
     "execution_count": 4,
     "metadata": {},
     "output_type": "execute_result"
    }
   ],
   "source": [
    "mainWin = GtkWindow(\"Home\", 400, 295,visible = false)\n",
    "vboxMain = GtkBox(:v)\n",
    "hboxMain1 = GtkBox(:h)\n",
    "hboxMain2 = GtkBox(:h)\n",
    "sentimentID = GtkButton(\"\\n\\n    Sentiment Identifier      \\n\\n\")\n",
    "set_gtk_property!(sentimentID, :name, \"b1\")\n",
    "screen = Gtk.GAccessor.style_context(sentimentID)\n",
    "#push!(screen, StyleProvider(provider), 600)\n",
    "similarPhrase = GtkButton(\"\\n\\n     Find a similar phrase    \\n\\n\")\n",
    "posVsNeg = GtkButton(\"\\n\\nPlot positive & negative words\\n\\n\")\n",
    "modelComparison = GtkButton(\"\\n\\nView model accuracy \\n\\n\")\n",
    "mainMenuLabel = GtkLabel(\"Main Menu\")\n",
    "push!(hboxMain1,sentimentID)\n",
    "push!(hboxMain1,similarPhrase)\n",
    "push!(hboxMain2, posVsNeg)\n",
    "push!(hboxMain2, modelComparison)\n",
    "push!(vboxMain, mainMenuLabel)\n",
    "push!(vboxMain, hboxMain1)\n",
    "push!(vboxMain, hboxMain2)\n",
    "push!(mainWin, vboxMain)"
   ]
  },
  {
   "cell_type": "markdown",
   "metadata": {},
   "source": []
  },
  {
   "cell_type": "markdown",
   "metadata": {},
   "source": [
    "### The Following is for the sentiment analysis feature"
   ]
  },
  {
   "cell_type": "code",
   "execution_count": 5,
   "metadata": {},
   "outputs": [
    {
     "data": {
      "text/plain": [
       "0x000000a0"
      ]
     },
     "execution_count": 5,
     "metadata": {},
     "output_type": "execute_result"
    }
   ],
   "source": [
    "sentWin = GtkWindow(\"Sentiment Indentifier\", 450,200,visible = false)\n",
    "prompt = GtkLabel(\"\")\n",
    "GAccessor.markup(prompt,\"\"\"<b>Please enter in a sentence or phrase that you wish to get the sentiment for below.</b>\\n\"\"\")\n",
    "#User entry\n",
    "ent = GtkEntry()\n",
    "set_gtk_property!(ent,:text, \"Enter text here... \")\n",
    "\n",
    "# set_gtk_property!(ent,:default-width, 400)\n",
    "enterButton = GtkButton(\"Enter\")\n",
    "hbox = GtkBox(:h)\n",
    "push!(hbox, ent)\n",
    "push!(hbox, enterButton)\n",
    "\n",
    "label = GtkLabel(\"Your text contains a ... sentiment.\")\n",
    "vbox = GtkBox(:v)\n",
    "homeButton = GtkButton(\"Home\")\n",
    "push!(vbox,prompt)\n",
    "push!(vbox, hbox)\n",
    "push!(vbox, label)\n",
    "push!(vbox, homeButton)\n",
    "push!(sentWin, vbox)\n",
    "function on_enter_click(w)\n",
    "    str = get_gtk_property(ent,:text,String)\n",
    "    if predict_positive(str, model) == true\n",
    "        GAccessor.text(label,\"Your text contains a positive sentiment.\")\n",
    "    else\n",
    "        GAccessor.text(label,\"Your text contains a negative sentiment.\")\n",
    "    end\n",
    "end\n",
    "signal_connect(on_enter_click, enterButton,\"clicked\")"
   ]
  },
  {
   "cell_type": "code",
   "execution_count": null,
   "metadata": {},
   "outputs": [],
   "source": []
  },
  {
   "cell_type": "markdown",
   "metadata": {},
   "source": [
    "### The Following is for similar phrase feature"
   ]
  },
  {
   "cell_type": "code",
   "execution_count": 6,
   "metadata": {},
   "outputs": [
    {
     "data": {
      "text/plain": [
       "100×1599999 Array{Float64,2}:\n",
       "  0.129242      0.10084       0.0411598  …   0.0846556   -0.0631689\n",
       " -0.225809     -0.202815     -0.038025      -0.210935    -0.0908924\n",
       "  0.106409      0.0942578     0.056949       0.133562    -0.00833255\n",
       " -0.258562     -0.122971     -0.0789528     -0.146246    -0.17495\n",
       " -0.0212363     0.0875352    -0.122951       0.0176758    0.142825\n",
       " -0.00475926   -0.0630488    -0.0985971  …   0.0572786    0.208164\n",
       "  0.0745277     0.101191     -0.0266636      0.0767209    0.138101\n",
       " -0.0200378    -0.000521562   0.0862694     -0.115758    -0.0371959\n",
       " -0.0312868    -0.100155     -0.111085      -0.18165     -0.106524\n",
       "  0.158892      0.150321      0.188096       0.183193     0.0609553\n",
       "  0.0490369    -0.166411     -0.0345385  …   0.107781     0.192096\n",
       "  0.141688      0.122598      0.180296       0.196555     0.0627094\n",
       " -0.191573      0.0558736    -0.143907      -0.13253     -0.0861464\n",
       "  ⋮                                      ⋱               \n",
       "  0.123454      0.153193      0.118483       0.168216     0.101393\n",
       "  0.0587345    -0.041411      0.0758117      0.0334502   -0.153747\n",
       "  0.000614886   0.00540349    0.158359   …  -0.0163137   -0.158334\n",
       "  0.040623      0.154213      0.0814039      0.0356227    0.0130764\n",
       " -0.146355     -0.0957713    -0.0558027     -0.138166     0.185605\n",
       "  0.0965039     0.0700368     0.140219       0.0105684   -0.0962444\n",
       " -0.0245955    -0.0146711    -0.0550422     -0.053213     0.153549\n",
       "  0.0416806     0.107261      0.0747633  …   0.216258     0.131079\n",
       "  0.0103534     0.0493243     0.0741493      0.010571    -0.0689884\n",
       "  0.152019      0.044736      0.0367492      0.00898317   0.0873372\n",
       " -0.011232     -0.00694916    0.0598775      0.0672125    0.0309959\n",
       " -0.144981      0.074527     -0.0372913     -0.119481     0.0276612"
      ]
     },
     "execution_count": 6,
     "metadata": {},
     "output_type": "execute_result"
    }
   ],
   "source": [
    "word2vec_model = wordvectors(\"D:\\\\Downloads\\\\tweets-vec.txt\")\n",
    "df = getdf(\"D:\\\\Downloads\\\\trainingandtestdata\\\\train.csv\")\n",
    "function cosine(vectors, tweet, n=10)\n",
    "    metrics = vectors'*tweet\n",
    "    topn_positions = sortperm(metrics[:], rev = true)[1:n]\n",
    "    topn_metrics = metrics[topn_positions]\n",
    "    return topn_positions, topn_metrics\n",
    "end\n",
    "function cosine_similar_tweets(vectors, tweets, tweet, n=10)\n",
    "    index, metr = cosine(vectors, tweet, n)\n",
    "    return tweets[index]\n",
    "end\n",
    "mag(x) = sqrt(sum(x.^2))\n",
    "function createFeatureVector(sentence)\n",
    "    wordCount = 0\n",
    "    vector = zeros(size(word2vec_model)[1])\n",
    "    sentence = split(sentence)\n",
    "    for word in sentence\n",
    "        try\n",
    "            vector =  vector + get_vector(word2vec_model, word)\n",
    "            wordCount = wordCount + 1\n",
    "        catch\n",
    "            nothing\n",
    "        end\n",
    "    end\n",
    "    if wordCount > 0\n",
    "        vector = vector / mag(vector)\n",
    "    end\n",
    "    return vector\n",
    "end\n",
    "denoised_tweets = removenoise.(df.tweet)\n",
    "features = hcat(createFeatureVector.(denoised_tweets)...) # hcat converts Array{Array{Float64,1},1} "
   ]
  },
  {
   "cell_type": "code",
   "execution_count": 7,
   "metadata": {},
   "outputs": [
    {
     "data": {
      "text/plain": [
       "0x000000ea"
      ]
     },
     "execution_count": 7,
     "metadata": {},
     "output_type": "execute_result"
    }
   ],
   "source": [
    "simPhraseWin = GtkWindow(\"Similar Phrase\", 400, 400,visible = false)\n",
    "prompt2 = GtkLabel(\"\")\n",
    "GAccessor.markup(prompt,\"\"\"<b>Please enter in a sentence or phrase that you wish to find similar examples of.</b>\\n\"\"\")\n",
    "#User entry\n",
    "ent2 = GtkEntry()\n",
    "set_gtk_property!(ent2,:text, \"Enter text here... \")\n",
    "\n",
    "# set_gtk_property!(ent,:default-width, 400)\n",
    "enterButton2 = GtkButton(\"Enter\")\n",
    "hbox2 = GtkBox(:h)\n",
    "push!(hbox2, ent2)\n",
    "push!(hbox2, enterButton2)\n",
    "\n",
    "label2 = GtkLabel(\"\")\n",
    "vbox2 = GtkBox(:v)\n",
    "homeButton2 = GtkButton(\"Home\")\n",
    "push!(vbox2,prompt2)\n",
    "push!(vbox2, hbox2)\n",
    "push!(vbox2, label2)\n",
    "push!(vbox2, homeButton2)\n",
    "push!(simPhraseWin, vbox2)\n",
    "function on_enter_click2(w)\n",
    "    str = get_gtk_property(ent2,:text,String)\n",
    "    tweet_vector = createFeatureVector(removenoise(str))\n",
    "    similar_tweets = cosine_similar_tweets(features, df.tweet, tweet_vector, 5)\n",
    "    similar_tweet_label = join(similar_tweets, \"\\n\")\n",
    "    GAccessor.text(label2,string(similar_tweet_label))\n",
    "#     ls = GtkListStore(String, Int, Bool)\n",
    "#     for tweet in similar_tweets\n",
    "#         push!(ls,tweet)\n",
    "#     end\n",
    "#     rTxt = GtkCellRendererText()\n",
    "#     c1 = GtkTreeViewColumn(\"Tweet\", rTxt, Dict([(\"text\",0)]))\n",
    "#     push!(tv, c1)\n",
    "#     pop!(simPhraseWin, vbox2)\n",
    "#     push!(vbox2, tv)\n",
    "end\n",
    "signal_connect(on_enter_click2, enterButton2,\"clicked\")"
   ]
  },
  {
   "cell_type": "markdown",
   "metadata": {},
   "source": [
    "### The Following is for ploting positive and negative words "
   ]
  },
  {
   "cell_type": "code",
   "execution_count": 8,
   "metadata": {},
   "outputs": [
    {
     "data": {
      "text/plain": [
       "GtkWindowLeaf(name=\"\", parent, width-request=-1, height-request=-1, visible=FALSE, sensitive=TRUE, app-paintable=FALSE, can-focus=FALSE, has-focus=FALSE, is-focus=FALSE, focus-on-click=TRUE, can-default=FALSE, has-default=FALSE, receives-default=FALSE, composite-child=FALSE, style, events=0, no-show-all=FALSE, has-tooltip=FALSE, tooltip-markup=NULL, tooltip-text=NULL, window, opacity=1.000000, double-buffered, halign=GTK_ALIGN_FILL, valign=GTK_ALIGN_FILL, margin-left, margin-right, margin-start=0, margin-end=0, margin-top=0, margin-bottom=0, margin=0, hexpand=FALSE, vexpand=FALSE, hexpand-set=FALSE, vexpand-set=FALSE, expand=FALSE, scale-factor=1, border-width=0, resize-mode, child, type=GTK_WINDOW_TOPLEVEL, title=\"Positve and Negative Word Plot\", role=NULL, resizable=TRUE, modal=FALSE, window-position=GTK_WIN_POS_NONE, default-width=400, default-height=400, destroy-with-parent=FALSE, hide-titlebar-when-maximized=FALSE, icon, icon-name=NULL, screen, type-hint=GDK_WINDOW_TYPE_HINT_NORMAL, skip-taskbar-hint=FALSE, skip-pager-hint=FALSE, urgency-hint=FALSE, accept-focus=TRUE, focus-on-map=TRUE, decorated=TRUE, deletable=TRUE, gravity=GDK_GRAVITY_NORTH_WEST, transient-for, attached-to, has-resize-grip, resize-grip-visible, application, is-active=FALSE, has-toplevel-focus=FALSE, startup-id, mnemonics-visible=FALSE, focus-visible=FALSE, is-maximized=FALSE)"
      ]
     },
     "execution_count": 8,
     "metadata": {},
     "output_type": "execute_result"
    }
   ],
   "source": [
    "posNegWin = GtkWindow(\"Positve and Negative Word Plot\", 400,400,visible = false)"
   ]
  },
  {
   "cell_type": "markdown",
   "metadata": {},
   "source": [
    "### The Following is for displaying model accuracy and comparions "
   ]
  },
  {
   "cell_type": "code",
   "execution_count": 9,
   "metadata": {},
   "outputs": [
    {
     "data": {
      "text/plain": [
       "GtkWindowLeaf(name=\"\", parent, width-request=-1, height-request=-1, visible=FALSE, sensitive=TRUE, app-paintable=FALSE, can-focus=FALSE, has-focus=FALSE, is-focus=FALSE, focus-on-click=TRUE, can-default=FALSE, has-default=FALSE, receives-default=FALSE, composite-child=FALSE, style, events=0, no-show-all=FALSE, has-tooltip=FALSE, tooltip-markup=NULL, tooltip-text=NULL, window, opacity=1.000000, double-buffered, halign=GTK_ALIGN_FILL, valign=GTK_ALIGN_FILL, margin-left, margin-right, margin-start=0, margin-end=0, margin-top=0, margin-bottom=0, margin=0, hexpand=FALSE, vexpand=FALSE, hexpand-set=FALSE, vexpand-set=FALSE, expand=FALSE, scale-factor=1, border-width=0, resize-mode, child, type=GTK_WINDOW_TOPLEVEL, title=\"Display Model Accuracy\", role=NULL, resizable=TRUE, modal=FALSE, window-position=GTK_WIN_POS_NONE, default-width=400, default-height=400, destroy-with-parent=FALSE, hide-titlebar-when-maximized=FALSE, icon, icon-name=NULL, screen, type-hint=GDK_WINDOW_TYPE_HINT_NORMAL, skip-taskbar-hint=FALSE, skip-pager-hint=FALSE, urgency-hint=FALSE, accept-focus=TRUE, focus-on-map=TRUE, decorated=TRUE, deletable=TRUE, gravity=GDK_GRAVITY_NORTH_WEST, transient-for, attached-to, has-resize-grip, resize-grip-visible, application, is-active=FALSE, has-toplevel-focus=FALSE, startup-id, mnemonics-visible=FALSE, focus-visible=FALSE, is-maximized=FALSE)"
      ]
     },
     "execution_count": 9,
     "metadata": {},
     "output_type": "execute_result"
    }
   ],
   "source": [
    "modelDisplayWin = GtkWindow(\"Display Model Accuracy\", 400, 400,visible = false)"
   ]
  },
  {
   "cell_type": "markdown",
   "metadata": {},
   "source": [
    "### Functions for changing windows"
   ]
  },
  {
   "cell_type": "code",
   "execution_count": 10,
   "metadata": {},
   "outputs": [
    {
     "data": {
      "text/plain": [
       "0x00000124"
      ]
     },
     "execution_count": 10,
     "metadata": {},
     "output_type": "execute_result"
    }
   ],
   "source": [
    "function on_sentID_click(w)\n",
    "    visible(mainWin, false)\n",
    "    Gtk.showall(sentWin)\n",
    "end\n",
    "function on_simPhrase_click(w)\n",
    "    visible(mainWin, false)\n",
    "    Gtk.showall(simPhraseWin)\n",
    "end\n",
    "function on_PosNeg_click(w)\n",
    "    visible(mainWin, false)\n",
    "    Gtk.showall(posNegWin)\n",
    "end\n",
    "function on_modelDisp_click(w)\n",
    "    visible(mainWin, false)\n",
    "    Gtk.showall(modelDisplayWin)\n",
    "end\n",
    "function on_home_click(w)\n",
    "    visible(sentWin, false)\n",
    "    Gtk.showall(mainWin)\n",
    "end   \n",
    "function on_home_click2(w)\n",
    "    visible(simPhraseWin, false)\n",
    "    Gtk.showall(mainWin)\n",
    "end   \n",
    "signal_connect(on_home_click2, homeButton2, \"clicked\")\n",
    "\n",
    "\n",
    "signal_connect(on_home_click, homeButton, \"clicked\")\n",
    "signal_connect(on_sentID_click, sentimentID,\"clicked\")\n",
    "signal_connect(on_simPhrase_click, similarPhrase,\"clicked\")\n",
    "signal_connect(on_PosNeg_click, posVsNeg,\"clicked\")\n",
    "signal_connect(on_modelDisp_click, modelComparison,\"clicked\")"
   ]
  },
  {
   "cell_type": "code",
   "execution_count": 11,
   "metadata": {},
   "outputs": [
    {
     "data": {
      "text/plain": [
       "GtkWindowLeaf(name=\"\", parent, width-request=-1, height-request=-1, visible=TRUE, sensitive=TRUE, app-paintable=FALSE, can-focus=FALSE, has-focus=FALSE, is-focus=FALSE, focus-on-click=TRUE, can-default=FALSE, has-default=FALSE, receives-default=FALSE, composite-child=FALSE, style, events=0, no-show-all=FALSE, has-tooltip=FALSE, tooltip-markup=NULL, tooltip-text=NULL, window, opacity=1.000000, double-buffered, halign=GTK_ALIGN_FILL, valign=GTK_ALIGN_FILL, margin-left, margin-right, margin-start=0, margin-end=0, margin-top=0, margin-bottom=0, margin=0, hexpand=FALSE, vexpand=FALSE, hexpand-set=FALSE, vexpand-set=FALSE, expand=FALSE, scale-factor=1, border-width=0, resize-mode, child, type=GTK_WINDOW_TOPLEVEL, title=\"Home\", role=NULL, resizable=TRUE, modal=FALSE, window-position=GTK_WIN_POS_NONE, default-width=400, default-height=295, destroy-with-parent=FALSE, hide-titlebar-when-maximized=FALSE, icon, icon-name=NULL, screen, type-hint=GDK_WINDOW_TYPE_HINT_NORMAL, skip-taskbar-hint=FALSE, skip-pager-hint=FALSE, urgency-hint=FALSE, accept-focus=TRUE, focus-on-map=TRUE, decorated=TRUE, deletable=TRUE, gravity=GDK_GRAVITY_NORTH_WEST, transient-for, attached-to, has-resize-grip, resize-grip-visible, application, is-active=TRUE, has-toplevel-focus=TRUE, startup-id, mnemonics-visible=FALSE, focus-visible=FALSE, is-maximized=FALSE)"
      ]
     },
     "execution_count": 11,
     "metadata": {},
     "output_type": "execute_result"
    }
   ],
   "source": [
    "Gtk.showall(mainWin)  \n"
   ]
  },
  {
   "cell_type": "code",
   "execution_count": null,
   "metadata": {},
   "outputs": [],
   "source": []
  },
  {
   "cell_type": "code",
   "execution_count": null,
   "metadata": {},
   "outputs": [],
   "source": []
  },
  {
   "cell_type": "raw",
   "metadata": {},
   "source": []
  },
  {
   "cell_type": "code",
   "execution_count": null,
   "metadata": {},
   "outputs": [],
   "source": []
  }
 ],
 "metadata": {
  "kernelspec": {
   "display_name": "Julia 1.5.2",
   "language": "julia",
   "name": "julia-1.5"
  },
  "language_info": {
   "file_extension": ".jl",
   "mimetype": "application/julia",
   "name": "julia",
   "version": "1.5.2"
  }
 },
 "nbformat": 4,
 "nbformat_minor": 4
}
